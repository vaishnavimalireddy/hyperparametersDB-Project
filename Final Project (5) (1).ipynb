{
 "cells": [
  {
   "cell_type": "markdown",
   "metadata": {},
   "source": [
    "# Abstract \n",
    "\n",
    "\n",
    "\n",
    "The purpose of this project is to find the important hyperparameters for different models.Hyperparameters are the parameters that are specified externally for tuning a predictive modeling problem. They tell the model how fast it should run, how much depth the tree should go etc. We cannot detect the best value of hyperparameter for the model, so we do trial and error method by randomly choosing and running the values. This is a hectic task for data scientists as it is time consuming process. Hence,a database should be  created containing the information of best hyperparameters for all the algorithms for different runtimes. So in this project, we use H2O AutoML to generate best models for six different runtimes - 333,500,700,1300,1500 and the parameters for each model is stored in JSON file and sent to database team to store those parameters in a database. And after getting the csv file from database from which has all the hyperparameter values for all the models with all runtimes together, analysis has been done to find important hyperparameters and to find the range of each hyperparameter in all the models and also compared how the hyperparameter values differ in each algorithm    "
   ]
  },
  {
   "cell_type": "markdown",
   "metadata": {},
   "source": [
    "### Data Exploration\n",
    "\n",
    "Importing the H20, pandas, csv, json package which is used for data manupulation and for storing model in csv and json. H2O is an open source software in machine learning platflorm "
   ]
  },
  {
   "cell_type": "code",
   "execution_count": 23,
   "metadata": {},
   "outputs": [],
   "source": [
    "#importing t\n",
    "import h2o\n",
    "from h2o.automl import H2OAutoML\n",
    "import random, os, sys\n",
    "from datetime import datetime\n",
    "import pandas as pd\n",
    "import logging\n",
    "import csv\n",
    "import optparse\n",
    "import time\n",
    "import json\n",
    "from distutils.util import strtobool\n",
    "import psutil\n",
    "\n",
    "import warnings\n",
    "warnings.filterwarnings('ignore')\n",
    "\n"
   ]
  },
  {
   "cell_type": "code",
   "execution_count": 24,
   "metadata": {},
   "outputs": [
    {
     "name": "stdout",
     "output_type": "stream",
     "text": [
      "Checking whether there is an H2O instance running at http://localhost:19029..... not found.\n",
      "Attempting to start a local H2O server...\n",
      "  Java Version: java version \"1.8.0_101\"; Java(TM) SE Runtime Environment (build 1.8.0_101-b13); Java HotSpot(TM) 64-Bit Server VM (build 25.101-b13, mixed mode)\n",
      "  Starting server from /Applications/anaconda3/lib/python3.7/site-packages/h2o/backend/bin/h2o.jar\n",
      "  Ice root: /var/folders/gf/p944hdxd7jq73_9cxfglxn540000gn/T/tmpshy20khm\n",
      "  JVM stdout: /var/folders/gf/p944hdxd7jq73_9cxfglxn540000gn/T/tmpshy20khm/h2o_vaish_started_from_python.out\n",
      "  JVM stderr: /var/folders/gf/p944hdxd7jq73_9cxfglxn540000gn/T/tmpshy20khm/h2o_vaish_started_from_python.err\n",
      "  Server is running at http://127.0.0.1:19029\n",
      "Connecting to H2O server at http://127.0.0.1:19029... successful.\n"
     ]
    },
    {
     "data": {
      "text/html": [
       "<div style=\"overflow:auto\"><table style=\"width:50%\"><tr><td>H2O cluster uptime:</td>\n",
       "<td>02 secs</td></tr>\n",
       "<tr><td>H2O cluster timezone:</td>\n",
       "<td>America/New_York</td></tr>\n",
       "<tr><td>H2O data parsing timezone:</td>\n",
       "<td>UTC</td></tr>\n",
       "<tr><td>H2O cluster version:</td>\n",
       "<td>3.22.1.6</td></tr>\n",
       "<tr><td>H2O cluster version age:</td>\n",
       "<td>1 month and 12 days </td></tr>\n",
       "<tr><td>H2O cluster name:</td>\n",
       "<td>H2O_from_python_vaish_zp0pin</td></tr>\n",
       "<tr><td>H2O cluster total nodes:</td>\n",
       "<td>1</td></tr>\n",
       "<tr><td>H2O cluster free memory:</td>\n",
       "<td>4.792 Gb</td></tr>\n",
       "<tr><td>H2O cluster total cores:</td>\n",
       "<td>8</td></tr>\n",
       "<tr><td>H2O cluster allowed cores:</td>\n",
       "<td>8</td></tr>\n",
       "<tr><td>H2O cluster status:</td>\n",
       "<td>accepting new members, healthy</td></tr>\n",
       "<tr><td>H2O connection url:</td>\n",
       "<td>http://127.0.0.1:19029</td></tr>\n",
       "<tr><td>H2O connection proxy:</td>\n",
       "<td>None</td></tr>\n",
       "<tr><td>H2O internal security:</td>\n",
       "<td>False</td></tr>\n",
       "<tr><td>H2O API Extensions:</td>\n",
       "<td>Amazon S3, XGBoost, Algos, AutoML, Core V3, Core V4</td></tr>\n",
       "<tr><td>Python version:</td>\n",
       "<td>3.7.1 final</td></tr></table></div>"
      ],
      "text/plain": [
       "--------------------------  ---------------------------------------------------\n",
       "H2O cluster uptime:         02 secs\n",
       "H2O cluster timezone:       America/New_York\n",
       "H2O data parsing timezone:  UTC\n",
       "H2O cluster version:        3.22.1.6\n",
       "H2O cluster version age:    1 month and 12 days\n",
       "H2O cluster name:           H2O_from_python_vaish_zp0pin\n",
       "H2O cluster total nodes:    1\n",
       "H2O cluster free memory:    4.792 Gb\n",
       "H2O cluster total cores:    8\n",
       "H2O cluster allowed cores:  8\n",
       "H2O cluster status:         accepting new members, healthy\n",
       "H2O connection url:         http://127.0.0.1:19029\n",
       "H2O connection proxy:\n",
       "H2O internal security:      False\n",
       "H2O API Extensions:         Amazon S3, XGBoost, Algos, AutoML, Core V3, Core V4\n",
       "Python version:             3.7.1 final\n",
       "--------------------------  ---------------------------------------------------"
      ]
     },
     "metadata": {},
     "output_type": "display_data"
    }
   ],
   "source": [
    "port_no=random.randint(5555,55555)\n",
    "h2o.init(strict_version_check=False,min_mem_size_GB=5,port=port_no)"
   ]
  },
  {
   "cell_type": "markdown",
   "metadata": {},
   "source": [
    "##### For the H2o server to tun, a port number  is chosen between the random numbers from 5555 and 55555 and initialized. Memory size of 5 GB is given for h2o."
   ]
  },
  {
   "cell_type": "code",
   "execution_count": 25,
   "metadata": {},
   "outputs": [
    {
     "name": "stdout",
     "output_type": "stream",
     "text": [
      "Parse progress: |█████████████████████████████████████████████████████████| 100%\n"
     ]
    }
   ],
   "source": [
    "#importing the file\n",
    "df = h2o.import_file(path=\"anime_filtered.csv\")"
   ]
  },
  {
   "cell_type": "code",
   "execution_count": 26,
   "metadata": {},
   "outputs": [],
   "source": [
    "###### the given dataset is loaded into the dataframe called df"
   ]
  },
  {
   "cell_type": "code",
   "execution_count": 27,
   "metadata": {},
   "outputs": [],
   "source": [
    "# Functions\n",
    "\n",
    "def alphabet(n):\n",
    "    alpha='0123456789abcdefghijklmnopqrstuvwxyzABCDEFGHIJKLMNOPQRSTUVWXYZ'    \n",
    "    str=''\n",
    "    r=len(alpha)-1   \n",
    "    while len(str)<n:\n",
    "        i=random.randint(0,r)\n",
    "        str+=alpha[i]   \n",
    "    return str\n",
    "  \n",
    "def set_meta_data(run_id,data,target,run_time,regression,name,path,min_mem_size):\n",
    "      m_data={}\n",
    "      m_data['start_time'] = time.time()\n",
    "      m_data['target']=target\n",
    "      m_data['data_path']=data \n",
    "      m_data['run_time']=run_time\n",
    "      m_data['run_id'] =run_id\n",
    "      m_data['regression']=regression\n",
    "      m_data['scale']=False\n",
    "      m_data['project'] =name\n",
    "      m_data['end_time'] = time.time()\n",
    "      m_data['execution_time'] = 0.0\n",
    "      m_data['run_path'] =path\n",
    "      m_data['min_mem_size'] = min_mem_size\n",
    "      m_data['balance_threshold'] = 0.2\n",
    "      return m_data\n",
    "\n",
    "\n",
    "def impute_missing_values(df, x, scal=False):\n",
    "    # determine column types\n",
    "    ints, reals, enums = [], [], []\n",
    "    for key, val in df.types.items():\n",
    "        if key in x:\n",
    "            if val == 'enum':\n",
    "                enums.append(key)\n",
    "            elif val == 'int':\n",
    "                ints.append(key)            \n",
    "            else: \n",
    "                reals.append(key)    \n",
    "    _ = df[reals].impute(method='mean')\n",
    "    _ = df[ints].impute(method='median')\n",
    "    if scal:\n",
    "        df[reals] = df[reals].scale()\n",
    "        df[ints] = df[ints].scale()    \n",
    "    return\n",
    "\n",
    "\n",
    "def get_independent_variables(df, targ):\n",
    "    C = [name for name in df.columns if name != targ]\n",
    "    # determine column types\n",
    "    ints, reals, enums = [], [], []\n",
    "    for key, val in df.types.items():\n",
    "        if key in C:\n",
    "            if val == 'enum':\n",
    "                enums.append(key)\n",
    "            elif val == 'int':\n",
    "                ints.append(key)            \n",
    "            else: \n",
    "                reals.append(key)    \n",
    "    x=ints+enums+reals\n",
    "    return x\n",
    "    \n",
    "def get_all_variables_csv(i):\n",
    "    ivd={}\n",
    "    try:\n",
    "      iv = pd.read_csv(i,header=None)\n",
    "    except:\n",
    "      sys.exit(1)    \n",
    "    col=iv.values.tolist()[0]\n",
    "    dt=iv.values.tolist()[1]\n",
    "    i=0\n",
    "    for c in col:\n",
    "      ivd[c.strip()]=dt[i].strip()\n",
    "      i+=1        \n",
    "    return ivd\n",
    "    \n",
    "    \n",
    "\n",
    "def check_all_variables(df,dct,y=None):     \n",
    "    targ=list(dct.keys())     \n",
    "    for key, val in df.types.items():\n",
    "        if key in targ:\n",
    "          if dct[key] not in ['real','int','enum']:                      \n",
    "            targ.remove(key)  \n",
    "    for key, val in df.types.items():\n",
    "        if key in targ:            \n",
    "          if dct[key] != val:\n",
    "            print('convert ',key,' ',dct[key],' ',val)\n",
    "            if dct[key]=='enum':\n",
    "                try:\n",
    "                  df[key] = df[key].asfactor() \n",
    "                except:\n",
    "                  targ.remove(key)                 \n",
    "            if dct[key]=='int': \n",
    "                try:                \n",
    "                  df[key] = df[key].asnumeric() \n",
    "                except:\n",
    "                  targ.remove(key)                  \n",
    "            if dct[key]=='real':\n",
    "                try:                \n",
    "                  df[key] = df[key].asnumeric()  \n",
    "                except:\n",
    "                  targ.remove(key)                  \n",
    "    if y is None:\n",
    "      y=df.columns[-1] \n",
    "    if y in targ:\n",
    "      targ.remove(y)\n",
    "    else:\n",
    "      y=targ.pop()            \n",
    "    return targ    \n",
    "\n",
    "\n",
    "def check_X(x,df):\n",
    "    for name in x:\n",
    "        if name not in df.columns:\n",
    "          x.remove(name)  \n",
    "    return x    \n",
    "    \n",
    "    \n",
    "\n",
    "def get_variables_types(df):\n",
    "    d={}\n",
    "    for key, val in df.types.items():\n",
    "        d[key]=val           \n",
    "    return d    \n",
    "    \n",
    "#  End Functions"
   ]
  },
  {
   "cell_type": "markdown",
   "metadata": {},
   "source": [
    "#### Functions defined for the data\n",
    "\n",
    "- alphabet(n): function generates a random string ranging from a to z, 0to 9, A to Z.\n",
    "- set_meta_data : function provide the basic meta data properties of the variable.It contains the details of run_id,model start time, model execution time\n",
    "- impute_missing_values : function is used to imute the missing values by placing them with the mean and median values corresponding to their data types.\n",
    "- get_independent_variables : function generate all the independent variables, ignoring the target value \n",
    "- get_all_variables_csv : function provides all the variable values\n",
    "- check_all_variables : function checks on the basis of datatypes, independent variables and target values \n",
    "- check_X : function checks the value of x, if it is not present in the guven dataset, value is removed\n",
    "- get_variables_types : function tell us the data type of the different variables\n",
    "\n",
    "    \n"
   ]
  },
  {
   "cell_type": "markdown",
   "metadata": {},
   "source": [
    "__Displaying the top 5 rows of the dataset__"
   ]
  },
  {
   "cell_type": "code",
   "execution_count": 28,
   "metadata": {},
   "outputs": [
    {
     "data": {
      "text/html": [
       "<table>\n",
       "<thead>\n",
       "<tr><th style=\"text-align: right;\">  anime_id</th><th>title                        </th><th>title_english               </th><th>title_japanese           </th><th>title_synonyms                                                             </th><th>image_url                                                 </th><th>type  </th><th>source     </th><th style=\"text-align: right;\">  episodes</th><th>status         </th><th>airing  </th><th>aired_string                </th><th>aired                                     </th><th>duration       </th><th>rating                   </th><th style=\"text-align: right;\">  score</th><th style=\"text-align: right;\">  scored_by</th><th style=\"text-align: right;\">  rank</th><th style=\"text-align: right;\">  popularity</th><th style=\"text-align: right;\">  members</th><th style=\"text-align: right;\">  favorites</th><th>background                                                                                                                                                                                                                          </th><th>premiered  </th><th>broadcast                </th><th>related                                                                                                                                                                                                                                                                                                                                                                                                                                                                                                                                                                                                                                                                                                                                                                                                                                                                                              </th><th>producer                                                                                    </th><th>licensor                                </th><th>studio                       </th><th>genre                                                </th><th>opening_theme                                                                                                                                                                                                                                                             </th><th>ending_theme                                                                                                                                                                                                                                                                                                                                                                                                                                                                                                                                                                                        </th></tr>\n",
       "</thead>\n",
       "<tbody>\n",
       "<tr><td style=\"text-align: right;\">     11013</td><td>Inu x Boku SS                </td><td>Inu X Boku Secret Service   </td><td>妖狐×僕SS                </td><td>Youko x Boku SS                                                            </td><td>https://myanimelist.cdn-dena.com/images/anime/12/35893.jpg</td><td>TV    </td><td>Manga      </td><td style=\"text-align: right;\">        12</td><td>Finished Airing</td><td>False   </td><td>Jan 13, 2012 to Mar 30, 2012</td><td>{'from': '2012-01-13', 'to': '2012-03-30'}</td><td>24 min. per ep.</td><td>PG-13 - Teens 13 or older</td><td style=\"text-align: right;\">   7.63</td><td style=\"text-align: right;\">     139250</td><td style=\"text-align: right;\">  1274</td><td style=\"text-align: right;\">         231</td><td style=\"text-align: right;\">   283882</td><td style=\"text-align: right;\">       2809</td><td>Inu x Boku SS was licensed by Sentai Filmworks for North America, while MVM Films licensed it for the United Kingdom. During April 2013, Hanabee Entertainment released the series on DVD and Blu-ray for Australia and New Zealand.</td><td>Winter 2012</td><td>Fridays at Unknown       </td><td>{'Adaptation': [{'mal_id': 17207, 'type': 'manga', 'url': 'https://myanimelist.net/manga/17207/Inu_x_Boku_SS', 'title': 'Inu x Boku SS'}], 'Sequel': [{'mal_id': 13403, 'type': 'anime', 'url': 'https://myanimelist.net/anime/13403/Inu_x_Boku_SS_Special', 'title': 'Inu x Boku SS Special'}]}                                                                                                                                                                                                                                                                                                                                                                                                                                                                                                                                                                                                     </td><td>Aniplex, Square Enix, Mainichi Broadcasting System, Movic, Inu x Boku SS Production Partners</td><td>Sentai Filmworks                        </td><td>David Production             </td><td>Comedy, Supernatural, Romance, Shounen               </td><td>['\"Nirvana\" by MUCC']                                                                                                                                                                                                                                                     </td><td>['#1: \"Nirvana\" by MUCC (eps 1, 11-12)', '#2: \"Rakuen no Photograph (楽園のPhotograph)\" by Soushi Miketsukami (Yuichi Nakamura) (eps 2, 9)', '#3: \"Kimi wa (君は)\" by Ririchiyo Shirakiin (Rina Hidaka) (eps 3, 8)', '#4: \"one way\" by Banri Watanuki (Takuya Eguchi) & Zange Natsume (Mamoru Miyano) (ep 4)', '#5: \"SM Hantei Forum (SM判定フォーラム)\" by Kagerou Shoukiin (Tomokazu Sugita) (ep 5, 10)', '#6: \"sweets parade\" by Karuta Roromiya (Kana Hanazawa) (ep 6)', '#7: \"Taiyou to Tsuki (太陽と月)\" by Renshou Sorinozuka (Yoshimasa Hosoya) & Nobara Yukinokouji (Youko Hikasa) (ep 7)']</td></tr>\n",
       "<tr><td style=\"text-align: right;\">      2104</td><td>Seto no Hanayome             </td><td>My Bride is a Mermaid       </td><td>瀬戸の花嫁               </td><td>The Inland Sea Bride                                                       </td><td>https://myanimelist.cdn-dena.com/images/anime/13/58383.jpg</td><td>TV    </td><td>Manga      </td><td style=\"text-align: right;\">        26</td><td>Finished Airing</td><td>False   </td><td>Apr 2, 2007 to Oct 1, 2007  </td><td>{'from': '2007-04-02', 'to': '2007-10-01'}</td><td>24 min. per ep.</td><td>PG-13 - Teens 13 or older</td><td style=\"text-align: right;\">   7.89</td><td style=\"text-align: right;\">      91206</td><td style=\"text-align: right;\">   727</td><td style=\"text-align: right;\">         366</td><td style=\"text-align: right;\">   204003</td><td style=\"text-align: right;\">       2579</td><td>                                                                                                                                                                                                                                    </td><td>Spring 2007</td><td>Unknown                  </td><td>{'Adaptation': [{'mal_id': 759, 'type': 'manga', 'url': 'https://myanimelist.net/manga/759/Seto_no_Hanayome', 'title': 'Seto no Hanayome'}], 'Sequel': [{'mal_id': 4163, 'type': 'anime', 'url': 'https://myanimelist.net/anime/4163/Seto_no_Hanayome_OVA', 'title': 'Seto no Hanayome OVA'}], 'Side story': [{'mal_id': 5199, 'type': 'anime', 'url': 'https://myanimelist.net/anime/5199/Seto_no_Hanayome_Fan_Disc', 'title': 'Seto no Hanayome Fan Disc'}], 'Alternative version': [{'mal_id': 28385, 'type': 'anime', 'url': 'https://myanimelist.net/anime/28385/Seto_no_Hanayome_Picture_Drama', 'title': 'Seto no Hanayome Picture Drama'}]}                                                                                                                                                                                                                                                  </td><td>TV Tokyo, AIC, Square Enix, Sotsu                                                           </td><td>Funimation                              </td><td>Gonzo                        </td><td>Comedy, Parody, Romance, School, Shounen             </td><td>['\"Romantic summer\" by SUN&LUNAR']                                                                                                                                                                                                                                        </td><td>['#1: \"Ashita e no Hikari (明日への光)\" by Asuka Hinoi (1-13, 26)', '#2: \"Dan Dan Dan\" by SUN&LUNAR (eps 14-25)']                                                                                                                                                                                                                                                                                                                                                                                                                                                                                   </td></tr>\n",
       "<tr><td style=\"text-align: right;\">      5262</td><td>Shugo Chara!! Doki           </td><td>Shugo Chara!! Doki          </td><td>しゅごキャラ！！どきっ   </td><td>Shugo Chara Ninenme, Shugo Chara! Second Year                              </td><td>https://myanimelist.cdn-dena.com/images/anime/11/10645.jpg</td><td>TV    </td><td>Manga      </td><td style=\"text-align: right;\">        51</td><td>Finished Airing</td><td>False   </td><td>Oct 4, 2008 to Sep 25, 2009 </td><td>{'from': '2008-10-04', 'to': '2009-09-25'}</td><td>24 min. per ep.</td><td>PG - Children            </td><td style=\"text-align: right;\">   7.55</td><td style=\"text-align: right;\">      37129</td><td style=\"text-align: right;\">  1508</td><td style=\"text-align: right;\">        1173</td><td style=\"text-align: right;\">    70127</td><td style=\"text-align: right;\">        802</td><td>                                                                                                                                                                                                                                    </td><td>Fall 2008  </td><td>Unknown                  </td><td>{'Adaptation': [{'mal_id': 101, 'type': 'manga', 'url': 'https://myanimelist.net/manga/101/Shugo_Chara', 'title': 'Shugo Chara!'}], 'Prequel': [{'mal_id': 2923, 'type': 'anime', 'url': 'https://myanimelist.net/anime/2923/Shugo_Chara', 'title': 'Shugo Chara!'}], 'Sequel': [{'mal_id': 7082, 'type': 'anime', 'url': 'https://myanimelist.net/anime/7082/Shugo_Chara_Party', 'title': 'Shugo Chara! Party!'}]}                                                                                                                                                                                                                                                                                                                                                                                                                                                                                  </td><td>TV Tokyo, Sotsu                                                                             </td><td>                                        </td><td>Satelight                    </td><td>Comedy, Magic, School, Shoujo                        </td><td>['#1: \"Minna no Tamago (みんなのたまご)\" by Shugo Chara Egg (eps 1-13)', '#2: \"Shugo Shugo! (しゅごしゅご!)\" by Shugo Chara Egg (eps 14-25)', '#3: \"Omakase♪Guardian (おまかせ♪ガーディアン)\" by Guardians 4 (eps 26-38)', '#4: \"School Days\" by Guardians 4 (eps 39-51)']</td><td>['#1: \"Rottara Rottara (ロッタラ ロッタラ)\" by Buono! (eps 1-17)', '#2: \"co.no.mi.chi\" Buono! (eps 18-25)', '#3: \"MY BOY\" by Buono! (eps 26-38)', '#4: \"Take it Easy!\" by Buono! (eps. 39-50)', '#5: \"Honto no Jibun (ホントのじぶん)\" by Buono! (ep 51)']                                                                                                                                                                                                                                                                                                                                          </td></tr>\n",
       "<tr><td style=\"text-align: right;\">       721</td><td>Princess Tutu                </td><td>Princess Tutu               </td><td>プリンセスチュチュ       </td><td>                                                                           </td><td>https://myanimelist.cdn-dena.com/images/anime/13/32209.jpg</td><td>TV    </td><td>Original   </td><td style=\"text-align: right;\">        38</td><td>Finished Airing</td><td>False   </td><td>Aug 16, 2002 to May 23, 2003</td><td>{'from': '2002-08-16', 'to': '2003-05-23'}</td><td>16 min. per ep.</td><td>PG-13 - Teens 13 or older</td><td style=\"text-align: right;\">   8.21</td><td style=\"text-align: right;\">      36501</td><td style=\"text-align: right;\">   307</td><td style=\"text-align: right;\">         916</td><td style=\"text-align: right;\">    93312</td><td style=\"text-align: right;\">       3344</td><td>Princess Tutu aired in two parts. The first part included 13 25-minute-long episodes, while the second part consisted of 24 12-minute-long episodes with a 25-minute-long final episode for a total of 25 episodes.                 </td><td>Summer 2002</td><td>Fridays at Unknown       </td><td>{'Adaptation': [{'mal_id': 1581, 'type': 'manga', 'url': 'https://myanimelist.net/manga/1581/Princess_Tutu', 'title': 'Princess Tutu'}], 'Summary': [{'mal_id': 3265, 'type': 'anime', 'url': 'https://myanimelist.net/anime/3265/Princess_Tutu_Recaps', 'title': 'Princess Tutu Recaps'}]}                                                                                                                                                                                                                                                                                                                                                                                                                                                                                                                                                                                                          </td><td>Memory-Tech, GANSIS, Marvelous AQL                                                          </td><td>ADV Films                               </td><td>Hal Film Maker               </td><td>Comedy, Drama, Magic, Romance, Fantasy               </td><td>['\"Morning Grace\" by Ritsuko Okazaki']                                                                                                                                                                                                                                    </td><td>['\"Watashi No Ai Wa Chiisaikeredo\" by Ritsuko Okazaki']                                                                                                                                                                                                                                                                                                                                                                                                                                                                                                                                             </td></tr>\n",
       "<tr><td style=\"text-align: right;\">     12365</td><td>Bakuman. 3rd Season          </td><td>Bakuman.                    </td><td>バクマン。               </td><td>Bakuman Season 3                                                           </td><td>https://myanimelist.cdn-dena.com/images/anime/6/41845.jpg </td><td>TV    </td><td>Manga      </td><td style=\"text-align: right;\">        25</td><td>Finished Airing</td><td>False   </td><td>Oct 6, 2012 to Mar 30, 2013 </td><td>{'from': '2012-10-06', 'to': '2013-03-30'}</td><td>24 min. per ep.</td><td>PG-13 - Teens 13 or older</td><td style=\"text-align: right;\">   8.67</td><td style=\"text-align: right;\">     107767</td><td style=\"text-align: right;\">    50</td><td style=\"text-align: right;\">         426</td><td style=\"text-align: right;\">   182765</td><td style=\"text-align: right;\">       2082</td><td>                                                                                                                                                                                                                                    </td><td>Fall 2012  </td><td>Unknown                  </td><td>{'Adaptation': [{'mal_id': 9711, 'type': 'manga', 'url': 'https://myanimelist.net/manga/9711/Bakuman', 'title': 'Bakuman.'}], 'Prequel': [{'mal_id': 10030, 'type': 'anime', 'url': 'https://myanimelist.net/anime/10030/Bakuman_2nd_Season', 'title': 'Bakuman. 2nd Season'}, {'mal_id': 15711, 'type': 'anime', 'url': 'https://myanimelist.net/anime/15711/Bakuman__Deraman', 'title': 'Bakuman.: Deraman.'}], 'Other': [{'mal_id': 23361, 'type': 'anime', 'url': 'https://myanimelist.net/anime/23361/Bakuman_3rd_Season_Specials', 'title': 'Bakuman. 3rd Season Specials'}]}                                                                                                                                                                                                                                                                                                                  </td><td>NHK, Shueisha                                                                               </td><td>                                        </td><td>J.C.Staff                    </td><td>Comedy, Drama, Romance, Shounen                      </td><td>['#1: \"Moshimo no Hanashi (もしもの話)\" by nano.RIPE (eps 1-13)', '#2: \"23:40 (23時40分) feat. Base Ball Bear\" by Hyadain (eps 14-25)']                                                                                                                                   </td><td>['#1: \"Pride on Everyday\" by Sphere (eps 1-13)', '#2: \"Yume Sketch (夢スケッチ)\" by JAM Project (eps 14-24)', '#3: \"Moshimo no Hanashi (もしもの話)\" by nano.RIPE (ep 25)']                                                                                                                                                                                                                                                                                                                                                                                                                         </td></tr>\n",
       "<tr><td style=\"text-align: right;\">      6586</td><td>Yume-iro Pâtissière          </td><td>                            </td><td>夢色パティシエール       </td><td>Yumeiro Patissiere, YumePati, Dream-Colored Pastry Chef, Yumeiro Pâtissière</td><td>https://myanimelist.cdn-dena.com/images/anime/12/21674.jpg</td><td>TV    </td><td>Manga      </td><td style=\"text-align: right;\">        50</td><td>Finished Airing</td><td>False   </td><td>Oct 4, 2009 to Sep 26, 2010 </td><td>{'from': '2009-10-04', 'to': '2010-09-26'}</td><td>24 min. per ep.</td><td>G - All Ages             </td><td style=\"text-align: right;\">   8.03</td><td style=\"text-align: right;\">      21618</td><td style=\"text-align: right;\">   526</td><td style=\"text-align: right;\">        1630</td><td style=\"text-align: right;\">    45625</td><td style=\"text-align: right;\">        826</td><td>                                                                                                                                                                                                                                    </td><td>Fall 2009  </td><td>Unknown                  </td><td>{'Adaptation': [{'mal_id': 10386, 'type': 'manga', 'url': 'https://myanimelist.net/manga/10386/Yume-iro_Pâtissière', 'title': 'Yume-iro Pâtissière'}], 'Side story': [{'mal_id': 8894, 'type': 'anime', 'url': 'https://myanimelist.net/anime/8894/Yume-iro_Pâtissière__Mune_Kyun_Tropical_Island', 'title': 'Yume-iro Pâtissière: Mune Kyun Tropical Island!'}], 'Sequel': [{'mal_id': 9441, 'type': 'anime', 'url': 'https://myanimelist.net/anime/9441/Yume-iro_Pâtissière_SP_Professional', 'title': 'Yume-iro Pâtissière SP Professional'}]}                                                                                                                                                                                                                                                                                                                                                    </td><td>Yomiuri Telecasting, DAX Production, Shueisha                                               </td><td>                                        </td><td>Studio Pierrot, Studio Hibari</td><td>Kids, School, Shoujo                                 </td><td>['\"Yume ni Yell! Patissiere♪ (夢にエール！パティシエール♪)\" by Mayumi Gojou']                                                                                                                                                                                             </td><td>['\"Ichigo no Miracle (いちごのミラクルール)\" by Yukina Sugihara']                                                                                                                                                                                                                                                                                                                                                                                                                                                                                                                                   </td></tr>\n",
       "<tr><td style=\"text-align: right;\">       178</td><td>Ultra Maniac                 </td><td>Ultramaniac - Magical Girl  </td><td>ウルトラマニアック       </td><td>                                                                           </td><td>https://myanimelist.cdn-dena.com/images/anime/8/53571.jpg </td><td>TV    </td><td>Manga      </td><td style=\"text-align: right;\">        26</td><td>Finished Airing</td><td>False   </td><td>May 20, 2003 to Nov 11, 2003</td><td>{'from': '2003-05-20', 'to': '2003-11-11'}</td><td>24 min. per ep.</td><td>G - All Ages             </td><td style=\"text-align: right;\">   7.26</td><td style=\"text-align: right;\">       9663</td><td style=\"text-align: right;\">  2594</td><td style=\"text-align: right;\">        2490</td><td style=\"text-align: right;\">    22778</td><td style=\"text-align: right;\">        122</td><td>                                                                                                                                                                                                                                    </td><td>Spring 2003</td><td>Tuesdays at 22:00 (JST)  </td><td>{'Adaptation': [{'mal_id': 956, 'type': 'manga', 'url': 'https://myanimelist.net/manga/956/Ultra_Maniac', 'title': 'Ultra Maniac'}], 'Alternative version': [{'mal_id': 179, 'type': 'anime', 'url': 'https://myanimelist.net/anime/179/Ultra_Maniac_OVA', 'title': 'Ultra Maniac OVA'}]}                                                                                                                                                                                                                                                                                                                                                                                                                                                                                                                                                                                                            </td><td>WAO World, Studio Jack                                                                      </td><td>Discotek Media, Geneon Entertainment USA</td><td>Production Reed              </td><td>Magic, Comedy, Romance, School, Shoujo               </td><td>['\"Kagami no Naka\" by can/goo']                                                                                                                                                                                                                                           </td><td>['\"Hitotsu=Unmei Kyoudoutai\" by can/goo']                                                                                                                                                                                                                                                                                                                                                                                                                                                                                                                                                           </td></tr>\n",
       "<tr><td style=\"text-align: right;\">      2787</td><td>Shakugan no Shana II (Second)</td><td>Shakugan no Shana: Season II</td><td>灼眼のシャナII –Second–  </td><td>Shakugan no Shana 2                                                        </td><td>https://myanimelist.cdn-dena.com/images/anime/10/18669.jpg</td><td>TV    </td><td>Light novel</td><td style=\"text-align: right;\">        24</td><td>Finished Airing</td><td>False   </td><td>Oct 5, 2007 to Mar 28, 2008 </td><td>{'from': '2007-10-05', 'to': '2008-03-28'}</td><td>24 min. per ep.</td><td>PG-13 - Teens 13 or older</td><td style=\"text-align: right;\">   7.72</td><td style=\"text-align: right;\">     126085</td><td style=\"text-align: right;\">  1066</td><td style=\"text-align: right;\">         332</td><td style=\"text-align: right;\">   220591</td><td style=\"text-align: right;\">       1075</td><td>                                                                                                                                                                                                                                    </td><td>Fall 2007  </td><td>Fridays at 01:25 (JST)   </td><td>{'Adaptation': [{'mal_id': 3074, 'type': 'manga', 'url': 'https://myanimelist.net/manga/3074/Shakugan_no_Shana', 'title': 'Shakugan no Shana'}], 'Prequel': [{'mal_id': 355, 'type': 'anime', 'url': 'https://myanimelist.net/anime/355/Shakugan_no_Shana', 'title': 'Shakugan no Shana'}], 'Spin-off': [{'mal_id': 3956, 'type': 'anime', 'url': 'https://myanimelist.net/anime/3956/Shakugan_no_Shana_II_Second_Specials', 'title': 'Shakugan no Shana II (Second) Specials'}, {'mal_id': 14957, 'type': 'anime', 'url': 'https://myanimelist.net/anime/14957/Shakugan_no_Shana__Friagne_to_Marianne_no_Naze_Nani_Shana_Nandemo_Shitsumonbako_2', 'title': 'Shakugan no Shana: Friagne to Marianne no Naze Nani Shana! Nandemo Shitsumonbako! 2'}], 'Sequel': [{'mal_id': 6572, 'type': 'anime', 'url': 'https://myanimelist.net/anime/6572/Shakugan_no_Shana_S', 'title': 'Shakugan no Shana S'}]}</td><td>Geneon Universal Entertainment, ASCII Media Works                                           </td><td>Funimation                              </td><td>J.C.Staff                    </td><td>Action, Drama, Fantasy, Romance, School, Supernatural</td><td>['#1: \"JOINT\" by Mami Kawada (eps 1-15)', '#2: \"BLAZE\" by KOTOKO (16-24)']                                                                                                                                                                                                </td><td>['#1: \"Triangle\" by Kawada Mami (eps 1-15)', '#2: \"Sociometry\" by KOTOKO (eps 16-23)', '#3: \"Sense\" by Kawada Mami (ep 24)']                                                                                                                                                                                                                                                                                                                                                                                                                                                                        </td></tr>\n",
       "<tr><td style=\"text-align: right;\">      4477</td><td>Nodame Cantabile: Paris-hen  </td><td>                            </td><td>のだめカンタービレ 巴里編</td><td>Nodame Cantabile Paris Chapter, Nodame Cantabile Pari-hen                  </td><td>https://myanimelist.cdn-dena.com/images/anime/4/11918.jpg </td><td>TV    </td><td>Manga      </td><td style=\"text-align: right;\">        11</td><td>Finished Airing</td><td>False   </td><td>Oct 10, 2008 to Dec 19, 2008</td><td>{'from': '2008-10-10', 'to': '2008-12-19'}</td><td>23 min. per ep.</td><td>PG-13 - Teens 13 or older</td><td style=\"text-align: right;\">   8.24</td><td style=\"text-align: right;\">      53908</td><td style=\"text-align: right;\">   281</td><td style=\"text-align: right;\">         988</td><td style=\"text-align: right;\">    85660</td><td style=\"text-align: right;\">        282</td><td>                                                                                                                                                                                                                                    </td><td>Fall 2008  </td><td>Fridays at 00:45 (JST)   </td><td>{'Adaptation': [{'mal_id': 419, 'type': 'manga', 'url': 'https://myanimelist.net/manga/419/Nodame_Cantabile', 'title': 'Nodame Cantabile'}], 'Prequel': [{'mal_id': 1698, 'type': 'anime', 'url': 'https://myanimelist.net/anime/1698/Nodame_Cantabile', 'title': 'Nodame Cantabile'}], 'Other': [{'mal_id': 5656, 'type': 'anime', 'url': 'https://myanimelist.net/anime/5656/PuriGorota__Uchuu_no_Yuujou_Daibouken', 'title': 'PuriGorota: Uchuu no Yuujou Daibouken'}], 'Side story': [{'mal_id': 6187, 'type': 'anime', 'url': 'https://myanimelist.net/anime/6187/Nodame_Cantabile_OVA', 'title': 'Nodame Cantabile OVA'}], 'Sequel': [{'mal_id': 8038, 'type': 'anime', 'url': 'https://myanimelist.net/anime/8038/Nodame_Cantabile_Finale_Special', 'title': 'Nodame Cantabile Finale Special'}]}                                                                                             </td><td>Fuji TV, Asmik Ace Entertainment, Sony Music Entertainment                                  </td><td>                                        </td><td>J.C.Staff                    </td><td>Music, Slice of Life, Comedy, Romance, Josei         </td><td>['\"Sky High!\" by The Gospellers']                                                                                                                                                                                                                                         </td><td>['\"東京 et 巴里 (Tokyo and Paris)\" by Emiri Miyamoto x Solita']                                                                                                                                                                                                                                                                                                                                                                                                                                                                                                                                     </td></tr>\n",
       "<tr><td style=\"text-align: right;\">       853</td><td>Ouran Koukou Host Club       </td><td>Ouran High School Host Club </td><td>桜蘭高校ホスト部         </td><td>Ohran Koko Host Club, Ouran Koukou Hosutobu, Ouran Koukou Host Bu, OHSHC   </td><td>https://myanimelist.cdn-dena.com/images/anime/2/71992.jpg </td><td>TV    </td><td>Manga      </td><td style=\"text-align: right;\">        26</td><td>Finished Airing</td><td>False   </td><td>Apr 5, 2006 to Sep 27, 2006 </td><td>{'from': '2006-04-05', 'to': '2006-09-27'}</td><td>23 min. per ep.</td><td>PG-13 - Teens 13 or older</td><td style=\"text-align: right;\">   8.34</td><td style=\"text-align: right;\">     335137</td><td style=\"text-align: right;\">   205</td><td style=\"text-align: right;\">          69</td><td style=\"text-align: right;\">   538843</td><td style=\"text-align: right;\">      24072</td><td>                                                                                                                                                                                                                                    </td><td>Spring 2006</td><td>Wednesdays at 00:50 (JST)</td><td>{'Adaptation': [{'mal_id': 30, 'type': 'manga', 'url': 'https://myanimelist.net/manga/30/Ouran_Koukou_Host_Club', 'title': 'Ouran Koukou Host Club'}]}                                                                                                                                                                                                                                                                                                                                                                                                                                                                                                                                                                                                                                                                                                                                               </td><td>VAP, Hakusensha, Nippon Television Network                                                  </td><td>Funimation                              </td><td>Bones                        </td><td>Comedy, Harem, Romance, School, Shoujo               </td><td>['\"Sakura Kiss\" by Chieko Kawabe']                                                                                                                                                                                                                                        </td><td>['\"Shissou\" by Last Alliance']                                                                                                                                                                                                                                                                                                                                                                                                                                                                                                                                                                      </td></tr>\n",
       "</tbody>\n",
       "</table>"
      ]
     },
     "metadata": {},
     "output_type": "display_data"
    },
    {
     "data": {
      "text/plain": []
     },
     "execution_count": 28,
     "metadata": {},
     "output_type": "execute_result"
    }
   ],
   "source": [
    "df.head()\n",
    "\n"
   ]
  },
  {
   "cell_type": "markdown",
   "metadata": {},
   "source": [
    "Some variables has been defined which is used to store in meta data "
   ]
  },
  {
   "cell_type": "code",
   "execution_count": 29,
   "metadata": {},
   "outputs": [],
   "source": [
    "all_variables=None\n",
    "test_path=None\n",
    "nthreads=1 \n",
    "regression=True   \n",
    "model_path=None\n",
    "balance_y=False \n",
    "balance_threshold=0.2\n",
    "name=None \n",
    "server_path=None  \n",
    "target = 'score'\n",
    "min_mem_size = 5;\n",
    "run_time=0\n",
    "data_path=\"anime_filtered.csv\"\n",
    "project =\"automl_test\""
   ]
  },
  {
   "cell_type": "code",
   "execution_count": 30,
   "metadata": {},
   "outputs": [
    {
     "data": {
      "text/plain": [
       "{'anime_id': 'int',\n",
       " 'title': 'string',\n",
       " 'title_english': 'string',\n",
       " 'title_japanese': 'string',\n",
       " 'title_synonyms': 'string',\n",
       " 'image_url': 'string',\n",
       " 'type': 'enum',\n",
       " 'source': 'enum',\n",
       " 'episodes': 'int',\n",
       " 'status': 'enum',\n",
       " 'airing': 'enum',\n",
       " 'aired_string': 'enum',\n",
       " 'aired': 'enum',\n",
       " 'duration': 'enum',\n",
       " 'rating': 'enum',\n",
       " 'score': 'real',\n",
       " 'scored_by': 'int',\n",
       " 'rank': 'int',\n",
       " 'popularity': 'int',\n",
       " 'members': 'int',\n",
       " 'favorites': 'int',\n",
       " 'background': 'string',\n",
       " 'premiered': 'enum',\n",
       " 'broadcast': 'enum',\n",
       " 'related': 'enum',\n",
       " 'producer': 'enum',\n",
       " 'licensor': 'enum',\n",
       " 'studio': 'enum',\n",
       " 'genre': 'enum',\n",
       " 'opening_theme': 'enum',\n",
       " 'ending_theme': 'enum'}"
      ]
     },
     "execution_count": 30,
     "metadata": {},
     "output_type": "execute_result"
    }
   ],
   "source": [
    "#finding the datatypes of Nan values\n",
    "df.types"
   ]
  },
  {
   "cell_type": "markdown",
   "metadata": {},
   "source": [
    "__Data Cleaning__\n",
    "\n",
    "Data cleaning is done in the model by removing all Nan values."
   ]
  },
  {
   "cell_type": "code",
   "execution_count": 31,
   "metadata": {},
   "outputs": [
    {
     "data": {
      "text/plain": [
       "73271.0"
      ]
     },
     "execution_count": 31,
     "metadata": {},
     "output_type": "execute_result"
    }
   ],
   "source": [
    "#calculating the sum of Nan values\n",
    "df.isna().sum()"
   ]
  },
  {
   "cell_type": "markdown",
   "metadata": {},
   "source": [
    "__Finding number of missing values__"
   ]
  },
  {
   "cell_type": "code",
   "execution_count": 32,
   "metadata": {},
   "outputs": [
    {
     "name": "stdout",
     "output_type": "stream",
     "text": [
      "Number of missing values in each numeric column:\n",
      "Episodes : 0.0\n",
      "Score : 0.0\n",
      "Rank  : 1573.0\n",
      "Popularity :0.0\n",
      "Members :0.0\n",
      "Favorites :0.0\n"
     ]
    }
   ],
   "source": [
    "episodes = df['episodes'].isna().sum()\n",
    "score = df['score'].isna().sum()\n",
    "rank = df['rank'].isna().sum()\n",
    "popularity = df['popularity'].isna().sum()\n",
    "memebers = df['members'].isna().sum()\n",
    "favorites = df['favorites'].isna().sum()\n",
    "\n",
    "print(\"Number of missing values in each numeric column:\")\n",
    "print(\"Episodes : \"+str(episodes))\n",
    "print(\"Score : \"+str(score))\n",
    "print(\"Rank  : \"+str(rank))\n",
    "print(\"Popularity :\"+str(popularity))\n",
    "print(\"Members :\"+str(memebers))\n",
    "print(\"Favorites :\"+str(favorites))\n",
    "    "
   ]
  },
  {
   "cell_type": "markdown",
   "metadata": {},
   "source": [
    "__Fill the missing values with mean value__"
   ]
  },
  {
   "cell_type": "code",
   "execution_count": 33,
   "metadata": {},
   "outputs": [],
   "source": [
    "df['rank'] = df['rank'].impute(method='mean')"
   ]
  },
  {
   "cell_type": "markdown",
   "metadata": {},
   "source": [
    "__Independent variable function is called and X is initialized with all the variables except target and y is initialized with target__"
   ]
  },
  {
   "cell_type": "code",
   "execution_count": 34,
   "metadata": {},
   "outputs": [],
   "source": [
    "\n",
    "\n",
    "X = []  \n",
    "if all_variables is None:\n",
    "  X=get_independent_variables(df, target)  \n",
    "else: \n",
    "  ivd=get_all_variables_csv(all_variables)    \n",
    "  X=check_all_variables(df, ivd)\n",
    "\n",
    "\n",
    "X=check_X(X,df)\n",
    "\n"
   ]
  },
  {
   "cell_type": "code",
   "execution_count": 35,
   "metadata": {},
   "outputs": [],
   "source": [
    "y=target"
   ]
  },
  {
   "cell_type": "markdown",
   "metadata": {},
   "source": [
    "__An automl function is called which takes x,y,data variables and run it using AutoML that automatically runs through all the algorithms and their hyperparameters to produce a leaderboard of the best models__"
   ]
  },
  {
   "cell_type": "code",
   "execution_count": 36,
   "metadata": {},
   "outputs": [],
   "source": [
    "def automl(maxruntime,X,Y,df):\n",
    "    aml = H2OAutoML(max_runtime_secs=maxruntime)\n",
    "    aml.train(x=X,y=y,training_frame=df)\n",
    "    return aml"
   ]
  },
  {
   "cell_type": "markdown",
   "metadata": {},
   "source": [
    "__dict_to_json function is defined to generate json files with hyperparameters of every model generated for each runtime__"
   ]
  },
  {
   "cell_type": "code",
   "execution_count": 37,
   "metadata": {},
   "outputs": [],
   "source": [
    "def dict_to_json(dct,n):  \n",
    "    j = json.dumps(dct, indent=4)\n",
    "    f = open(n, 'w')\n",
    "    print(j, file=f)\n",
    "    f.close()"
   ]
  },
  {
   "cell_type": "markdown",
   "metadata": {},
   "source": [
    "## Run Time = 333 seconds"
   ]
  },
  {
   "cell_type": "code",
   "execution_count": 38,
   "metadata": {},
   "outputs": [
    {
     "name": "stdout",
     "output_type": "stream",
     "text": [
      "fGcx8PAiA\n"
     ]
    }
   ],
   "source": [
    "run_id=alphabet(9)\n",
    "if server_path==None:\n",
    "    server_path=os.path.abspath(os.curdir)\n",
    "os.chdir(server_path) \n",
    "run_dir = os.path.join(server_path,run_id)\n",
    "os.mkdir(run_dir)\n",
    "os.chdir(run_dir)    \n",
    "\n",
    "name = run_id+'Anime'+str('333')\n",
    "print (run_id)\n"
   ]
  },
  {
   "cell_type": "markdown",
   "metadata": {},
   "source": [
    "#### Analysis from the above code\n",
    "\n",
    "- Random run_id is generated randomly with the help of alphabet function defined above. \n",
    "- Server_path variable is initialized with present directory in which the server is running. \n",
    "- A folder is created with the name of run_id to store all the files generated with this run time."
   ]
  },
  {
   "cell_type": "code",
   "execution_count": 39,
   "metadata": {},
   "outputs": [
    {
     "name": "stdout",
     "output_type": "stream",
     "text": [
      "{'start_time': 1556319415.292062, 'target': 'score', 'data_path': 'anime_filtered.csv', 'run_time': 0, 'run_id': 'fGcx8PAiA', 'regression': True, 'scale': False, 'project': 'fGcx8PAiAAnime333', 'end_time': 1556319415.292063, 'execution_time': 0.0, 'run_path': '/Users/vaish/fGcx8PAiA', 'min_mem_size': 5, 'balance_threshold': 0.2}\n"
     ]
    }
   ],
   "source": [
    "meta_data = set_meta_data(run_id,data_path,target,run_time,regression,name,run_dir,min_mem_size)\n",
    "print(meta_data)"
   ]
  },
  {
   "cell_type": "markdown",
   "metadata": {},
   "source": [
    "__A meta data variable is created to store basic functionalities of the AutomML model. This contains the details of run_id,model start time, model execution time etc.__"
   ]
  },
  {
   "cell_type": "code",
   "execution_count": 40,
   "metadata": {},
   "outputs": [],
   "source": [
    "\n",
    "meta_data['X']=X  \n",
    "meta_data['start_time'] = time.time()\n",
    "allV=get_variables_types(df)\n",
    "meta_data['variables_datatypes']=allV"
   ]
  },
  {
   "cell_type": "markdown",
   "metadata": {},
   "source": [
    "__All the independent variables of X and their datatypes are stored in meta_data__"
   ]
  },
  {
   "cell_type": "code",
   "execution_count": 41,
   "metadata": {},
   "outputs": [
    {
     "name": "stdout",
     "output_type": "stream",
     "text": [
      "AutoML progress: |████████████████████████████████████████████████████████| 100%\n"
     ]
    }
   ],
   "source": [
    "aml = automl(333,X,y,df)"
   ]
  },
  {
   "cell_type": "markdown",
   "metadata": {},
   "source": [
    "__automl function is called by giving data,runtimeof 333 ,independent variables and target__ "
   ]
  },
  {
   "cell_type": "code",
   "execution_count": 42,
   "metadata": {},
   "outputs": [],
   "source": [
    "run_time = 333\n",
    "meta_data['run_time'] = run_time\n",
    "meta_data['end_time'] = time.time()\n",
    "meta_data['execution_time'] = meta_data['end_time'] - meta_data['start_time']\n",
    "  "
   ]
  },
  {
   "cell_type": "markdown",
   "metadata": {},
   "source": [
    "__After the AutoML is executed, execution time of the model is calculated and stored in meta data__"
   ]
  },
  {
   "cell_type": "code",
   "execution_count": 43,
   "metadata": {},
   "outputs": [
    {
     "data": {
      "text/html": [
       "<div>\n",
       "<style scoped>\n",
       "    .dataframe tbody tr th:only-of-type {\n",
       "        vertical-align: middle;\n",
       "    }\n",
       "\n",
       "    .dataframe tbody tr th {\n",
       "        vertical-align: top;\n",
       "    }\n",
       "\n",
       "    .dataframe thead th {\n",
       "        text-align: right;\n",
       "    }\n",
       "</style>\n",
       "<table border=\"1\" class=\"dataframe\">\n",
       "  <thead>\n",
       "    <tr style=\"text-align: right;\">\n",
       "      <th></th>\n",
       "      <th>model_id</th>\n",
       "      <th>auc</th>\n",
       "      <th>logloss</th>\n",
       "      <th>mean_per_class_error</th>\n",
       "      <th>rmse</th>\n",
       "      <th>mse</th>\n",
       "    </tr>\n",
       "  </thead>\n",
       "  <tbody>\n",
       "  </tbody>\n",
       "</table>\n",
       "</div>"
      ],
      "text/plain": [
       "Empty DataFrame\n",
       "Columns: [model_id, auc, logloss, mean_per_class_error, rmse, mse]\n",
       "Index: []"
      ]
     },
     "execution_count": 43,
     "metadata": {},
     "output_type": "execute_result"
    }
   ],
   "source": [
    "aml_leaderboard_df=aml.leaderboard.as_data_frame()\n",
    "aml_leaderboard_df"
   ]
  },
  {
   "cell_type": "markdown",
   "metadata": {},
   "source": [
    "__These are models generated in an order from best to worst__"
   ]
  },
  {
   "cell_type": "markdown",
   "metadata": {},
   "source": [
    "\n",
    "__Total number of models generated is also stored in meta data__"
   ]
  },
  {
   "cell_type": "code",
   "execution_count": 44,
   "metadata": {},
   "outputs": [],
   "source": [
    "length = len(aml_leaderboard_df)\n",
    "length\n",
    "meta_data[\"models_generated\"] = length"
   ]
  },
  {
   "cell_type": "markdown",
   "metadata": {},
   "source": [
    "__Leaderboard is stored in csv files__"
   ]
  },
  {
   "cell_type": "code",
   "execution_count": 45,
   "metadata": {},
   "outputs": [],
   "source": [
    "leaderboard_stats=run_id+'_leaderboard.csv'\n",
    "aml_leaderboard_df.to_csv(leaderboard_stats)"
   ]
  },
  {
   "cell_type": "markdown",
   "metadata": {},
   "source": [
    "__The leaderboard is converted to data frame object so that all model_ids are stored in a seperate list to get parameters__"
   ]
  },
  {
   "cell_type": "code",
   "execution_count": 46,
   "metadata": {},
   "outputs": [
    {
     "data": {
      "text/plain": [
       "Series([], Name: model_id, dtype: object)"
      ]
     },
     "execution_count": 46,
     "metadata": {},
     "output_type": "execute_result"
    }
   ],
   "source": [
    "aml_leaderboard_df=aml.leaderboard.as_data_frame()\n",
    "model_set=aml_leaderboard_df['model_id']\n",
    "model_set"
   ]
  },
  {
   "cell_type": "markdown",
   "metadata": {},
   "source": [
    "__Total count of the models is obtained__"
   ]
  },
  {
   "cell_type": "code",
   "execution_count": 47,
   "metadata": {},
   "outputs": [],
   "source": [
    "count = 0;\n",
    "for i in model_set:\n",
    "    count = count+1;"
   ]
  },
  {
   "cell_type": "markdown",
   "metadata": {},
   "source": [
    "__Each model parameters are stored in json file along with meta_data__"
   ]
  },
  {
   "cell_type": "code",
   "execution_count": 48,
   "metadata": {},
   "outputs": [],
   "source": [
    "for i in range(0,count):\n",
    "    mod_best=h2o.get_model(model_set[i])\n",
    "    parameters = mod_best.params\n",
    "    n= str((model_set[i]))+'__333'\n",
    "    dict_to_json(parameters,n)"
   ]
  },
  {
   "cell_type": "code",
   "execution_count": 49,
   "metadata": {},
   "outputs": [],
   "source": [
    "# Update and save meta data\n",
    "n=run_id+'_meta_data.json'\n",
    "dict_to_json(meta_data,n)"
   ]
  },
  {
   "cell_type": "code",
   "execution_count": 50,
   "metadata": {},
   "outputs": [
    {
     "data": {
      "text/plain": [
       "{'start_time': 1556319415.299701,\n",
       " 'target': 'score',\n",
       " 'data_path': 'anime_filtered.csv',\n",
       " 'run_time': 333,\n",
       " 'run_id': 'fGcx8PAiA',\n",
       " 'regression': True,\n",
       " 'scale': False,\n",
       " 'project': 'fGcx8PAiAAnime333',\n",
       " 'end_time': 1556319756.723257,\n",
       " 'execution_time': 341.42355608940125,\n",
       " 'run_path': '/Users/vaish/fGcx8PAiA',\n",
       " 'min_mem_size': 5,\n",
       " 'balance_threshold': 0.2,\n",
       " 'X': ['anime_id',\n",
       "  'episodes',\n",
       "  'scored_by',\n",
       "  'rank',\n",
       "  'popularity',\n",
       "  'members',\n",
       "  'favorites',\n",
       "  'type',\n",
       "  'source',\n",
       "  'status',\n",
       "  'airing',\n",
       "  'aired_string',\n",
       "  'aired',\n",
       "  'duration',\n",
       "  'rating',\n",
       "  'premiered',\n",
       "  'broadcast',\n",
       "  'related',\n",
       "  'producer',\n",
       "  'licensor',\n",
       "  'studio',\n",
       "  'genre',\n",
       "  'opening_theme',\n",
       "  'ending_theme',\n",
       "  'title',\n",
       "  'title_english',\n",
       "  'title_japanese',\n",
       "  'title_synonyms',\n",
       "  'image_url',\n",
       "  'background'],\n",
       " 'variables_datatypes': {'anime_id': 'int',\n",
       "  'title': 'string',\n",
       "  'title_english': 'string',\n",
       "  'title_japanese': 'string',\n",
       "  'title_synonyms': 'string',\n",
       "  'image_url': 'string',\n",
       "  'type': 'enum',\n",
       "  'source': 'enum',\n",
       "  'episodes': 'int',\n",
       "  'status': 'enum',\n",
       "  'airing': 'enum',\n",
       "  'aired_string': 'enum',\n",
       "  'aired': 'enum',\n",
       "  'duration': 'enum',\n",
       "  'rating': 'enum',\n",
       "  'score': 'real',\n",
       "  'scored_by': 'int',\n",
       "  'rank': 'int',\n",
       "  'popularity': 'int',\n",
       "  'members': 'int',\n",
       "  'favorites': 'int',\n",
       "  'background': 'string',\n",
       "  'premiered': 'enum',\n",
       "  'broadcast': 'enum',\n",
       "  'related': 'enum',\n",
       "  'producer': 'enum',\n",
       "  'licensor': 'enum',\n",
       "  'studio': 'enum',\n",
       "  'genre': 'enum',\n",
       "  'opening_theme': 'enum',\n",
       "  'ending_theme': 'enum'},\n",
       " 'models_generated': 0}"
      ]
     },
     "execution_count": 50,
     "metadata": {},
     "output_type": "execute_result"
    }
   ],
   "source": [
    "meta_data"
   ]
  },
  {
   "cell_type": "markdown",
   "metadata": {},
   "source": [
    "__Since all the files for the particular run id are generated, the directory is again changed to the server path__\n"
   ]
  },
  {
   "cell_type": "code",
   "execution_count": 51,
   "metadata": {},
   "outputs": [],
   "source": [
    "os.chdir(server_path)"
   ]
  },
  {
   "cell_type": "markdown",
   "metadata": {},
   "source": [
    "## Run Time = 500 seconds"
   ]
  },
  {
   "cell_type": "code",
   "execution_count": 52,
   "metadata": {},
   "outputs": [
    {
     "name": "stdout",
     "output_type": "stream",
     "text": [
      "8x8Gsn7aI\n"
     ]
    }
   ],
   "source": [
    "run_id=alphabet(9)\n",
    "if server_path==None:\n",
    "    server_path=os.path.abspath(os.curdir)\n",
    "os.chdir(server_path) \n",
    "run_dir = os.path.join(server_path,run_id)\n",
    "os.mkdir(run_dir)\n",
    "os.chdir(run_dir)    \n",
    "\n",
    "name = run_id+'Anime'+str('500')\n",
    "# run_id to std out\n",
    "print (run_id)\n"
   ]
  },
  {
   "cell_type": "markdown",
   "metadata": {},
   "source": [
    "#### Analysis from the above code\n",
    "\n",
    "- Random run_id is generated randomly with the help of alphabet function defined above. \n",
    "- Server_path variable is initialized with present directory in which the server is running. \n",
    "- A folder is created with the name of run_id to store all the files generated with this run time."
   ]
  },
  {
   "cell_type": "markdown",
   "metadata": {},
   "source": [
    "__A meta data variable is created to store details of the AutomML models generated. This contains the details of run_id,model start time, model execution time etc__"
   ]
  },
  {
   "cell_type": "code",
   "execution_count": 53,
   "metadata": {},
   "outputs": [
    {
     "name": "stdout",
     "output_type": "stream",
     "text": [
      "{'start_time': 1556319758.330925, 'target': 'score', 'data_path': 'anime_filtered.csv', 'run_time': 333, 'run_id': '8x8Gsn7aI', 'regression': True, 'scale': False, 'project': '8x8Gsn7aIAnime500', 'end_time': 1556319758.3309262, 'execution_time': 0.0, 'run_path': '/Users/vaish/8x8Gsn7aI', 'min_mem_size': 5, 'balance_threshold': 0.2}\n"
     ]
    }
   ],
   "source": [
    "meta_data = set_meta_data(run_id,data_path,target,run_time,regression,name,run_dir,min_mem_size)\n",
    "print(meta_data)"
   ]
  },
  {
   "cell_type": "code",
   "execution_count": 54,
   "metadata": {},
   "outputs": [],
   "source": [
    "meta_data['server_path'] = server_path"
   ]
  },
  {
   "cell_type": "markdown",
   "metadata": {},
   "source": [
    "__All the independent variables of X and their data types are stored in meta_data__"
   ]
  },
  {
   "cell_type": "code",
   "execution_count": 55,
   "metadata": {},
   "outputs": [],
   "source": [
    "meta_data['X']=X\n",
    "allV=get_variables_types(df)\n",
    "meta_data['variables_datatypes']=allV"
   ]
  },
  {
   "cell_type": "markdown",
   "metadata": {},
   "source": [
    "__Model execution start time is stored in meta_data__"
   ]
  },
  {
   "cell_type": "code",
   "execution_count": 56,
   "metadata": {},
   "outputs": [],
   "source": [
    "meta_data['start_time'] = time.time()"
   ]
  },
  {
   "cell_type": "markdown",
   "metadata": {},
   "source": [
    "__automl function is called and initialized with runtime , x, y , df values__"
   ]
  },
  {
   "cell_type": "code",
   "execution_count": 57,
   "metadata": {},
   "outputs": [
    {
     "name": "stdout",
     "output_type": "stream",
     "text": [
      "AutoML progress: |████████████████████████████████████████████████████████| 100%\n"
     ]
    }
   ],
   "source": [
    "aml1 = automl(500,X,y,df)"
   ]
  },
  {
   "cell_type": "markdown",
   "metadata": {},
   "source": [
    "__runtime of the metadata is set to 500 sec__"
   ]
  },
  {
   "cell_type": "code",
   "execution_count": 58,
   "metadata": {},
   "outputs": [],
   "source": [
    "meta_data['run_time'] = 500"
   ]
  },
  {
   "cell_type": "markdown",
   "metadata": {},
   "source": [
    "__Total excecution time is calculated by subtracting the start time with the end time__"
   ]
  },
  {
   "cell_type": "code",
   "execution_count": 59,
   "metadata": {},
   "outputs": [],
   "source": [
    "meta_data['end_time'] = time.time()\n",
    "meta_data['execution_time'] = meta_data['end_time'] - meta_data['start_time']"
   ]
  },
  {
   "cell_type": "markdown",
   "metadata": {},
   "source": [
    "__leaderboard is generated for this model__"
   ]
  },
  {
   "cell_type": "code",
   "execution_count": 60,
   "metadata": {
    "scrolled": true
   },
   "outputs": [
    {
     "data": {
      "text/html": [
       "<table>\n",
       "<thead>\n",
       "<tr><th>model_id                    </th><th style=\"text-align: right;\">  mean_residual_deviance</th><th style=\"text-align: right;\">    rmse</th><th style=\"text-align: right;\">     mse</th><th style=\"text-align: right;\">     mae</th><th style=\"text-align: right;\">   rmsle</th></tr>\n",
       "</thead>\n",
       "<tbody>\n",
       "<tr><td>DRF_1_AutoML_20190426_190238</td><td style=\"text-align: right;\">                0.257372</td><td style=\"text-align: right;\">0.507318</td><td style=\"text-align: right;\">0.257372</td><td style=\"text-align: right;\">0.232024</td><td style=\"text-align: right;\">0.102192</td></tr>\n",
       "</tbody>\n",
       "</table>"
      ]
     },
     "metadata": {},
     "output_type": "display_data"
    },
    {
     "data": {
      "text/plain": []
     },
     "execution_count": 60,
     "metadata": {},
     "output_type": "execute_result"
    }
   ],
   "source": [
    "aml1.leaderboard"
   ]
  },
  {
   "cell_type": "markdown",
   "metadata": {},
   "source": [
    "__The leaderboard is converted to data frame object so that all model_ids are stored in a seperate list to get parameters__\n"
   ]
  },
  {
   "cell_type": "code",
   "execution_count": 61,
   "metadata": {},
   "outputs": [
    {
     "data": {
      "text/html": [
       "<div>\n",
       "<style scoped>\n",
       "    .dataframe tbody tr th:only-of-type {\n",
       "        vertical-align: middle;\n",
       "    }\n",
       "\n",
       "    .dataframe tbody tr th {\n",
       "        vertical-align: top;\n",
       "    }\n",
       "\n",
       "    .dataframe thead th {\n",
       "        text-align: right;\n",
       "    }\n",
       "</style>\n",
       "<table border=\"1\" class=\"dataframe\">\n",
       "  <thead>\n",
       "    <tr style=\"text-align: right;\">\n",
       "      <th></th>\n",
       "      <th>model_id</th>\n",
       "      <th>mean_residual_deviance</th>\n",
       "      <th>rmse</th>\n",
       "      <th>mse</th>\n",
       "      <th>mae</th>\n",
       "      <th>rmsle</th>\n",
       "    </tr>\n",
       "  </thead>\n",
       "  <tbody>\n",
       "    <tr>\n",
       "      <th>0</th>\n",
       "      <td>DRF_1_AutoML_20190426_190238</td>\n",
       "      <td>0.257372</td>\n",
       "      <td>0.507318</td>\n",
       "      <td>0.257372</td>\n",
       "      <td>0.232024</td>\n",
       "      <td>0.102192</td>\n",
       "    </tr>\n",
       "  </tbody>\n",
       "</table>\n",
       "</div>"
      ],
      "text/plain": [
       "                       model_id  mean_residual_deviance      rmse       mse  \\\n",
       "0  DRF_1_AutoML_20190426_190238                0.257372  0.507318  0.257372   \n",
       "\n",
       "        mae     rmsle  \n",
       "0  0.232024  0.102192  "
      ]
     },
     "execution_count": 61,
     "metadata": {},
     "output_type": "execute_result"
    }
   ],
   "source": [
    "aml1_leaderboard_df=aml1.leaderboard.as_data_frame()\n",
    "aml1_leaderboard_df"
   ]
  },
  {
   "cell_type": "markdown",
   "metadata": {},
   "source": [
    "__Total number of models generated is also stored in meta data__"
   ]
  },
  {
   "cell_type": "code",
   "execution_count": 62,
   "metadata": {},
   "outputs": [],
   "source": [
    "length = len(aml1_leaderboard_df)\n",
    "length\n",
    "meta_data[\"models_generated\"] = length"
   ]
  },
  {
   "cell_type": "markdown",
   "metadata": {},
   "source": [
    "__Leaderboard is stored in csv files for the excecution time of 500__"
   ]
  },
  {
   "cell_type": "code",
   "execution_count": 63,
   "metadata": {},
   "outputs": [],
   "source": [
    "# save leaderboard\n",
    "leaderboard_stats=run_id+'_leaderboard_500.csv'\n",
    "aml1_leaderboard_df.to_csv(leaderboard_stats)"
   ]
  },
  {
   "cell_type": "code",
   "execution_count": 64,
   "metadata": {},
   "outputs": [
    {
     "data": {
      "text/plain": [
       "0    DRF_1_AutoML_20190426_190238\n",
       "Name: model_id, dtype: object"
      ]
     },
     "execution_count": 64,
     "metadata": {},
     "output_type": "execute_result"
    }
   ],
   "source": [
    "aml1_leaderboard_df=aml1.leaderboard.as_data_frame()\n",
    "model1_set=aml1_leaderboard_df['model_id']\n",
    "model1_set"
   ]
  },
  {
   "cell_type": "markdown",
   "metadata": {},
   "source": [
    "__Total count of the models is obtained__"
   ]
  },
  {
   "cell_type": "code",
   "execution_count": 65,
   "metadata": {},
   "outputs": [],
   "source": [
    "count = 0;\n",
    "for i in model1_set:\n",
    "    count = count+1;"
   ]
  },
  {
   "cell_type": "markdown",
   "metadata": {},
   "source": [
    "__Each model parameters are stored in json file along with meta_data__"
   ]
  },
  {
   "cell_type": "code",
   "execution_count": 66,
   "metadata": {},
   "outputs": [],
   "source": [
    "for i in range(0,count):\n",
    "    mod_best=h2o.get_model(model1_set[i])\n",
    "    parameters = mod_best.params\n",
    "    n= str((model1_set[i]))+'__500'\n",
    "    dict_to_json(parameters,n)"
   ]
  },
  {
   "cell_type": "code",
   "execution_count": 67,
   "metadata": {},
   "outputs": [],
   "source": [
    "# Update and save meta data \n",
    "n=run_id+'_meta_data.json'\n",
    "dict_to_json(meta_data,n)"
   ]
  },
  {
   "cell_type": "code",
   "execution_count": 68,
   "metadata": {},
   "outputs": [
    {
     "data": {
      "text/plain": [
       "{'start_time': 1556319758.347438,\n",
       " 'target': 'score',\n",
       " 'data_path': 'anime_filtered.csv',\n",
       " 'run_time': 500,\n",
       " 'run_id': '8x8Gsn7aI',\n",
       " 'regression': True,\n",
       " 'scale': False,\n",
       " 'project': '8x8Gsn7aIAnime500',\n",
       " 'end_time': 1556320262.608652,\n",
       " 'execution_time': 504.26121401786804,\n",
       " 'run_path': '/Users/vaish/8x8Gsn7aI',\n",
       " 'min_mem_size': 5,\n",
       " 'balance_threshold': 0.2,\n",
       " 'server_path': '/Users/vaish',\n",
       " 'X': ['anime_id',\n",
       "  'episodes',\n",
       "  'scored_by',\n",
       "  'rank',\n",
       "  'popularity',\n",
       "  'members',\n",
       "  'favorites',\n",
       "  'type',\n",
       "  'source',\n",
       "  'status',\n",
       "  'airing',\n",
       "  'aired_string',\n",
       "  'aired',\n",
       "  'duration',\n",
       "  'rating',\n",
       "  'premiered',\n",
       "  'broadcast',\n",
       "  'related',\n",
       "  'producer',\n",
       "  'licensor',\n",
       "  'studio',\n",
       "  'genre',\n",
       "  'opening_theme',\n",
       "  'ending_theme',\n",
       "  'title',\n",
       "  'title_english',\n",
       "  'title_japanese',\n",
       "  'title_synonyms',\n",
       "  'image_url',\n",
       "  'background'],\n",
       " 'variables_datatypes': {'anime_id': 'int',\n",
       "  'title': 'string',\n",
       "  'title_english': 'string',\n",
       "  'title_japanese': 'string',\n",
       "  'title_synonyms': 'string',\n",
       "  'image_url': 'string',\n",
       "  'type': 'enum',\n",
       "  'source': 'enum',\n",
       "  'episodes': 'int',\n",
       "  'status': 'enum',\n",
       "  'airing': 'enum',\n",
       "  'aired_string': 'enum',\n",
       "  'aired': 'enum',\n",
       "  'duration': 'enum',\n",
       "  'rating': 'enum',\n",
       "  'score': 'real',\n",
       "  'scored_by': 'int',\n",
       "  'rank': 'int',\n",
       "  'popularity': 'int',\n",
       "  'members': 'int',\n",
       "  'favorites': 'int',\n",
       "  'background': 'string',\n",
       "  'premiered': 'enum',\n",
       "  'broadcast': 'enum',\n",
       "  'related': 'enum',\n",
       "  'producer': 'enum',\n",
       "  'licensor': 'enum',\n",
       "  'studio': 'enum',\n",
       "  'genre': 'enum',\n",
       "  'opening_theme': 'enum',\n",
       "  'ending_theme': 'enum'},\n",
       " 'models_generated': 1}"
      ]
     },
     "execution_count": 68,
     "metadata": {},
     "output_type": "execute_result"
    }
   ],
   "source": [
    "meta_data"
   ]
  },
  {
   "cell_type": "markdown",
   "metadata": {},
   "source": [
    "__Since all the files for the particular run id are generated, the directory is again changed to the Server_path variable__\n",
    "\n"
   ]
  },
  {
   "cell_type": "code",
   "execution_count": 69,
   "metadata": {},
   "outputs": [],
   "source": [
    "os.chdir(server_path)"
   ]
  },
  {
   "cell_type": "markdown",
   "metadata": {},
   "source": [
    "## Run Time = 700 seconds"
   ]
  },
  {
   "cell_type": "code",
   "execution_count": 70,
   "metadata": {},
   "outputs": [
    {
     "name": "stdout",
     "output_type": "stream",
     "text": [
      "y8WwZr1d7\n"
     ]
    }
   ],
   "source": [
    "run_id=alphabet(9)\n",
    "if server_path==None:\n",
    "    server_path=os.path.abspath(os.curdir)\n",
    "os.chdir(server_path) \n",
    "run_dir = os.path.join(server_path,run_id)\n",
    "os.mkdir(run_dir)\n",
    "os.chdir(run_dir)    \n",
    "name = name = run_id+'Anime'+str('700')\n",
    "# run_id to std out\n",
    "print (run_id)"
   ]
  },
  {
   "cell_type": "markdown",
   "metadata": {},
   "source": [
    "#### Analysis from the above code\n",
    "\n",
    "- Random run_id is generated randomly with the help of alphabet function defined above. \n",
    "- Server_path variable is initialized with present directory in which the server is running. \n",
    "- A folder is created with the name of run_id to store all the files generated with this run time.\n"
   ]
  },
  {
   "cell_type": "markdown",
   "metadata": {},
   "source": [
    "__A meta data variable is created to store details of the AutomML models generated. This contains the details of run_id,model start time, model execution time etc__"
   ]
  },
  {
   "cell_type": "code",
   "execution_count": 71,
   "metadata": {},
   "outputs": [
    {
     "name": "stdout",
     "output_type": "stream",
     "text": [
      "{'start_time': 1556320266.520271, 'target': 'score', 'data_path': 'anime_filtered.csv', 'run_time': 333, 'run_id': 'y8WwZr1d7', 'regression': True, 'scale': False, 'project': 'y8WwZr1d7Anime700', 'end_time': 1556320266.520273, 'execution_time': 0.0, 'run_path': '/Users/vaish/y8WwZr1d7', 'min_mem_size': 5, 'balance_threshold': 0.2}\n"
     ]
    }
   ],
   "source": [
    "meta_data = set_meta_data(run_id,data_path,target,run_time,regression,name,run_dir,min_mem_size)\n",
    "print(meta_data)"
   ]
  },
  {
   "cell_type": "code",
   "execution_count": 72,
   "metadata": {},
   "outputs": [],
   "source": [
    "meta_data['server_path'] = server_path"
   ]
  },
  {
   "cell_type": "markdown",
   "metadata": {},
   "source": [
    "__All the independent variables of X and their datatypes are stored in meta_data. "
   ]
  },
  {
   "cell_type": "code",
   "execution_count": 73,
   "metadata": {},
   "outputs": [],
   "source": [
    "meta_data['X']=X \n",
    "allV=get_variables_types(df)\n",
    "meta_data['variables_datatypes']=allV"
   ]
  },
  {
   "cell_type": "markdown",
   "metadata": {},
   "source": [
    "__Model execution start time is stored in meta_data__"
   ]
  },
  {
   "cell_type": "code",
   "execution_count": 74,
   "metadata": {},
   "outputs": [],
   "source": [
    "meta_data['start_time'] = time.time()"
   ]
  },
  {
   "cell_type": "markdown",
   "metadata": {},
   "source": [
    "__automl function is called by giving data,runtimeof 700 ,independent variables and target__"
   ]
  },
  {
   "cell_type": "code",
   "execution_count": 75,
   "metadata": {},
   "outputs": [
    {
     "name": "stdout",
     "output_type": "stream",
     "text": [
      "AutoML progress: |████████████████████████████████████████████████████████| 100%\n"
     ]
    }
   ],
   "source": [
    "aml2 = automl(700,X,y,df)"
   ]
  },
  {
   "cell_type": "markdown",
   "metadata": {},
   "source": [
    "__run time of 700 sec is set for the mata data__"
   ]
  },
  {
   "cell_type": "code",
   "execution_count": 76,
   "metadata": {},
   "outputs": [],
   "source": [
    "meta_data['run_time'] = 700"
   ]
  },
  {
   "cell_type": "markdown",
   "metadata": {},
   "source": [
    "__excecution time of the meta data is calcualted by subtracting the start and the end time__"
   ]
  },
  {
   "cell_type": "code",
   "execution_count": 77,
   "metadata": {},
   "outputs": [],
   "source": [
    "meta_data['end_time'] = time.time()\n",
    "meta_data['execution_time'] = meta_data['end_time'] - meta_data['start_time']"
   ]
  },
  {
   "cell_type": "code",
   "execution_count": 78,
   "metadata": {},
   "outputs": [
    {
     "data": {
      "text/html": [
       "<table>\n",
       "<thead>\n",
       "<tr><th>model_id                                 </th><th style=\"text-align: right;\">  mean_residual_deviance</th><th style=\"text-align: right;\">    rmse</th><th style=\"text-align: right;\">     mse</th><th style=\"text-align: right;\">     mae</th><th style=\"text-align: right;\">   rmsle</th></tr>\n",
       "</thead>\n",
       "<tbody>\n",
       "<tr><td>DRF_1_AutoML_20190426_190238             </td><td style=\"text-align: right;\">                0.257372</td><td style=\"text-align: right;\">0.507318</td><td style=\"text-align: right;\">0.257372</td><td style=\"text-align: right;\">0.232024</td><td style=\"text-align: right;\">0.102192</td></tr>\n",
       "<tr><td>DRF_1_AutoML_20190426_191106             </td><td style=\"text-align: right;\">                0.260092</td><td style=\"text-align: right;\">0.509992</td><td style=\"text-align: right;\">0.260092</td><td style=\"text-align: right;\">0.236998</td><td style=\"text-align: right;\">0.102971</td></tr>\n",
       "<tr><td>GLM_grid_1_AutoML_20190426_191106_model_1</td><td style=\"text-align: right;\">                0.804409</td><td style=\"text-align: right;\">0.896889</td><td style=\"text-align: right;\">0.804409</td><td style=\"text-align: right;\">0.557699</td><td style=\"text-align: right;\">0.259754</td></tr>\n",
       "<tr><td>XRT_1_AutoML_20190426_191106             </td><td style=\"text-align: right;\">                5.21776 </td><td style=\"text-align: right;\">2.28424 </td><td style=\"text-align: right;\">5.21776 </td><td style=\"text-align: right;\">2.11448 </td><td style=\"text-align: right;\">0.413154</td></tr>\n",
       "</tbody>\n",
       "</table>"
      ]
     },
     "metadata": {},
     "output_type": "display_data"
    },
    {
     "data": {
      "text/plain": []
     },
     "execution_count": 78,
     "metadata": {},
     "output_type": "execute_result"
    }
   ],
   "source": [
    "aml2.leaderboard"
   ]
  },
  {
   "cell_type": "markdown",
   "metadata": {},
   "source": [
    "__The leaderboard is converted to data frame object so that all model_ids are stored in a seperate list to get parameters__"
   ]
  },
  {
   "cell_type": "code",
   "execution_count": 79,
   "metadata": {},
   "outputs": [
    {
     "data": {
      "text/plain": [
       "0                 DRF_1_AutoML_20190426_190238\n",
       "1                 DRF_1_AutoML_20190426_191106\n",
       "2    GLM_grid_1_AutoML_20190426_191106_model_1\n",
       "3                 XRT_1_AutoML_20190426_191106\n",
       "Name: model_id, dtype: object"
      ]
     },
     "execution_count": 79,
     "metadata": {},
     "output_type": "execute_result"
    }
   ],
   "source": [
    "aml2_leaderboard_df=aml2.leaderboard.as_data_frame()\n",
    "model2_set=aml2_leaderboard_df['model_id']\n",
    "model2_set"
   ]
  },
  {
   "cell_type": "markdown",
   "metadata": {},
   "source": [
    "__More models are generated by converting the leaderboard to a dataframe which will be further be used to generate a csv file__"
   ]
  },
  {
   "cell_type": "code",
   "execution_count": 80,
   "metadata": {},
   "outputs": [],
   "source": [
    "length = len(aml2_leaderboard_df)\n",
    "length\n",
    "meta_data[\"models_generated\"] = length"
   ]
  },
  {
   "cell_type": "markdown",
   "metadata": {},
   "source": [
    "__Total number of leaderboards generated are saved as the total number of the models generated for a mata data__ "
   ]
  },
  {
   "cell_type": "code",
   "execution_count": 81,
   "metadata": {},
   "outputs": [],
   "source": [
    "# save leaderboard\n",
    "leaderboard_stats=run_id+'_leaderboard_700.csv'\n",
    "aml2_leaderboard_df.to_csv(leaderboard_stats)"
   ]
  },
  {
   "cell_type": "markdown",
   "metadata": {},
   "source": [
    "__Leaderboard generated for the 700 seconds is converted to a csv file__"
   ]
  },
  {
   "cell_type": "code",
   "execution_count": 82,
   "metadata": {},
   "outputs": [],
   "source": [
    "count = 0;\n",
    "for i in model2_set:\n",
    "    count = count+1;"
   ]
  },
  {
   "cell_type": "markdown",
   "metadata": {},
   "source": [
    "__total count of model sets is taken__"
   ]
  },
  {
   "cell_type": "code",
   "execution_count": 83,
   "metadata": {},
   "outputs": [],
   "source": [
    "for i in range(0,count):\n",
    "    mod_best=h2o.get_model(model2_set[i])\n",
    "    parameters = mod_best.params\n",
    "    n= str((model2_set[i]))+'__700'\n",
    "    dict_to_json(parameters,n)"
   ]
  },
  {
   "cell_type": "markdown",
   "metadata": {},
   "source": [
    "__the parameters of the model generated is saved in the json file__ "
   ]
  },
  {
   "cell_type": "code",
   "execution_count": 84,
   "metadata": {},
   "outputs": [],
   "source": [
    "# Update and save meta data\n",
    "\n",
    "n=run_id+'_meta_data.json'\n",
    "dict_to_json(meta_data,n)"
   ]
  },
  {
   "cell_type": "code",
   "execution_count": 85,
   "metadata": {},
   "outputs": [
    {
     "data": {
      "text/plain": [
       "{'start_time': 1556320266.5536761,\n",
       " 'target': 'score',\n",
       " 'data_path': 'anime_filtered.csv',\n",
       " 'run_time': 700,\n",
       " 'run_id': 'y8WwZr1d7',\n",
       " 'regression': True,\n",
       " 'scale': False,\n",
       " 'project': 'y8WwZr1d7Anime700',\n",
       " 'end_time': 1556320977.074365,\n",
       " 'execution_time': 710.5206887722015,\n",
       " 'run_path': '/Users/vaish/y8WwZr1d7',\n",
       " 'min_mem_size': 5,\n",
       " 'balance_threshold': 0.2,\n",
       " 'server_path': '/Users/vaish',\n",
       " 'X': ['anime_id',\n",
       "  'episodes',\n",
       "  'scored_by',\n",
       "  'rank',\n",
       "  'popularity',\n",
       "  'members',\n",
       "  'favorites',\n",
       "  'type',\n",
       "  'source',\n",
       "  'status',\n",
       "  'airing',\n",
       "  'aired_string',\n",
       "  'aired',\n",
       "  'duration',\n",
       "  'rating',\n",
       "  'premiered',\n",
       "  'broadcast',\n",
       "  'related',\n",
       "  'producer',\n",
       "  'licensor',\n",
       "  'studio',\n",
       "  'genre',\n",
       "  'opening_theme',\n",
       "  'ending_theme',\n",
       "  'title',\n",
       "  'title_english',\n",
       "  'title_japanese',\n",
       "  'title_synonyms',\n",
       "  'image_url',\n",
       "  'background'],\n",
       " 'variables_datatypes': {'anime_id': 'int',\n",
       "  'title': 'string',\n",
       "  'title_english': 'string',\n",
       "  'title_japanese': 'string',\n",
       "  'title_synonyms': 'string',\n",
       "  'image_url': 'string',\n",
       "  'type': 'enum',\n",
       "  'source': 'enum',\n",
       "  'episodes': 'int',\n",
       "  'status': 'enum',\n",
       "  'airing': 'enum',\n",
       "  'aired_string': 'enum',\n",
       "  'aired': 'enum',\n",
       "  'duration': 'enum',\n",
       "  'rating': 'enum',\n",
       "  'score': 'real',\n",
       "  'scored_by': 'int',\n",
       "  'rank': 'int',\n",
       "  'popularity': 'int',\n",
       "  'members': 'int',\n",
       "  'favorites': 'int',\n",
       "  'background': 'string',\n",
       "  'premiered': 'enum',\n",
       "  'broadcast': 'enum',\n",
       "  'related': 'enum',\n",
       "  'producer': 'enum',\n",
       "  'licensor': 'enum',\n",
       "  'studio': 'enum',\n",
       "  'genre': 'enum',\n",
       "  'opening_theme': 'enum',\n",
       "  'ending_theme': 'enum'},\n",
       " 'models_generated': 4}"
      ]
     },
     "execution_count": 85,
     "metadata": {},
     "output_type": "execute_result"
    }
   ],
   "source": [
    "meta_data"
   ]
  },
  {
   "cell_type": "markdown",
   "metadata": {},
   "source": [
    "__Since all the files for the particular run id are generated, the directory is again changed to the server path__"
   ]
  },
  {
   "cell_type": "code",
   "execution_count": 86,
   "metadata": {},
   "outputs": [],
   "source": [
    "os.chdir(server_path)"
   ]
  },
  {
   "cell_type": "markdown",
   "metadata": {},
   "source": [
    "## Run Time = 1000 seconds"
   ]
  },
  {
   "cell_type": "code",
   "execution_count": 87,
   "metadata": {},
   "outputs": [
    {
     "name": "stdout",
     "output_type": "stream",
     "text": [
      "OUVXGfhJL\n"
     ]
    }
   ],
   "source": [
    "run_id=alphabet(9)\n",
    "if server_path==None:\n",
    "    server_path=os.path.abspath(os.curdir)\n",
    "os.chdir(server_path) \n",
    "run_dir = os.path.join(server_path,run_id)\n",
    "os.mkdir(run_dir)\n",
    "os.chdir(run_dir)    \n",
    "\n",
    "name = run_id+'Anime'+str('1000')\n",
    "# run_id to std out\n",
    "print (run_id)"
   ]
  },
  {
   "cell_type": "markdown",
   "metadata": {},
   "source": [
    "#### Analysis from the above code\n",
    "\n",
    "- Random run_id is generated randomly with the help of alphabet function defined above. \n",
    "- Server_path variable is initialized with present directory in which the server is running. \n",
    "- A folder is created with the name of run_id to store all the files generated with this run time.\n",
    "\n"
   ]
  },
  {
   "cell_type": "markdown",
   "metadata": {},
   "source": [
    "__A meta data variable is created to store details of the AutomML models. This contains the details of run_id,model start time, model execution time etc__"
   ]
  },
  {
   "cell_type": "code",
   "execution_count": 88,
   "metadata": {},
   "outputs": [
    {
     "name": "stdout",
     "output_type": "stream",
     "text": [
      "{'start_time': 1556320995.546526, 'target': 'score', 'data_path': 'anime_filtered.csv', 'run_time': 333, 'run_id': 'OUVXGfhJL', 'regression': True, 'scale': False, 'project': 'OUVXGfhJLAnime1000', 'end_time': 1556320995.5465379, 'execution_time': 0.0, 'run_path': '/Users/vaish/OUVXGfhJL', 'min_mem_size': 5, 'balance_threshold': 0.2}\n"
     ]
    }
   ],
   "source": [
    "meta_data = set_meta_data(run_id,data_path,target,run_time,regression,name,run_dir,min_mem_size)\n",
    "print(meta_data)"
   ]
  },
  {
   "cell_type": "markdown",
   "metadata": {},
   "source": [
    "__All the independent variables of X and their datatypes, and runtime,startime of the model are stored in meta_data__\n",
    "\n"
   ]
  },
  {
   "cell_type": "code",
   "execution_count": 89,
   "metadata": {},
   "outputs": [],
   "source": [
    "meta_data['server_path'] = server_path\n",
    "meta_data['X']=X  \n",
    "allV=get_variables_types(df)\n",
    "meta_data['variables_datatypes']=allV\n",
    "meta_data['run_time'] = 1000\n",
    "meta_data['start_time'] = time.time()"
   ]
  },
  {
   "cell_type": "markdown",
   "metadata": {},
   "source": [
    "__automl function is called by giving data,runtimeof 1000 ,independent variables and target__"
   ]
  },
  {
   "cell_type": "code",
   "execution_count": 90,
   "metadata": {},
   "outputs": [
    {
     "name": "stdout",
     "output_type": "stream",
     "text": [
      "AutoML progress: |████████████████████████████████████████████████████████| 100%\n"
     ]
    }
   ],
   "source": [
    "aml3 = automl(1000,X,y,df)"
   ]
  },
  {
   "cell_type": "markdown",
   "metadata": {},
   "source": [
    "__After the AutoML is executed, execution time of the model is calculated and stored in meta data__"
   ]
  },
  {
   "cell_type": "code",
   "execution_count": 91,
   "metadata": {},
   "outputs": [],
   "source": [
    "meta_data['end_time'] = time.time()\n",
    "meta_data['execution_time'] = meta_data['end_time'] - meta_data['start_time']"
   ]
  },
  {
   "cell_type": "markdown",
   "metadata": {},
   "source": [
    "__These are models generated in an order from best to worst__"
   ]
  },
  {
   "cell_type": "code",
   "execution_count": 92,
   "metadata": {},
   "outputs": [
    {
     "data": {
      "text/html": [
       "<table>\n",
       "<thead>\n",
       "<tr><th>model_id                                 </th><th style=\"text-align: right;\">  mean_residual_deviance</th><th style=\"text-align: right;\">    rmse</th><th style=\"text-align: right;\">     mse</th><th style=\"text-align: right;\">     mae</th><th style=\"text-align: right;\">   rmsle</th></tr>\n",
       "</thead>\n",
       "<tbody>\n",
       "<tr><td>DRF_1_AutoML_20190426_190238             </td><td style=\"text-align: right;\">                0.257372</td><td style=\"text-align: right;\">0.507318</td><td style=\"text-align: right;\">0.257372</td><td style=\"text-align: right;\">0.232024</td><td style=\"text-align: right;\">0.102192</td></tr>\n",
       "<tr><td>DRF_1_AutoML_20190426_191106             </td><td style=\"text-align: right;\">                0.260092</td><td style=\"text-align: right;\">0.509992</td><td style=\"text-align: right;\">0.260092</td><td style=\"text-align: right;\">0.236998</td><td style=\"text-align: right;\">0.102971</td></tr>\n",
       "<tr><td>DRF_1_AutoML_20190426_192315             </td><td style=\"text-align: right;\">                0.262488</td><td style=\"text-align: right;\">0.512335</td><td style=\"text-align: right;\">0.262488</td><td style=\"text-align: right;\">0.238041</td><td style=\"text-align: right;\">0.102805</td></tr>\n",
       "<tr><td>GLM_grid_1_AutoML_20190426_191106_model_1</td><td style=\"text-align: right;\">                0.804409</td><td style=\"text-align: right;\">0.896889</td><td style=\"text-align: right;\">0.804409</td><td style=\"text-align: right;\">0.557699</td><td style=\"text-align: right;\">0.259754</td></tr>\n",
       "<tr><td>XRT_1_AutoML_20190426_192315             </td><td style=\"text-align: right;\">                4.67692 </td><td style=\"text-align: right;\">2.16262 </td><td style=\"text-align: right;\">4.67692 </td><td style=\"text-align: right;\">2.04417 </td><td style=\"text-align: right;\">0.361872</td></tr>\n",
       "<tr><td>XRT_1_AutoML_20190426_191106             </td><td style=\"text-align: right;\">                5.21776 </td><td style=\"text-align: right;\">2.28424 </td><td style=\"text-align: right;\">5.21776 </td><td style=\"text-align: right;\">2.11448 </td><td style=\"text-align: right;\">0.413154</td></tr>\n",
       "</tbody>\n",
       "</table>"
      ]
     },
     "metadata": {},
     "output_type": "display_data"
    },
    {
     "data": {
      "text/plain": []
     },
     "execution_count": 92,
     "metadata": {},
     "output_type": "execute_result"
    }
   ],
   "source": [
    "aml3.leaderboard"
   ]
  },
  {
   "cell_type": "markdown",
   "metadata": {},
   "source": [
    "__The leaderboard is converted to data frame object so that all model_ids are stored in a seperate list to get parameters__"
   ]
  },
  {
   "cell_type": "code",
   "execution_count": 93,
   "metadata": {},
   "outputs": [
    {
     "data": {
      "text/plain": [
       "0                 DRF_1_AutoML_20190426_190238\n",
       "1                 DRF_1_AutoML_20190426_191106\n",
       "2                 DRF_1_AutoML_20190426_192315\n",
       "3    GLM_grid_1_AutoML_20190426_191106_model_1\n",
       "4                 XRT_1_AutoML_20190426_192315\n",
       "5                 XRT_1_AutoML_20190426_191106\n",
       "Name: model_id, dtype: object"
      ]
     },
     "execution_count": 93,
     "metadata": {},
     "output_type": "execute_result"
    }
   ],
   "source": [
    "aml3_leaderboard_df=aml3.leaderboard.as_data_frame()\n",
    "model3_set=aml3_leaderboard_df['model_id']\n",
    "model3_set"
   ]
  },
  {
   "cell_type": "markdown",
   "metadata": {},
   "source": [
    "__Total number of models generated is also stored in meta data__"
   ]
  },
  {
   "cell_type": "code",
   "execution_count": 94,
   "metadata": {},
   "outputs": [],
   "source": [
    "length = len(aml3_leaderboard_df)\n",
    "length\n",
    "meta_data[\"models_generated\"] = length"
   ]
  },
  {
   "cell_type": "markdown",
   "metadata": {},
   "source": [
    "__Leaderboard is stored in csv files__"
   ]
  },
  {
   "cell_type": "code",
   "execution_count": 95,
   "metadata": {},
   "outputs": [],
   "source": [
    "# save leaderboard\n",
    "leaderboard_stats=run_id+'_leaderboard_1000.csv'\n",
    "aml3_leaderboard_df.to_csv(leaderboard_stats)"
   ]
  },
  {
   "cell_type": "code",
   "execution_count": 96,
   "metadata": {},
   "outputs": [],
   "source": [
    "count = 0;\n",
    "for i in model3_set:\n",
    "    count = count+1;"
   ]
  },
  {
   "cell_type": "markdown",
   "metadata": {},
   "source": [
    "__Each model parameters are stored in json file along with meta_data__"
   ]
  },
  {
   "cell_type": "code",
   "execution_count": 97,
   "metadata": {},
   "outputs": [],
   "source": [
    "for i in range(0,count):\n",
    "    mod_best=h2o.get_model(model3_set[i])\n",
    "    parameters = mod_best.params\n",
    "    n= str((model3_set[i]))+'__1000'\n",
    "    dict_to_json(parameters,n)"
   ]
  },
  {
   "cell_type": "code",
   "execution_count": 98,
   "metadata": {},
   "outputs": [
    {
     "data": {
      "text/plain": [
       "{'start_time': 1556320995.5639098,\n",
       " 'target': 'score',\n",
       " 'data_path': 'anime_filtered.csv',\n",
       " 'run_time': 1000,\n",
       " 'run_id': 'OUVXGfhJL',\n",
       " 'regression': True,\n",
       " 'scale': False,\n",
       " 'project': 'OUVXGfhJLAnime1000',\n",
       " 'end_time': 1556322007.154335,\n",
       " 'execution_time': 1011.5904252529144,\n",
       " 'run_path': '/Users/vaish/OUVXGfhJL',\n",
       " 'min_mem_size': 5,\n",
       " 'balance_threshold': 0.2,\n",
       " 'server_path': '/Users/vaish',\n",
       " 'X': ['anime_id',\n",
       "  'episodes',\n",
       "  'scored_by',\n",
       "  'rank',\n",
       "  'popularity',\n",
       "  'members',\n",
       "  'favorites',\n",
       "  'type',\n",
       "  'source',\n",
       "  'status',\n",
       "  'airing',\n",
       "  'aired_string',\n",
       "  'aired',\n",
       "  'duration',\n",
       "  'rating',\n",
       "  'premiered',\n",
       "  'broadcast',\n",
       "  'related',\n",
       "  'producer',\n",
       "  'licensor',\n",
       "  'studio',\n",
       "  'genre',\n",
       "  'opening_theme',\n",
       "  'ending_theme',\n",
       "  'title',\n",
       "  'title_english',\n",
       "  'title_japanese',\n",
       "  'title_synonyms',\n",
       "  'image_url',\n",
       "  'background'],\n",
       " 'variables_datatypes': {'anime_id': 'int',\n",
       "  'title': 'string',\n",
       "  'title_english': 'string',\n",
       "  'title_japanese': 'string',\n",
       "  'title_synonyms': 'string',\n",
       "  'image_url': 'string',\n",
       "  'type': 'enum',\n",
       "  'source': 'enum',\n",
       "  'episodes': 'int',\n",
       "  'status': 'enum',\n",
       "  'airing': 'enum',\n",
       "  'aired_string': 'enum',\n",
       "  'aired': 'enum',\n",
       "  'duration': 'enum',\n",
       "  'rating': 'enum',\n",
       "  'score': 'real',\n",
       "  'scored_by': 'int',\n",
       "  'rank': 'int',\n",
       "  'popularity': 'int',\n",
       "  'members': 'int',\n",
       "  'favorites': 'int',\n",
       "  'background': 'string',\n",
       "  'premiered': 'enum',\n",
       "  'broadcast': 'enum',\n",
       "  'related': 'enum',\n",
       "  'producer': 'enum',\n",
       "  'licensor': 'enum',\n",
       "  'studio': 'enum',\n",
       "  'genre': 'enum',\n",
       "  'opening_theme': 'enum',\n",
       "  'ending_theme': 'enum'},\n",
       " 'models_generated': 6}"
      ]
     },
     "execution_count": 98,
     "metadata": {},
     "output_type": "execute_result"
    }
   ],
   "source": [
    "# Update and save meta data\n",
    "n=run_id+'_meta_data.json'\n",
    "dict_to_json(meta_data,n)\n",
    "meta_data"
   ]
  },
  {
   "cell_type": "markdown",
   "metadata": {},
   "source": [
    "__Since all the files for the particular run id are generated, the directory is again changed to the server path__"
   ]
  },
  {
   "cell_type": "code",
   "execution_count": 99,
   "metadata": {},
   "outputs": [],
   "source": [
    "os.chdir(server_path)"
   ]
  },
  {
   "cell_type": "markdown",
   "metadata": {},
   "source": [
    "## Run Time = 1300 seconds"
   ]
  },
  {
   "cell_type": "code",
   "execution_count": 100,
   "metadata": {},
   "outputs": [
    {
     "name": "stdout",
     "output_type": "stream",
     "text": [
      "RAcsyAaQB\n"
     ]
    }
   ],
   "source": [
    "run_id=alphabet(9)\n",
    "if server_path==None:\n",
    "    server_path=os.path.abspath(os.curdir)\n",
    "os.chdir(server_path) \n",
    "run_dir = os.path.join(server_path,run_id)\n",
    "os.mkdir(run_dir)\n",
    "os.chdir(run_dir)    \n",
    "\n",
    "name = run_id+'Anime'+str('1300')\n",
    "# run_id to std out\n",
    "print (run_id)"
   ]
  },
  {
   "cell_type": "markdown",
   "metadata": {},
   "source": [
    "#### Analysis from the above code\n",
    "\n",
    "- Random run_id is generated randomly with the help of alphabet function defined above. \n",
    "- Server_path variable is initialized with present directory in which the server is running. \n",
    "- A folder is created with the name of run_id to store all the files generated with this run time.\n"
   ]
  },
  {
   "cell_type": "markdown",
   "metadata": {},
   "source": [
    "__A meta data variable is created to store details of the AutomML models. This contains the details of run_id,model start time, model execution time etc__"
   ]
  },
  {
   "cell_type": "code",
   "execution_count": 101,
   "metadata": {},
   "outputs": [
    {
     "name": "stdout",
     "output_type": "stream",
     "text": [
      "{'start_time': 1556322038.6148322, 'target': 'score', 'data_path': 'anime_filtered.csv', 'run_time': 333, 'run_id': 'RAcsyAaQB', 'regression': True, 'scale': False, 'project': 'RAcsyAaQBAnime1300', 'end_time': 1556322038.614835, 'execution_time': 0.0, 'run_path': '/Users/vaish/RAcsyAaQB', 'min_mem_size': 5, 'balance_threshold': 0.2}\n"
     ]
    }
   ],
   "source": [
    "meta_data = set_meta_data(run_id,data_path,target,run_time,regression,name,run_dir,min_mem_size)\n",
    "print(meta_data)"
   ]
  },
  {
   "cell_type": "markdown",
   "metadata": {},
   "source": [
    "__All the independent variables of X are stored in meta_data and model start time is taken into account. And also, datatypes of X variables are stored in meta data__"
   ]
  },
  {
   "cell_type": "code",
   "execution_count": 102,
   "metadata": {},
   "outputs": [],
   "source": [
    "meta_data['server_path'] = server_path\n",
    "meta_data['X']=X  \n",
    "allV=get_variables_types(df)\n",
    "meta_data['variables_datatypes']=allV\n",
    "meta_data['run_time'] = 1300\n",
    "meta_data['start_time'] = time.time()"
   ]
  },
  {
   "cell_type": "markdown",
   "metadata": {},
   "source": [
    "__automl function is called by giving data,runtime of 1300 ,independent variables and target__\n",
    "\n"
   ]
  },
  {
   "cell_type": "code",
   "execution_count": 103,
   "metadata": {},
   "outputs": [
    {
     "name": "stdout",
     "output_type": "stream",
     "text": [
      "AutoML progress: |████████████████████████████████████████████████████████| 100%\n"
     ]
    }
   ],
   "source": [
    "aml4 = automl(1300,X,y,df)"
   ]
  },
  {
   "cell_type": "markdown",
   "metadata": {},
   "source": [
    "__After the AutoML is executed, execution time of the model is calculated and stored in meta data__"
   ]
  },
  {
   "cell_type": "code",
   "execution_count": 104,
   "metadata": {},
   "outputs": [],
   "source": [
    "meta_data['end_time'] = time.time()\n",
    "meta_data['execution_time'] = meta_data['end_time'] - meta_data['start_time']"
   ]
  },
  {
   "cell_type": "code",
   "execution_count": 105,
   "metadata": {},
   "outputs": [
    {
     "data": {
      "text/html": [
       "<table>\n",
       "<thead>\n",
       "<tr><th>model_id                                 </th><th style=\"text-align: right;\">  mean_residual_deviance</th><th style=\"text-align: right;\">    rmse</th><th style=\"text-align: right;\">     mse</th><th style=\"text-align: right;\">     mae</th><th style=\"text-align: right;\">   rmsle</th></tr>\n",
       "</thead>\n",
       "<tbody>\n",
       "<tr><td>DRF_1_AutoML_20190426_194039             </td><td style=\"text-align: right;\">                0.254988</td><td style=\"text-align: right;\">0.504963</td><td style=\"text-align: right;\">0.254988</td><td style=\"text-align: right;\">0.233633</td><td style=\"text-align: right;\">0.101579</td></tr>\n",
       "<tr><td>DRF_1_AutoML_20190426_190238             </td><td style=\"text-align: right;\">                0.257372</td><td style=\"text-align: right;\">0.507318</td><td style=\"text-align: right;\">0.257372</td><td style=\"text-align: right;\">0.232024</td><td style=\"text-align: right;\">0.102192</td></tr>\n",
       "<tr><td>DRF_1_AutoML_20190426_191106             </td><td style=\"text-align: right;\">                0.260092</td><td style=\"text-align: right;\">0.509992</td><td style=\"text-align: right;\">0.260092</td><td style=\"text-align: right;\">0.236998</td><td style=\"text-align: right;\">0.102971</td></tr>\n",
       "<tr><td>DRF_1_AutoML_20190426_192315             </td><td style=\"text-align: right;\">                0.262488</td><td style=\"text-align: right;\">0.512335</td><td style=\"text-align: right;\">0.262488</td><td style=\"text-align: right;\">0.238041</td><td style=\"text-align: right;\">0.102805</td></tr>\n",
       "<tr><td>GLM_grid_1_AutoML_20190426_191106_model_1</td><td style=\"text-align: right;\">                0.804409</td><td style=\"text-align: right;\">0.896889</td><td style=\"text-align: right;\">0.804409</td><td style=\"text-align: right;\">0.557699</td><td style=\"text-align: right;\">0.259754</td></tr>\n",
       "<tr><td>XRT_1_AutoML_20190426_192315             </td><td style=\"text-align: right;\">                4.67692 </td><td style=\"text-align: right;\">2.16262 </td><td style=\"text-align: right;\">4.67692 </td><td style=\"text-align: right;\">2.04417 </td><td style=\"text-align: right;\">0.361872</td></tr>\n",
       "<tr><td>XRT_1_AutoML_20190426_191106             </td><td style=\"text-align: right;\">                5.21776 </td><td style=\"text-align: right;\">2.28424 </td><td style=\"text-align: right;\">5.21776 </td><td style=\"text-align: right;\">2.11448 </td><td style=\"text-align: right;\">0.413154</td></tr>\n",
       "</tbody>\n",
       "</table>"
      ]
     },
     "metadata": {},
     "output_type": "display_data"
    },
    {
     "data": {
      "text/plain": []
     },
     "execution_count": 105,
     "metadata": {},
     "output_type": "execute_result"
    }
   ],
   "source": [
    "aml4.leaderboard"
   ]
  },
  {
   "cell_type": "markdown",
   "metadata": {},
   "source": [
    "__These are models generated in an order from best to worst__"
   ]
  },
  {
   "cell_type": "markdown",
   "metadata": {},
   "source": [
    "__The leaderboard is converted to data frame object so that all model_ids are stored in a seperate list to get parameters__"
   ]
  },
  {
   "cell_type": "code",
   "execution_count": 106,
   "metadata": {},
   "outputs": [
    {
     "data": {
      "text/plain": [
       "0                 DRF_1_AutoML_20190426_194039\n",
       "1                 DRF_1_AutoML_20190426_190238\n",
       "2                 DRF_1_AutoML_20190426_191106\n",
       "3                 DRF_1_AutoML_20190426_192315\n",
       "4    GLM_grid_1_AutoML_20190426_191106_model_1\n",
       "5                 XRT_1_AutoML_20190426_192315\n",
       "6                 XRT_1_AutoML_20190426_191106\n",
       "Name: model_id, dtype: object"
      ]
     },
     "execution_count": 106,
     "metadata": {},
     "output_type": "execute_result"
    }
   ],
   "source": [
    "aml4_leaderboard_df=aml4.leaderboard.as_data_frame()\n",
    "model4_set=aml4_leaderboard_df['model_id']\n",
    "model4_set"
   ]
  },
  {
   "cell_type": "markdown",
   "metadata": {},
   "source": [
    "__Total number of models generated is also stored in meta data__"
   ]
  },
  {
   "cell_type": "code",
   "execution_count": 107,
   "metadata": {},
   "outputs": [],
   "source": [
    "length = len(aml4_leaderboard_df)\n",
    "length\n",
    "meta_data[\"models_generated\"] = length"
   ]
  },
  {
   "cell_type": "markdown",
   "metadata": {},
   "source": [
    "__Leaderboard is stored in csv files__"
   ]
  },
  {
   "cell_type": "code",
   "execution_count": 108,
   "metadata": {},
   "outputs": [],
   "source": [
    "# save leaderboard\n",
    "leaderboard_stats=run_id+'_leaderboard_1300.csv'\n",
    "aml4_leaderboard_df.to_csv(leaderboard_stats)"
   ]
  },
  {
   "cell_type": "code",
   "execution_count": 109,
   "metadata": {},
   "outputs": [],
   "source": [
    "count = 0;\n",
    "for i in model4_set:\n",
    "    count = count+1;"
   ]
  },
  {
   "cell_type": "markdown",
   "metadata": {},
   "source": [
    "__Each model parameters are stored in json file along with meta_data__"
   ]
  },
  {
   "cell_type": "code",
   "execution_count": 110,
   "metadata": {},
   "outputs": [],
   "source": [
    "for i in range(0,count):\n",
    "    mod_best=h2o.get_model(model4_set[i])\n",
    "    parameters = mod_best.params\n",
    "    n= str((model4_set[i]))+'__1300'\n",
    "    dict_to_json(parameters,n)"
   ]
  },
  {
   "cell_type": "code",
   "execution_count": 111,
   "metadata": {},
   "outputs": [
    {
     "data": {
      "text/plain": [
       "{'start_time': 1556322038.62908,\n",
       " 'target': 'score',\n",
       " 'data_path': 'anime_filtered.csv',\n",
       " 'run_time': 1300,\n",
       " 'run_id': 'RAcsyAaQB',\n",
       " 'regression': True,\n",
       " 'scale': False,\n",
       " 'project': 'RAcsyAaQBAnime1300',\n",
       " 'end_time': 1556323388.020232,\n",
       " 'execution_time': 1349.3911519050598,\n",
       " 'run_path': '/Users/vaish/RAcsyAaQB',\n",
       " 'min_mem_size': 5,\n",
       " 'balance_threshold': 0.2,\n",
       " 'server_path': '/Users/vaish',\n",
       " 'X': ['anime_id',\n",
       "  'episodes',\n",
       "  'scored_by',\n",
       "  'rank',\n",
       "  'popularity',\n",
       "  'members',\n",
       "  'favorites',\n",
       "  'type',\n",
       "  'source',\n",
       "  'status',\n",
       "  'airing',\n",
       "  'aired_string',\n",
       "  'aired',\n",
       "  'duration',\n",
       "  'rating',\n",
       "  'premiered',\n",
       "  'broadcast',\n",
       "  'related',\n",
       "  'producer',\n",
       "  'licensor',\n",
       "  'studio',\n",
       "  'genre',\n",
       "  'opening_theme',\n",
       "  'ending_theme',\n",
       "  'title',\n",
       "  'title_english',\n",
       "  'title_japanese',\n",
       "  'title_synonyms',\n",
       "  'image_url',\n",
       "  'background'],\n",
       " 'variables_datatypes': {'anime_id': 'int',\n",
       "  'title': 'string',\n",
       "  'title_english': 'string',\n",
       "  'title_japanese': 'string',\n",
       "  'title_synonyms': 'string',\n",
       "  'image_url': 'string',\n",
       "  'type': 'enum',\n",
       "  'source': 'enum',\n",
       "  'episodes': 'int',\n",
       "  'status': 'enum',\n",
       "  'airing': 'enum',\n",
       "  'aired_string': 'enum',\n",
       "  'aired': 'enum',\n",
       "  'duration': 'enum',\n",
       "  'rating': 'enum',\n",
       "  'score': 'real',\n",
       "  'scored_by': 'int',\n",
       "  'rank': 'int',\n",
       "  'popularity': 'int',\n",
       "  'members': 'int',\n",
       "  'favorites': 'int',\n",
       "  'background': 'string',\n",
       "  'premiered': 'enum',\n",
       "  'broadcast': 'enum',\n",
       "  'related': 'enum',\n",
       "  'producer': 'enum',\n",
       "  'licensor': 'enum',\n",
       "  'studio': 'enum',\n",
       "  'genre': 'enum',\n",
       "  'opening_theme': 'enum',\n",
       "  'ending_theme': 'enum'},\n",
       " 'models_generated': 7}"
      ]
     },
     "execution_count": 111,
     "metadata": {},
     "output_type": "execute_result"
    }
   ],
   "source": [
    "n=run_id+'_meta_data.json'\n",
    "dict_to_json(meta_data,n)\n",
    "meta_data"
   ]
  },
  {
   "cell_type": "markdown",
   "metadata": {},
   "source": [
    "__Since all the files for the particular run id are generated, the directory is again changed to the server path__"
   ]
  },
  {
   "cell_type": "code",
   "execution_count": 112,
   "metadata": {},
   "outputs": [],
   "source": [
    "os.chdir(server_path)"
   ]
  },
  {
   "cell_type": "markdown",
   "metadata": {},
   "source": [
    "## Run Time = 1500 seconds "
   ]
  },
  {
   "cell_type": "code",
   "execution_count": 113,
   "metadata": {},
   "outputs": [
    {
     "name": "stdout",
     "output_type": "stream",
     "text": [
      "EN8dwaiSI\n"
     ]
    }
   ],
   "source": [
    "run_id=alphabet(9)\n",
    "if server_path==None:\n",
    "    server_path=os.path.abspath(os.curdir)\n",
    "os.chdir(server_path) \n",
    "run_dir = os.path.join(server_path,run_id)\n",
    "os.mkdir(run_dir)\n",
    "os.chdir(run_dir)    \n",
    "\n",
    "name = run_id+'Anime'+str('1500')\n",
    "# run_id to std out\n",
    "print (run_id)"
   ]
  },
  {
   "cell_type": "markdown",
   "metadata": {},
   "source": [
    "#### Analysis from the above code\n",
    "\n",
    "- Random run_id is generated with the help of alphabet function defined above. \n",
    "- Server_path variable is initialized with present directory in which the server is running. \n",
    "- A folder is created with the name of run_id to store all the files generated with this run time.\n"
   ]
  },
  {
   "cell_type": "code",
   "execution_count": 114,
   "metadata": {},
   "outputs": [
    {
     "name": "stdout",
     "output_type": "stream",
     "text": [
      "{'start_time': 1556323429.578681, 'target': 'score', 'data_path': 'anime_filtered.csv', 'run_time': 333, 'run_id': 'EN8dwaiSI', 'regression': True, 'scale': False, 'project': 'EN8dwaiSIAnime1500', 'end_time': 1556323429.5786839, 'execution_time': 0.0, 'run_path': '/Users/vaish/EN8dwaiSI', 'min_mem_size': 5, 'balance_threshold': 0.2}\n"
     ]
    }
   ],
   "source": [
    "meta_data = set_meta_data(run_id,data_path,target,run_time,regression,name,run_dir,min_mem_size)\n",
    "print(meta_data)"
   ]
  },
  {
   "cell_type": "markdown",
   "metadata": {},
   "source": [
    "__A meta data variable is created to store basic functionalities of the AutomML model. This contains the details of run_id,model start time, model execution time__\n",
    "\n"
   ]
  },
  {
   "cell_type": "code",
   "execution_count": 115,
   "metadata": {},
   "outputs": [],
   "source": [
    "server_path=os.path.abspath(os.curdir)\n",
    "meta_data['server_path'] = server_path\n",
    "meta_data['X']=X \n",
    "allV=get_variables_types(df)\n",
    "meta_data['variables_datatypes']=allV\n",
    "meta_data['run_time'] = 1500\n",
    "model_start_time = time.time()"
   ]
  },
  {
   "cell_type": "markdown",
   "metadata": {},
   "source": [
    "__All the independent variables of X are stored in meta_data and model start time is taken into account. And also, datatypes of X variables are stored in meta data__"
   ]
  },
  {
   "cell_type": "code",
   "execution_count": 116,
   "metadata": {},
   "outputs": [],
   "source": [
    "meta_data['end_time'] = time.time()\n",
    "meta_data['execution_time'] = meta_data['end_time'] - meta_data['start_time']"
   ]
  },
  {
   "cell_type": "markdown",
   "metadata": {},
   "source": [
    "__After the AutoML is executed, execution time of the model is calculated and stored in meta data__"
   ]
  },
  {
   "cell_type": "code",
   "execution_count": 117,
   "metadata": {},
   "outputs": [
    {
     "ename": "NameError",
     "evalue": "name 'aml5' is not defined",
     "output_type": "error",
     "traceback": [
      "\u001b[0;31m---------------------------------------------------------------------------\u001b[0m",
      "\u001b[0;31mNameError\u001b[0m                                 Traceback (most recent call last)",
      "\u001b[0;32m<ipython-input-117-54d38a6a6e0f>\u001b[0m in \u001b[0;36m<module>\u001b[0;34m\u001b[0m\n\u001b[0;32m----> 1\u001b[0;31m \u001b[0maml5\u001b[0m\u001b[0;34m.\u001b[0m\u001b[0mleaderboard\u001b[0m\u001b[0;34m\u001b[0m\u001b[0;34m\u001b[0m\u001b[0m\n\u001b[0m",
      "\u001b[0;31mNameError\u001b[0m: name 'aml5' is not defined"
     ]
    }
   ],
   "source": [
    "aml5.leaderboard"
   ]
  },
  {
   "cell_type": "markdown",
   "metadata": {},
   "source": [
    "__These are models generated in an order from best to worst__"
   ]
  },
  {
   "cell_type": "markdown",
   "metadata": {},
   "source": [
    "__The leaderboard is converted to data frame object so that all model_ids are stored in a seperate list to get parameters__"
   ]
  },
  {
   "cell_type": "code",
   "execution_count": null,
   "metadata": {},
   "outputs": [],
   "source": [
    "aml5_leaderboard_df=aml5.leaderboard.as_data_frame()\n",
    "model5_set=aml5_leaderboard_df['model_id']\n",
    "model5_set"
   ]
  },
  {
   "cell_type": "markdown",
   "metadata": {},
   "source": [
    "__Total number of models generated is also stored in meta data__"
   ]
  },
  {
   "cell_type": "code",
   "execution_count": null,
   "metadata": {},
   "outputs": [],
   "source": [
    "length = len(aml5_leaderboard_df)\n",
    "length\n",
    "meta_data[\"models_generated\"] = length"
   ]
  },
  {
   "cell_type": "markdown",
   "metadata": {},
   "source": [
    "__Leaderboard is stored in csv files__"
   ]
  },
  {
   "cell_type": "code",
   "execution_count": null,
   "metadata": {},
   "outputs": [],
   "source": [
    "# save leaderboard\n",
    "leaderboard_stats=run_id+'_leaderboard_1500.csv'\n",
    "aml5_leaderboard_df.to_csv(leaderboard_stats)"
   ]
  },
  {
   "cell_type": "markdown",
   "metadata": {},
   "source": [
    "__Each model parameters are stored in json file along with meta_data__"
   ]
  },
  {
   "cell_type": "code",
   "execution_count": null,
   "metadata": {},
   "outputs": [],
   "source": [
    "count = 0;\n",
    "for i in model5_set:\n",
    "    count = count+1;"
   ]
  },
  {
   "cell_type": "code",
   "execution_count": null,
   "metadata": {},
   "outputs": [],
   "source": [
    "for i in range(0,count):\n",
    "    mod_best=h2o.get_model(model5_set[i])\n",
    "    parameters = mod_best.params\n",
    "    n= str((model5_set[i]))+'__1500'\n",
    "    dict_to_json(parameters,n)"
   ]
  },
  {
   "cell_type": "code",
   "execution_count": null,
   "metadata": {},
   "outputs": [],
   "source": [
    "# Update and save meta data  \n",
    "n=run_id+'_meta_data.json'\n",
    "dict_to_json(meta_data,n)\n",
    "meta_data"
   ]
  },
  {
   "cell_type": "markdown",
   "metadata": {},
   "source": [
    "__Since all the files for the particular run id are generated, the directory is again changed to the server path__"
   ]
  },
  {
   "cell_type": "code",
   "execution_count": null,
   "metadata": {},
   "outputs": [],
   "source": [
    "os.chdir(server_path)"
   ]
  },
  {
   "cell_type": "markdown",
   "metadata": {},
   "source": [
    "# Conclusion\n",
    "\n",
    "For each runtime, various models are generated as you can see below.\n",
    "\n",
    "| RUN TIME (sec) | Algorithms generated | Total number of models |\n",
    "|---|---|---|\n",
    "| 333  | StackedEnsemble, Xgboost,GLM | Total number of models |\n",
    "| 500  | Staked Ensemble, Xgboost, DRF,GBM, GLM | Total number of models |\n",
    "| 700  | Staked Ensemble, Xgboost, DRF,GBM, GLM | Total number of models |\n",
    "| 1000 | Staked Ensemble, Xgboost, DRF,GBM, GLM | Total number of models |\n",
    "| 1300 | Staked Ensemble, Xgboost, DRF,GBM, GLM | Total number of models |\n",
    "| 1500 | Staked Ensemble, Xgboost, DRF,GBM, GLM | Total number of models |\n",
    "\n",
    "Ensemble Methods contains combination of other algorithmns and does not have any parameters, hence it is not considered. After getting all the model hyperparameters csv files from database team, we have done Grid Search using XGBRegressor for XGBoost, GradientBoostingRegressor for GBM, ExtraTreesRegressor for XRT, RandomForestRegressor for DRF to find best hyperparameter value among the generated ones.\n",
    "\n",
    "- For XGBoost - 'col_sample_rate': 0.6,\n",
    "                'col_sample_rate_per_tree': 0.8,\n",
    "                 'learn_rate': 0.05,\n",
    "                  'max_depth': 5,\n",
    "                  'min_rows': 10.0, \n",
    "                  'ntrees': 197,\n",
    "                  'sample_rate': 0.6,\n",
    "                  'stopping_rounds': 0 are found to important values for the hyperparameters. \n",
    "- For GBM - 'max_depth': 5 \n",
    "\n",
    "and \n",
    "\n",
    "- For GLM,DRF and XRT there were no hyperparameters which can run on Grid Search\n",
    "\n",
    "Later, ranges for each hyperparameters are found for each algorithm. Few hyperparameters had constant value but few differed like below\n",
    "\n",
    "- For XGBoost -  'seed' : [-8.186597997308668e+18, 8.50284134061186e+18],\n",
    "              - 'ntrees': [13.0, 276.0],\n",
    "              - 'max_runtime_secs': [0.0, 53.0],\n",
    "              - 'stopping_rounds': [0.0, 3.0],\n",
    "              - 'max_depth': [5.0, 20.0],\n",
    "              - 'min_rows': [0.01, 20.0],\n",
    "              - 'col_sam_r_per_tree': [0.7, 1.0]\n",
    "- For GBM     - 'max_depth': [3.0, 16.0],\n",
    "              - 'min_rows': [3.0, 16.0],\n",
    "              - 'seed': [-9e+18, 8.93e+18],\n",
    "              - 'sample_rate': [0.5, 1.0]\n",
    "- For GLM.    - 'glm_id': [1.0, 6.0],\n",
    "              - 'nfolds': [5.0, 5.0],\n",
    "              - 'seed': [-5.91e+18, 6.33e+18],\n",
    "              - 'gradient_epsilon', [1e-06, 1e-06],\n",
    "- For XRT     - 'seed', [-7.04e+18, 6.82e+18],\n",
    "              - 'ntrees', [14.0, 50.0],\n",
    "- For DRF.    - 'seed', [-6.25e+18, 8.56e+18]\n",
    "\n"
   ]
  },
  {
   "cell_type": "markdown",
   "metadata": {},
   "source": [
    "# Contributions\n",
    "\n",
    "- EDA was performed on the dataset so that the dataset is clean and do not contain any null values.\n",
    "- H2O AutoML is used for the Dataset to get best models for each runtime to store hyperparameters in JSON. \n",
    "- For each run time, meta data is generated and stored in json file\n",
    "- Further, Hyperparameters range and important hyperparameters are found using various criteria like grid search.\n",
    "\n",
    "- By External source- 30%\n",
    "- By Vaishnavi - 35%\n",
    "- By Nupur - 35%"
   ]
  },
  {
   "cell_type": "markdown",
   "metadata": {},
   "source": [
    "# Citations\n",
    "\n",
    "\n",
    "https://github.com/prabhuSub/Hyperparamter-Samples\n",
    "\n",
    "https://github.com/nikbearbrown/CSYE_7245/tree/master/H2O\n",
    "\n",
    "https://dzone.com/articles/exploring-h2oai-automl\n",
    "\n",
    "http://docs.h2o.ai/h2o/latest-stable/h2o-docs/automl.html\n",
    "\n"
   ]
  },
  {
   "cell_type": "markdown",
   "metadata": {},
   "source": [
    "# License\n",
    "\n",
    "Copyright 2019 Vaishnavi Malireddy,Nupur Garg \n",
    "\n",
    "Permission is hereby granted, free of charge, to any person obtaining a copy of this software and associated documentation files (the \"Software\"), to deal in the Software without restriction, including without limitation the rights to use, copy, modify, merge, publish, distribute, sublicense, and/or sell copies of the Software, and to permit persons to whom the Software is furnished to do so, subject to the following conditions:\n",
    "\n",
    "The above copyright notice and this permission notice shall be included in all copies or substantial portions of the Software.\n",
    "\n",
    "THE SOFTWARE IS PROVIDED \"AS IS\", WITHOUT WARRANTY OF ANY KIND, EXPRESS OR IMPLIED, INCLUDING BUT NOT LIMITED TO THE WARRANTIES OF MERCHANTABILITY, FITNESS FOR A PARTICULAR PURPOSE AND NONINFRINGEMENT. IN NO EVENT SHALL THE AUTHORS OR COPYRIGHT HOLDERS BE LIABLE FOR ANY CLAIM, DAMAGES OR OTHER LIABILITY, WHETHER IN AN ACTION OF CONTRACT, TORT OR OTHERWISE, ARISING FROM, OUT OF OR IN CONNECTION WITH THE SOFTWARE OR THE USE OR OTHER DEALINGS IN THE SOFTWARE."
   ]
  }
 ],
 "metadata": {
  "kernelspec": {
   "display_name": "Python 3",
   "language": "python",
   "name": "python3"
  },
  "language_info": {
   "codemirror_mode": {
    "name": "ipython",
    "version": 3
   },
   "file_extension": ".py",
   "mimetype": "text/x-python",
   "name": "python",
   "nbconvert_exporter": "python",
   "pygments_lexer": "ipython3",
   "version": "3.7.2"
  }
 },
 "nbformat": 4,
 "nbformat_minor": 2
}
