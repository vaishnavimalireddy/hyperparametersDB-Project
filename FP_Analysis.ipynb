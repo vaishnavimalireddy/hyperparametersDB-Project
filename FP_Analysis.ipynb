{
 "cells": [
  {
   "cell_type": "markdown",
   "metadata": {},
   "source": [
    "# Analysis\n",
    "\n",
    "After generating the models for all the algorithmns for different runtimes, csv files are generated for each model with the hyperparameters values. These hyperparameters are analysed to find three things:\n",
    "\n",
    "1. Trying to find the important hyperparameters\n",
    "2. Trying to find the range of hyperparameters\n",
    "3. Compare the range of values across the models for different hyperparameters"
   ]
  },
  {
   "cell_type": "code",
   "execution_count": 233,
   "metadata": {},
   "outputs": [],
   "source": [
    "#importing h2o libraries\n",
    "import h2o\n",
    "from h2o.automl import H2OAutoML\n",
    "import random, os, sys\n",
    "from datetime import datetime\n",
    "import logging\n",
    "import csv\n",
    "import optparse\n",
    "import time\n",
    "import json\n",
    "from distutils.util import strtobool\n",
    "import psutil\n",
    "\n",
    "import warnings\n",
    "warnings.filterwarnings('ignore')\n",
    "\n"
   ]
  },
  {
   "cell_type": "code",
   "execution_count": 234,
   "metadata": {},
   "outputs": [],
   "source": [
    "# importing libraries\n",
    "%matplotlib inline \n",
    "import matplotlib.pyplot as plt\n",
    "import numpy as np\n",
    "import pandas as pd\n",
    "from scipy import stats\n",
    "import seaborn as sns\n",
    "import re"
   ]
  },
  {
   "cell_type": "code",
   "execution_count": 235,
   "metadata": {},
   "outputs": [
    {
     "name": "stdout",
     "output_type": "stream",
     "text": [
      "Checking whether there is an H2O instance running at http://localhost:51199..... not found.\n",
      "Attempting to start a local H2O server...\n",
      "  Java Version: java version \"1.8.0_101\"; Java(TM) SE Runtime Environment (build 1.8.0_101-b13); Java HotSpot(TM) 64-Bit Server VM (build 25.101-b13, mixed mode)\n",
      "  Starting server from /Applications/anaconda3/lib/python3.7/site-packages/h2o/backend/bin/h2o.jar\n",
      "  Ice root: /var/folders/gf/p944hdxd7jq73_9cxfglxn540000gn/T/tmpnavlvu22\n",
      "  JVM stdout: /var/folders/gf/p944hdxd7jq73_9cxfglxn540000gn/T/tmpnavlvu22/h2o_vaish_started_from_python.out\n",
      "  JVM stderr: /var/folders/gf/p944hdxd7jq73_9cxfglxn540000gn/T/tmpnavlvu22/h2o_vaish_started_from_python.err\n",
      "  Server is running at http://127.0.0.1:51199\n",
      "Connecting to H2O server at http://127.0.0.1:51199... successful.\n"
     ]
    },
    {
     "data": {
      "text/html": [
       "<div style=\"overflow:auto\"><table style=\"width:50%\"><tr><td>H2O cluster uptime:</td>\n",
       "<td>03 secs</td></tr>\n",
       "<tr><td>H2O cluster timezone:</td>\n",
       "<td>America/New_York</td></tr>\n",
       "<tr><td>H2O data parsing timezone:</td>\n",
       "<td>UTC</td></tr>\n",
       "<tr><td>H2O cluster version:</td>\n",
       "<td>3.22.1.6</td></tr>\n",
       "<tr><td>H2O cluster version age:</td>\n",
       "<td>1 month and 12 days </td></tr>\n",
       "<tr><td>H2O cluster name:</td>\n",
       "<td>H2O_from_python_vaish_19v214</td></tr>\n",
       "<tr><td>H2O cluster total nodes:</td>\n",
       "<td>1</td></tr>\n",
       "<tr><td>H2O cluster free memory:</td>\n",
       "<td>4.792 Gb</td></tr>\n",
       "<tr><td>H2O cluster total cores:</td>\n",
       "<td>8</td></tr>\n",
       "<tr><td>H2O cluster allowed cores:</td>\n",
       "<td>8</td></tr>\n",
       "<tr><td>H2O cluster status:</td>\n",
       "<td>accepting new members, healthy</td></tr>\n",
       "<tr><td>H2O connection url:</td>\n",
       "<td>http://127.0.0.1:51199</td></tr>\n",
       "<tr><td>H2O connection proxy:</td>\n",
       "<td>None</td></tr>\n",
       "<tr><td>H2O internal security:</td>\n",
       "<td>False</td></tr>\n",
       "<tr><td>H2O API Extensions:</td>\n",
       "<td>Amazon S3, XGBoost, Algos, AutoML, Core V3, Core V4</td></tr>\n",
       "<tr><td>Python version:</td>\n",
       "<td>3.7.1 final</td></tr></table></div>"
      ],
      "text/plain": [
       "--------------------------  ---------------------------------------------------\n",
       "H2O cluster uptime:         03 secs\n",
       "H2O cluster timezone:       America/New_York\n",
       "H2O data parsing timezone:  UTC\n",
       "H2O cluster version:        3.22.1.6\n",
       "H2O cluster version age:    1 month and 12 days\n",
       "H2O cluster name:           H2O_from_python_vaish_19v214\n",
       "H2O cluster total nodes:    1\n",
       "H2O cluster free memory:    4.792 Gb\n",
       "H2O cluster total cores:    8\n",
       "H2O cluster allowed cores:  8\n",
       "H2O cluster status:         accepting new members, healthy\n",
       "H2O connection url:         http://127.0.0.1:51199\n",
       "H2O connection proxy:\n",
       "H2O internal security:      False\n",
       "H2O API Extensions:         Amazon S3, XGBoost, Algos, AutoML, Core V3, Core V4\n",
       "Python version:             3.7.1 final\n",
       "--------------------------  ---------------------------------------------------"
      ]
     },
     "metadata": {},
     "output_type": "display_data"
    }
   ],
   "source": [
    "#starting h2o \n",
    "port_no=random.randint(5555,55555)\n",
    "h2o.init(strict_version_check=False,min_mem_size_GB=5,port=port_no)"
   ]
  },
  {
   "cell_type": "markdown",
   "metadata": {},
   "source": [
    "Data set is imported using pandas as it is needed for GridSearch to find important hyperparameters"
   ]
  },
  {
   "cell_type": "code",
   "execution_count": 236,
   "metadata": {},
   "outputs": [],
   "source": [
    "dfd=pd.read_csv(\"anime_filtered.csv\", decimal = ',')"
   ]
  },
  {
   "cell_type": "code",
   "execution_count": 237,
   "metadata": {},
   "outputs": [
    {
     "data": {
      "text/plain": [
       "anime_id           int64\n",
       "title             object\n",
       "title_english     object\n",
       "title_japanese    object\n",
       "title_synonyms    object\n",
       "image_url         object\n",
       "type              object\n",
       "source            object\n",
       "episodes           int64\n",
       "status            object\n",
       "airing              bool\n",
       "aired_string      object\n",
       "aired             object\n",
       "duration          object\n",
       "rating            object\n",
       "score             object\n",
       "scored_by          int64\n",
       "rank              object\n",
       "popularity         int64\n",
       "members            int64\n",
       "favorites          int64\n",
       "background        object\n",
       "premiered         object\n",
       "broadcast         object\n",
       "related           object\n",
       "producer          object\n",
       "licensor          object\n",
       "studio            object\n",
       "genre             object\n",
       "opening_theme     object\n",
       "ending_theme      object\n",
       "dtype: object"
      ]
     },
     "execution_count": 237,
     "metadata": {},
     "output_type": "execute_result"
    }
   ],
   "source": [
    "dfd.dtypes"
   ]
  },
  {
   "cell_type": "markdown",
   "metadata": {},
   "source": [
    "As the datatypes of some real values are object, we have to convert all of them to float"
   ]
  },
  {
   "cell_type": "code",
   "execution_count": 238,
   "metadata": {},
   "outputs": [],
   "source": [
    "dfd['score'] = dfd.score.astype(float)"
   ]
  },
  {
   "cell_type": "code",
   "execution_count": 239,
   "metadata": {},
   "outputs": [],
   "source": [
    "ser = pd.Series(dfd['rank'])\n",
    "dfd['rank'] = ser.astype('float')"
   ]
  },
  {
   "cell_type": "markdown",
   "metadata": {},
   "source": [
    "Categorical columns and boolean values are converted to integers and "
   ]
  },
  {
   "cell_type": "code",
   "execution_count": 240,
   "metadata": {},
   "outputs": [],
   "source": [
    "dfd['status'] = dfd['status'].astype('category').cat.codes\n",
    "dfd['source'] = dfd['source'].astype('category').cat.codes\n",
    "dfd['type'] = dfd['type'].astype('category').cat.codes"
   ]
  },
  {
   "cell_type": "code",
   "execution_count": 241,
   "metadata": {},
   "outputs": [],
   "source": [
    "dfd = dfd.applymap(lambda x: 1 if x == True else x)\n",
    "dfd = dfd.applymap(lambda x: 0 if x == False else x)"
   ]
  },
  {
   "cell_type": "code",
   "execution_count": 242,
   "metadata": {},
   "outputs": [
    {
     "data": {
      "text/plain": [
       "anime_id            int64\n",
       "title              object\n",
       "title_english      object\n",
       "title_japanese     object\n",
       "title_synonyms     object\n",
       "image_url          object\n",
       "type                int64\n",
       "source              int64\n",
       "episodes            int64\n",
       "status              int64\n",
       "airing              int64\n",
       "aired_string       object\n",
       "aired              object\n",
       "duration           object\n",
       "rating             object\n",
       "score             float64\n",
       "scored_by           int64\n",
       "rank              float64\n",
       "popularity          int64\n",
       "members             int64\n",
       "favorites           int64\n",
       "background         object\n",
       "premiered          object\n",
       "broadcast          object\n",
       "related            object\n",
       "producer           object\n",
       "licensor           object\n",
       "studio             object\n",
       "genre              object\n",
       "opening_theme      object\n",
       "ending_theme       object\n",
       "dtype: object"
      ]
     },
     "execution_count": 242,
     "metadata": {},
     "output_type": "execute_result"
    }
   ],
   "source": [
    "dfd.dtypes"
   ]
  },
  {
   "cell_type": "markdown",
   "metadata": {},
   "source": [
    "X and Y are initialised with dataset columns with score as target. X is initialized with columns whose datatypes are int, float , real values"
   ]
  },
  {
   "cell_type": "code",
   "execution_count": 243,
   "metadata": {},
   "outputs": [],
   "source": [
    "columns = ['type','source','episodes','status','airing','scored_by','popularity','members','favorites']\n",
    "X = dfd[columns]\n",
    "y = dfd.score"
   ]
  },
  {
   "cell_type": "markdown",
   "metadata": {},
   "source": [
    "__XGBoost__ "
   ]
  },
  {
   "cell_type": "code",
   "execution_count": 84,
   "metadata": {},
   "outputs": [
    {
     "name": "stdout",
     "output_type": "stream",
     "text": [
      "Parse progress: |█████████████████████████████████████████████████████████| 100%\n"
     ]
    }
   ],
   "source": [
    "#importing the file\n",
    "# df=pd.read_csv(\"XGboost.csv\", decimal = ',')\n",
    "df = h2o.import_file(path=\"XGboost.csv\")"
   ]
  },
  {
   "cell_type": "code",
   "execution_count": 85,
   "metadata": {},
   "outputs": [
    {
     "data": {
      "text/html": [
       "<table>\n",
       "<thead>\n",
       "<tr><th>name                            </th><th style=\"text-align: right;\">  nfolds</th><th style=\"text-align: right;\">       seed</th><th style=\"text-align: right;\">  solver</th><th>kc_val_mo  </th><th>kc_val_pr  </th><th>fold_assignment  </th><th style=\"text-align: right;\">  ntrees</th><th style=\"text-align: right;\">  max_runtime_secs</th><th style=\"text-align: right;\">  stopping_rounds</th><th>stopping_metric  </th><th style=\"text-align: right;\">  stopping_tolerance</th><th style=\"text-align: right;\">  max_depth</th><th style=\"text-align: right;\">  learn_rate</th><th style=\"text-align: right;\">  min_rows</th><th style=\"text-align: right;\">  sample_rate</th><th style=\"text-align: right;\">  col_sam_rate</th><th style=\"text-align: right;\">  col_sam_r_per_tree</th><th style=\"text-align: right;\">  score_tree_interval</th></tr>\n",
       "</thead>\n",
       "<tbody>\n",
       "<tr><td>XGBoost_1_AutoML_20190418_132524</td><td style=\"text-align: right;\">       5</td><td style=\"text-align: right;\">5.9207e+18 </td><td style=\"text-align: right;\">     nan</td><td>False      </td><td>True       </td><td>Modulo           </td><td style=\"text-align: right;\">     197</td><td style=\"text-align: right;\">                 8</td><td style=\"text-align: right;\">                3</td><td>deviance         </td><td style=\"text-align: right;\">            0.008312</td><td style=\"text-align: right;\">         20</td><td style=\"text-align: right;\">        0.05</td><td style=\"text-align: right;\">        10</td><td style=\"text-align: right;\">          0.6</td><td style=\"text-align: right;\">           0.8</td><td style=\"text-align: right;\">                 0.8</td><td style=\"text-align: right;\">                    5</td></tr>\n",
       "<tr><td>XGBoost_1_AutoML_20190418_132524</td><td style=\"text-align: right;\">       5</td><td style=\"text-align: right;\">5.9207e+18 </td><td style=\"text-align: right;\">     nan</td><td>False      </td><td>True       </td><td>Modulo           </td><td style=\"text-align: right;\">     197</td><td style=\"text-align: right;\">                 8</td><td style=\"text-align: right;\">                3</td><td>deviance         </td><td style=\"text-align: right;\">            0.008312</td><td style=\"text-align: right;\">         20</td><td style=\"text-align: right;\">        0.05</td><td style=\"text-align: right;\">        10</td><td style=\"text-align: right;\">          0.6</td><td style=\"text-align: right;\">           0.8</td><td style=\"text-align: right;\">                 0.8</td><td style=\"text-align: right;\">                    5</td></tr>\n",
       "<tr><td>XGBoost_1_AutoML_20190418_132524</td><td style=\"text-align: right;\">       5</td><td style=\"text-align: right;\">5.9207e+18 </td><td style=\"text-align: right;\">     nan</td><td>False      </td><td>True       </td><td>Modulo           </td><td style=\"text-align: right;\">     197</td><td style=\"text-align: right;\">                 8</td><td style=\"text-align: right;\">                3</td><td>deviance         </td><td style=\"text-align: right;\">            0.008312</td><td style=\"text-align: right;\">         20</td><td style=\"text-align: right;\">        0.05</td><td style=\"text-align: right;\">        10</td><td style=\"text-align: right;\">          0.6</td><td style=\"text-align: right;\">           0.8</td><td style=\"text-align: right;\">                 0.8</td><td style=\"text-align: right;\">                    5</td></tr>\n",
       "<tr><td>XGBoost_1_AutoML_20190418_132524</td><td style=\"text-align: right;\">       5</td><td style=\"text-align: right;\">5.9207e+18 </td><td style=\"text-align: right;\">     nan</td><td>False      </td><td>True       </td><td>Modulo           </td><td style=\"text-align: right;\">     197</td><td style=\"text-align: right;\">                 8</td><td style=\"text-align: right;\">                3</td><td>deviance         </td><td style=\"text-align: right;\">            0.008312</td><td style=\"text-align: right;\">         20</td><td style=\"text-align: right;\">        0.05</td><td style=\"text-align: right;\">        10</td><td style=\"text-align: right;\">          0.6</td><td style=\"text-align: right;\">           0.8</td><td style=\"text-align: right;\">                 0.8</td><td style=\"text-align: right;\">                    5</td></tr>\n",
       "<tr><td>XGBoost_1_AutoML_20190418_132524</td><td style=\"text-align: right;\">       5</td><td style=\"text-align: right;\">5.9207e+18 </td><td style=\"text-align: right;\">     nan</td><td>False      </td><td>True       </td><td>Modulo           </td><td style=\"text-align: right;\">     197</td><td style=\"text-align: right;\">                 8</td><td style=\"text-align: right;\">                3</td><td>deviance         </td><td style=\"text-align: right;\">            0.008312</td><td style=\"text-align: right;\">         20</td><td style=\"text-align: right;\">        0.05</td><td style=\"text-align: right;\">        10</td><td style=\"text-align: right;\">          0.6</td><td style=\"text-align: right;\">           0.8</td><td style=\"text-align: right;\">                 0.8</td><td style=\"text-align: right;\">                    5</td></tr>\n",
       "<tr><td>XGBoost_1_AutoML_20190418_132524</td><td style=\"text-align: right;\">       5</td><td style=\"text-align: right;\">5.9207e+18 </td><td style=\"text-align: right;\">     nan</td><td>False      </td><td>True       </td><td>Modulo           </td><td style=\"text-align: right;\">     197</td><td style=\"text-align: right;\">                 8</td><td style=\"text-align: right;\">                3</td><td>deviance         </td><td style=\"text-align: right;\">            0.008312</td><td style=\"text-align: right;\">         20</td><td style=\"text-align: right;\">        0.05</td><td style=\"text-align: right;\">        10</td><td style=\"text-align: right;\">          0.6</td><td style=\"text-align: right;\">           0.8</td><td style=\"text-align: right;\">                 0.8</td><td style=\"text-align: right;\">                    5</td></tr>\n",
       "<tr><td>XGBoost_1_AutoML_20190418_135050</td><td style=\"text-align: right;\">       5</td><td style=\"text-align: right;\">7.23078e+18</td><td style=\"text-align: right;\">     nan</td><td>False      </td><td>True       </td><td>Modulo           </td><td style=\"text-align: right;\">     127</td><td style=\"text-align: right;\">                53</td><td style=\"text-align: right;\">                3</td><td>deviance         </td><td style=\"text-align: right;\">            0.008312</td><td style=\"text-align: right;\">         20</td><td style=\"text-align: right;\">        0.05</td><td style=\"text-align: right;\">        10</td><td style=\"text-align: right;\">          0.6</td><td style=\"text-align: right;\">           0.8</td><td style=\"text-align: right;\">                 0.8</td><td style=\"text-align: right;\">                    5</td></tr>\n",
       "<tr><td>XGBoost_1_AutoML_20190418_135050</td><td style=\"text-align: right;\">       5</td><td style=\"text-align: right;\">7.23078e+18</td><td style=\"text-align: right;\">     nan</td><td>False      </td><td>True       </td><td>Modulo           </td><td style=\"text-align: right;\">     127</td><td style=\"text-align: right;\">                53</td><td style=\"text-align: right;\">                3</td><td>deviance         </td><td style=\"text-align: right;\">            0.008312</td><td style=\"text-align: right;\">         20</td><td style=\"text-align: right;\">        0.05</td><td style=\"text-align: right;\">        10</td><td style=\"text-align: right;\">          0.6</td><td style=\"text-align: right;\">           0.8</td><td style=\"text-align: right;\">                 0.8</td><td style=\"text-align: right;\">                    5</td></tr>\n",
       "<tr><td>XGBoost_1_AutoML_20190418_135050</td><td style=\"text-align: right;\">       5</td><td style=\"text-align: right;\">7.23078e+18</td><td style=\"text-align: right;\">     nan</td><td>False      </td><td>True       </td><td>Modulo           </td><td style=\"text-align: right;\">     127</td><td style=\"text-align: right;\">                53</td><td style=\"text-align: right;\">                3</td><td>deviance         </td><td style=\"text-align: right;\">            0.008312</td><td style=\"text-align: right;\">         20</td><td style=\"text-align: right;\">        0.05</td><td style=\"text-align: right;\">        10</td><td style=\"text-align: right;\">          0.6</td><td style=\"text-align: right;\">           0.8</td><td style=\"text-align: right;\">                 0.8</td><td style=\"text-align: right;\">                    5</td></tr>\n",
       "<tr><td>XGBoost_1_AutoML_20190418_135050</td><td style=\"text-align: right;\">       5</td><td style=\"text-align: right;\">7.23078e+18</td><td style=\"text-align: right;\">     nan</td><td>False      </td><td>True       </td><td>Modulo           </td><td style=\"text-align: right;\">     127</td><td style=\"text-align: right;\">                53</td><td style=\"text-align: right;\">                3</td><td>deviance         </td><td style=\"text-align: right;\">            0.008312</td><td style=\"text-align: right;\">         20</td><td style=\"text-align: right;\">        0.05</td><td style=\"text-align: right;\">        10</td><td style=\"text-align: right;\">          0.6</td><td style=\"text-align: right;\">           0.8</td><td style=\"text-align: right;\">                 0.8</td><td style=\"text-align: right;\">                    5</td></tr>\n",
       "</tbody>\n",
       "</table>"
      ]
     },
     "metadata": {},
     "output_type": "display_data"
    },
    {
     "data": {
      "text/plain": []
     },
     "execution_count": 85,
     "metadata": {},
     "output_type": "execute_result"
    }
   ],
   "source": [
    "df.head()"
   ]
  },
  {
   "cell_type": "markdown",
   "metadata": {},
   "source": [
    "To pass the parameters in grid search, we need all the values in a list. Hence all the unique values of ntrees,minrows,col_sam_r_per_tree are taken and converted to list."
   ]
  },
  {
   "cell_type": "code",
   "execution_count": 86,
   "metadata": {},
   "outputs": [],
   "source": [
    "pd = df.as_data_frame()\n",
    "ntrees = pd['ntrees'].unique().tolist()\n",
    "\n",
    "minrows = pd['min_rows'].unique().tolist()\n",
    "col_sam_r_per_tree = pd['col_sam_r_per_tree'].unique().tolist()"
   ]
  },
  {
   "cell_type": "code",
   "execution_count": 88,
   "metadata": {},
   "outputs": [
    {
     "data": {
      "text/plain": [
       "{'name': 'enum',\n",
       " 'nfolds': 'int',\n",
       " 'seed': 'int',\n",
       " 'solver': 'int',\n",
       " 'kc_val_mo': 'enum',\n",
       " 'kc_val_pr': 'enum',\n",
       " 'fold_assignment': 'enum',\n",
       " 'ntrees': 'int',\n",
       " 'max_runtime_secs': 'int',\n",
       " 'stopping_rounds': 'int',\n",
       " 'stopping_metric': 'enum',\n",
       " 'stopping_tolerance': 'real',\n",
       " 'max_depth': 'int',\n",
       " 'learn_rate': 'real',\n",
       " 'min_rows': 'real',\n",
       " 'sample_rate': 'real',\n",
       " 'col_sam_rate': 'real',\n",
       " 'col_sam_r_per_tree': 'real',\n",
       " 'score_tree_interval': 'int'}"
      ]
     },
     "execution_count": 88,
     "metadata": {},
     "output_type": "execute_result"
    }
   ],
   "source": [
    "df.types"
   ]
  },
  {
   "cell_type": "markdown",
   "metadata": {},
   "source": [
    "Here, we are finding the range of all the column which are numerical and added to a list called ranges."
   ]
  },
  {
   "cell_type": "code",
   "execution_count": 90,
   "metadata": {},
   "outputs": [
    {
     "name": "stdout",
     "output_type": "stream",
     "text": [
      "name enum\n",
      "nfolds int\n",
      "seed int\n",
      "solver int\n",
      "kc_val_mo enum\n",
      "kc_val_pr enum\n",
      "fold_assignment enum\n",
      "ntrees int\n",
      "max_runtime_secs int\n",
      "stopping_rounds int\n",
      "stopping_metric enum\n",
      "stopping_tolerance real\n",
      "max_depth int\n",
      "learn_rate real\n",
      "min_rows real\n",
      "sample_rate real\n",
      "col_sam_rate real\n",
      "col_sam_r_per_tree real\n",
      "score_tree_interval int\n"
     ]
    }
   ],
   "source": [
    "ranges = []\n",
    "for key,val in df.types.items():\n",
    "    print(key,val)\n",
    "    if val == 'int': \n",
    "         ranges.append([key,[df[key].min(),df[key].max()]])\n",
    "    if val == 'real':\n",
    "         ranges.append([key,[df[key].min(),df[key].max()]])"
   ]
  },
  {
   "cell_type": "markdown",
   "metadata": {},
   "source": [
    "__2 Trying to find the range of hyperparameters__"
   ]
  },
  {
   "cell_type": "code",
   "execution_count": 91,
   "metadata": {},
   "outputs": [
    {
     "data": {
      "text/plain": [
       "[['nfolds', [5.0, 5.0]],\n",
       " ['seed', [-8.186597997308668e+18, 8.50284134061186e+18]],\n",
       " ['solver', [nan, nan]],\n",
       " ['ntrees', [13.0, 276.0]],\n",
       " ['max_runtime_secs', [0.0, 53.0]],\n",
       " ['stopping_rounds', [0.0, 3.0]],\n",
       " ['stopping_tolerance', [0.008312003470029437, 0.008312003470029437]],\n",
       " ['max_depth', [5.0, 20.0]],\n",
       " ['learn_rate', [0.05, 0.05]],\n",
       " ['min_rows', [0.01, 20.0]],\n",
       " ['sample_rate', [0.6, 1.0]],\n",
       " ['col_sam_rate', [0.6, 1.0]],\n",
       " ['col_sam_r_per_tree', [0.7, 1.0]],\n",
       " ['score_tree_interval', [5.0, 5.0]]]"
      ]
     },
     "execution_count": 91,
     "metadata": {},
     "output_type": "execute_result"
    }
   ],
   "source": [
    "ranges"
   ]
  },
  {
   "cell_type": "markdown",
   "metadata": {},
   "source": [
    "__1 Trying to find the important hyperparameters__\n",
    "\n",
    "In Grid Search CV , XGBRegressor is taken and the parameters which can be passed in GridSearch are initialised and the model is fitted with X and y."
   ]
  },
  {
   "cell_type": "code",
   "execution_count": 140,
   "metadata": {},
   "outputs": [],
   "source": [
    "\n",
    "from xgboost.sklearn import XGBRegressor\n",
    "from sklearn.model_selection import GridSearchCV\n",
    "import xgboost as xgb\n",
    "# Create the parameter grid based on the results of random search \n",
    "param_grid = {\n",
    "    'ntrees': ntrees,\n",
    "    'stopping_rounds': [0, 3],\n",
    "    'max_depth' : [5,10,15 ,20],\n",
    "    'learn_rate': [0.05],\n",
    "    'min_rows': minrows,\n",
    "    'sample_rate': [0.6,0.8,1],\n",
    "    'col_sample_rate': [0.6, 1.0],\n",
    "    'col_sample_rate_per_tree' : col_sam_r_per_tree\n",
    "\n",
    "}\n",
    "# Create a based model\n",
    "clf = XGBRegressor()\n",
    "# Instantiate the grid search model\n",
    "xgb = GridSearchCV(estimator = clf, param_grid = param_grid, \n",
    "                          cv = 3, n_jobs = -1, verbose = 2)"
   ]
  },
  {
   "cell_type": "code",
   "execution_count": 141,
   "metadata": {},
   "outputs": [
    {
     "name": "stdout",
     "output_type": "stream",
     "text": [
      "Fitting 3 folds for each of 24192 candidates, totalling 72576 fits\n"
     ]
    },
    {
     "name": "stderr",
     "output_type": "stream",
     "text": [
      "[Parallel(n_jobs=-1)]: Using backend LokyBackend with 8 concurrent workers.\n",
      "[Parallel(n_jobs=-1)]: Done  25 tasks      | elapsed:    6.9s\n",
      "[Parallel(n_jobs=-1)]: Done 146 tasks      | elapsed:   24.2s\n",
      "[Parallel(n_jobs=-1)]: Done 349 tasks      | elapsed:  1.1min\n",
      "[Parallel(n_jobs=-1)]: Done 632 tasks      | elapsed: 14.5min\n",
      "[Parallel(n_jobs=-1)]: Done 997 tasks      | elapsed: 15.4min\n",
      "[Parallel(n_jobs=-1)]: Done 1442 tasks      | elapsed: 16.6min\n",
      "[Parallel(n_jobs=-1)]: Done 1969 tasks      | elapsed: 17.8min\n",
      "[Parallel(n_jobs=-1)]: Done 2576 tasks      | elapsed: 19.4min\n",
      "[Parallel(n_jobs=-1)]: Done 3265 tasks      | elapsed: 21.1min\n",
      "[Parallel(n_jobs=-1)]: Done 4034 tasks      | elapsed: 23.1min\n",
      "[Parallel(n_jobs=-1)]: Done 4885 tasks      | elapsed: 25.3min\n",
      "[Parallel(n_jobs=-1)]: Done 5816 tasks      | elapsed: 27.6min\n",
      "[Parallel(n_jobs=-1)]: Done 6829 tasks      | elapsed: 30.7min\n",
      "[Parallel(n_jobs=-1)]: Done 7922 tasks      | elapsed: 33.4min\n",
      "[Parallel(n_jobs=-1)]: Done 9097 tasks      | elapsed: 36.7min\n",
      "[Parallel(n_jobs=-1)]: Done 10352 tasks      | elapsed: 39.8min\n",
      "[Parallel(n_jobs=-1)]: Done 11689 tasks      | elapsed: 43.1min\n",
      "[Parallel(n_jobs=-1)]: Done 13106 tasks      | elapsed: 46.7min\n",
      "[Parallel(n_jobs=-1)]: Done 14605 tasks      | elapsed: 50.9min\n",
      "[Parallel(n_jobs=-1)]: Done 16184 tasks      | elapsed: 55.2min\n",
      "[Parallel(n_jobs=-1)]: Done 17845 tasks      | elapsed: 59.4min\n",
      "[Parallel(n_jobs=-1)]: Done 19586 tasks      | elapsed: 64.5min\n",
      "[Parallel(n_jobs=-1)]: Done 21409 tasks      | elapsed: 69.4min\n",
      "[Parallel(n_jobs=-1)]: Done 23312 tasks      | elapsed: 75.1min\n",
      "[Parallel(n_jobs=-1)]: Done 25297 tasks      | elapsed: 84.6min\n",
      "[Parallel(n_jobs=-1)]: Done 27362 tasks      | elapsed: 94.1min\n",
      "[Parallel(n_jobs=-1)]: Done 29509 tasks      | elapsed: 100.2min\n",
      "[Parallel(n_jobs=-1)]: Done 31736 tasks      | elapsed: 106.3min\n",
      "[Parallel(n_jobs=-1)]: Done 34045 tasks      | elapsed: 112.5min\n",
      "[Parallel(n_jobs=-1)]: Done 36434 tasks      | elapsed: 118.9min\n",
      "[Parallel(n_jobs=-1)]: Done 38905 tasks      | elapsed: 126.0min\n",
      "[Parallel(n_jobs=-1)]: Done 41456 tasks      | elapsed: 133.5min\n",
      "[Parallel(n_jobs=-1)]: Done 44089 tasks      | elapsed: 140.1min\n",
      "[Parallel(n_jobs=-1)]: Done 46802 tasks      | elapsed: 147.2min\n",
      "[Parallel(n_jobs=-1)]: Done 49597 tasks      | elapsed: 154.8min\n",
      "[Parallel(n_jobs=-1)]: Done 52472 tasks      | elapsed: 162.6min\n",
      "[Parallel(n_jobs=-1)]: Done 55429 tasks      | elapsed: 170.8min\n",
      "[Parallel(n_jobs=-1)]: Done 58466 tasks      | elapsed: 179.0min\n",
      "[Parallel(n_jobs=-1)]: Done 61585 tasks      | elapsed: 187.6min\n",
      "[Parallel(n_jobs=-1)]: Done 64784 tasks      | elapsed: 196.2min\n",
      "[Parallel(n_jobs=-1)]: Done 68065 tasks      | elapsed: 205.0min\n",
      "[Parallel(n_jobs=-1)]: Done 71426 tasks      | elapsed: 213.9min\n",
      "[Parallel(n_jobs=-1)]: Done 72576 out of 72576 | elapsed: 217.1min finished\n"
     ]
    },
    {
     "data": {
      "text/plain": [
       "GridSearchCV(cv=3, error_score='raise-deprecating',\n",
       "       estimator=XGBRegressor(base_score=0.5, booster='gbtree', colsample_bylevel=1,\n",
       "       colsample_bytree=1, gamma=0, importance_type='gain',\n",
       "       learning_rate=0.1, max_delta_step=0, max_depth=3,\n",
       "       min_child_weight=1, missing=None, n_estimators=100, n_jobs=1,\n",
       "       nthread=None, objective='reg:linear', random_state=0, reg_alpha=0,\n",
       "       reg_lambda=1, scale_pos_weight=1, seed=None, silent=True,\n",
       "       subsample=1),\n",
       "       fit_params=None, iid='warn', n_jobs=-1,\n",
       "       param_grid={'ntrees': [197, 127, 119, 120, 121, 152, 13, 203, 110, 20, 145, 276, 79, 60, 161, 172, 98, 92], 'stopping_rounds': [0, 3], 'max_depth': [5, 10, 15, 20], 'learn_rate': [0.05], 'min_rows': [10.0, 20.0, 1.0, 0.1, 5.0, 3.0, 0.01], 'sample_rate': [0.6, 0.8, 1], 'col_sample_rate': [0.6, 1.0], 'col_sample_rate_per_tree': [0.8, 0.9, 1.0, 0.7]},\n",
       "       pre_dispatch='2*n_jobs', refit=True, return_train_score='warn',\n",
       "       scoring=None, verbose=2)"
      ]
     },
     "execution_count": 141,
     "metadata": {},
     "output_type": "execute_result"
    }
   ],
   "source": [
    "re = xgb.fit(X,y)"
   ]
  },
  {
   "cell_type": "markdown",
   "metadata": {},
   "source": [
    "These are the best parameters for XGB given by GridSearch "
   ]
  },
  {
   "cell_type": "code",
   "execution_count": 142,
   "metadata": {},
   "outputs": [
    {
     "data": {
      "text/plain": [
       "{'col_sample_rate': 0.6,\n",
       " 'col_sample_rate_per_tree': 0.8,\n",
       " 'learn_rate': 0.05,\n",
       " 'max_depth': 5,\n",
       " 'min_rows': 10.0,\n",
       " 'ntrees': 197,\n",
       " 'sample_rate': 0.6,\n",
       " 'stopping_rounds': 0}"
      ]
     },
     "execution_count": 142,
     "metadata": {},
     "output_type": "execute_result"
    }
   ],
   "source": [
    "xgb.best_params_"
   ]
  },
  {
   "cell_type": "markdown",
   "metadata": {},
   "source": [
    "__GBM__\n",
    "\n",
    "GBM hyperparameters are imported for the analysis "
   ]
  },
  {
   "cell_type": "code",
   "execution_count": 268,
   "metadata": {},
   "outputs": [
    {
     "name": "stdout",
     "output_type": "stream",
     "text": [
      "Parse progress: |█████████████████████████████████████████████████████████| 100%\n"
     ]
    }
   ],
   "source": [
    "df_anime = h2o.import_file(path=\"anime_filtered.csv\")\n",
    "x1 = [name for name in df_anime.columns if name != 'score'] \n",
    "y1 ='score'"
   ]
  },
  {
   "cell_type": "code",
   "execution_count": 269,
   "metadata": {},
   "outputs": [
    {
     "name": "stdout",
     "output_type": "stream",
     "text": [
      "Parse progress: |█████████████████████████████████████████████████████████| 100%\n"
     ]
    }
   ],
   "source": [
    "#importing the file\n",
    "df = h2o.import_file(path=\"GBM.csv\")"
   ]
  },
  {
   "cell_type": "code",
   "execution_count": 270,
   "metadata": {},
   "outputs": [
    {
     "data": {
      "text/html": [
       "<table>\n",
       "<thead>\n",
       "<tr><th style=\"text-align: right;\">  gbm_id</th><th>name                                     </th><th style=\"text-align: right;\">  nfolds</th><th style=\"text-align: right;\">  max_depth</th><th style=\"text-align: right;\">  min_rows</th><th>distribution  </th><th>stopping_metric  </th><th style=\"text-align: right;\">  stopping_tolerance</th><th style=\"text-align: right;\">     seed</th><th style=\"text-align: right;\">  sample_rate</th></tr>\n",
       "</thead>\n",
       "<tbody>\n",
       "<tr><td style=\"text-align: right;\">       1</td><td>GBM_grid_1_AutoML_20190418_142243_model_3</td><td style=\"text-align: right;\">       5</td><td style=\"text-align: right;\">          6</td><td style=\"text-align: right;\">         6</td><td>gaussian      </td><td>deviance         </td><td style=\"text-align: right;\">            0.008312</td><td style=\"text-align: right;\">-7.92e+18</td><td style=\"text-align: right;\">          0.6</td></tr>\n",
       "<tr><td style=\"text-align: right;\">       2</td><td>GBM_1_AutoML_20190418_144229             </td><td style=\"text-align: right;\">       5</td><td style=\"text-align: right;\">         15</td><td style=\"text-align: right;\">        15</td><td>gaussian      </td><td>deviance         </td><td style=\"text-align: right;\">            0.008312</td><td style=\"text-align: right;\"> 3.08e+18</td><td style=\"text-align: right;\">          0.8</td></tr>\n",
       "<tr><td style=\"text-align: right;\">       3</td><td>GBM_grid_1_AutoML_20190418_142243_model_2</td><td style=\"text-align: right;\">       5</td><td style=\"text-align: right;\">         10</td><td style=\"text-align: right;\">        10</td><td>gaussian      </td><td>deviance         </td><td style=\"text-align: right;\">            0.008312</td><td style=\"text-align: right;\"> 3.07e+18</td><td style=\"text-align: right;\">          0.7</td></tr>\n",
       "<tr><td style=\"text-align: right;\">       4</td><td>GBM_grid_1_AutoML_20190418_140346_model_3</td><td style=\"text-align: right;\">       5</td><td style=\"text-align: right;\">          4</td><td style=\"text-align: right;\">         4</td><td>gaussian      </td><td>deviance         </td><td style=\"text-align: right;\">            0.008312</td><td style=\"text-align: right;\">-5.29e+18</td><td style=\"text-align: right;\">          0.5</td></tr>\n",
       "<tr><td style=\"text-align: right;\">       5</td><td>GBM_3_AutoML_20190418_140346             </td><td style=\"text-align: right;\">       5</td><td style=\"text-align: right;\">         15</td><td style=\"text-align: right;\">        15</td><td>gaussian      </td><td>deviance         </td><td style=\"text-align: right;\">            0.008312</td><td style=\"text-align: right;\">-7.17e+18</td><td style=\"text-align: right;\">          0.8</td></tr>\n",
       "<tr><td style=\"text-align: right;\">       6</td><td>GBM_5_AutoML_20190418_150256             </td><td style=\"text-align: right;\">       5</td><td style=\"text-align: right;\">         15</td><td style=\"text-align: right;\">        15</td><td>gaussian      </td><td>deviance         </td><td style=\"text-align: right;\">            0.008312</td><td style=\"text-align: right;\">-5.05e+18</td><td style=\"text-align: right;\">          0.8</td></tr>\n",
       "<tr><td style=\"text-align: right;\">       7</td><td>GBM_grid_1_AutoML_20190418_144229_model_4</td><td style=\"text-align: right;\">       5</td><td style=\"text-align: right;\">         12</td><td style=\"text-align: right;\">        12</td><td>gaussian      </td><td>deviance         </td><td style=\"text-align: right;\">            0.008312</td><td style=\"text-align: right;\"> 3.42e+18</td><td style=\"text-align: right;\">          0.6</td></tr>\n",
       "<tr><td style=\"text-align: right;\">       8</td><td>GBM_2_AutoML_20190418_140346             </td><td style=\"text-align: right;\">       5</td><td style=\"text-align: right;\">         15</td><td style=\"text-align: right;\">        15</td><td>gaussian      </td><td>deviance         </td><td style=\"text-align: right;\">            0.008312</td><td style=\"text-align: right;\">-7.17e+18</td><td style=\"text-align: right;\">          0.8</td></tr>\n",
       "<tr><td style=\"text-align: right;\">       9</td><td>GBM_2_AutoML_20190418_144229             </td><td style=\"text-align: right;\">       5</td><td style=\"text-align: right;\">         15</td><td style=\"text-align: right;\">        15</td><td>gaussian      </td><td>deviance         </td><td style=\"text-align: right;\">            0.008312</td><td style=\"text-align: right;\"> 3.08e+18</td><td style=\"text-align: right;\">          0.8</td></tr>\n",
       "<tr><td style=\"text-align: right;\">      10</td><td>GBM_4_AutoML_20190418_142243             </td><td style=\"text-align: right;\">       5</td><td style=\"text-align: right;\">         15</td><td style=\"text-align: right;\">        15</td><td>gaussian      </td><td>deviance         </td><td style=\"text-align: right;\">            0.008312</td><td style=\"text-align: right;\"> 3.67e+18</td><td style=\"text-align: right;\">          0.8</td></tr>\n",
       "<tr><td style=\"text-align: right;\">      11</td><td>GBM_grid_1_AutoML_20190418_144229_model_3</td><td style=\"text-align: right;\">       5</td><td style=\"text-align: right;\">          7</td><td style=\"text-align: right;\">         7</td><td>gaussian      </td><td>deviance         </td><td style=\"text-align: right;\">            0.008312</td><td style=\"text-align: right;\">-7.18e+18</td><td style=\"text-align: right;\">          0.9</td></tr>\n",
       "<tr><td style=\"text-align: right;\">      12</td><td>GBM_grid_1_AutoML_20190418_142243_model_1</td><td style=\"text-align: right;\">       5</td><td style=\"text-align: right;\">          3</td><td style=\"text-align: right;\">         3</td><td>gaussian      </td><td>deviance         </td><td style=\"text-align: right;\">            0.008312</td><td style=\"text-align: right;\">-5.38e+18</td><td style=\"text-align: right;\">          1  </td></tr>\n",
       "<tr><td style=\"text-align: right;\">      13</td><td>GBM_1_AutoML_20190418_140346             </td><td style=\"text-align: right;\">       5</td><td style=\"text-align: right;\">         15</td><td style=\"text-align: right;\">        15</td><td>gaussian      </td><td>deviance         </td><td style=\"text-align: right;\">            0.008312</td><td style=\"text-align: right;\">-7.17e+18</td><td style=\"text-align: right;\">          0.8</td></tr>\n",
       "<tr><td style=\"text-align: right;\">      14</td><td>GBM_grid_1_AutoML_20190418_140346_model_2</td><td style=\"text-align: right;\">       5</td><td style=\"text-align: right;\">          8</td><td style=\"text-align: right;\">         8</td><td>gaussian      </td><td>deviance         </td><td style=\"text-align: right;\">            0.008312</td><td style=\"text-align: right;\">-1.59e+18</td><td style=\"text-align: right;\">          0.7</td></tr>\n",
       "<tr><td style=\"text-align: right;\">      15</td><td>GBM_grid_1_AutoML_20190418_144229_model_1</td><td style=\"text-align: right;\">       5</td><td style=\"text-align: right;\">          8</td><td style=\"text-align: right;\">         8</td><td>gaussian      </td><td>deviance         </td><td style=\"text-align: right;\">            0.008312</td><td style=\"text-align: right;\"> 8.93e+18</td><td style=\"text-align: right;\">          0.6</td></tr>\n",
       "<tr><td style=\"text-align: right;\">      16</td><td>GBM_5_AutoML_20190418_142243             </td><td style=\"text-align: right;\">       5</td><td style=\"text-align: right;\">         15</td><td style=\"text-align: right;\">        15</td><td>gaussian      </td><td>deviance         </td><td style=\"text-align: right;\">            0.008312</td><td style=\"text-align: right;\"> 3.67e+18</td><td style=\"text-align: right;\">          0.8</td></tr>\n",
       "<tr><td style=\"text-align: right;\">      17</td><td>GBM_grid_1_AutoML_20190418_150256_model_5</td><td style=\"text-align: right;\">       5</td><td style=\"text-align: right;\">         10</td><td style=\"text-align: right;\">        10</td><td>gaussian      </td><td>deviance         </td><td style=\"text-align: right;\">            0.008312</td><td style=\"text-align: right;\">-8.3e+18 </td><td style=\"text-align: right;\">          0.9</td></tr>\n",
       "<tr><td style=\"text-align: right;\">      18</td><td>GBM_3_AutoML_20190418_144229             </td><td style=\"text-align: right;\">       5</td><td style=\"text-align: right;\">         15</td><td style=\"text-align: right;\">        15</td><td>gaussian      </td><td>deviance         </td><td style=\"text-align: right;\">            0.008312</td><td style=\"text-align: right;\"> 3.08e+18</td><td style=\"text-align: right;\">          0.8</td></tr>\n",
       "<tr><td style=\"text-align: right;\">      19</td><td>GBM_grid_1_AutoML_20190418_150256_model_2</td><td style=\"text-align: right;\">       5</td><td style=\"text-align: right;\">          5</td><td style=\"text-align: right;\">         5</td><td>gaussian      </td><td>deviance         </td><td style=\"text-align: right;\">            0.008312</td><td style=\"text-align: right;\"> 1.61e+18</td><td style=\"text-align: right;\">          1  </td></tr>\n",
       "<tr><td style=\"text-align: right;\">      20</td><td>GBM_4_AutoML_20190418_150256             </td><td style=\"text-align: right;\">       5</td><td style=\"text-align: right;\">         15</td><td style=\"text-align: right;\">        15</td><td>gaussian      </td><td>deviance         </td><td style=\"text-align: right;\">            0.008312</td><td style=\"text-align: right;\">-5.05e+18</td><td style=\"text-align: right;\">          0.8</td></tr>\n",
       "<tr><td style=\"text-align: right;\">      21</td><td>GBM_4_AutoML_20190418_140346             </td><td style=\"text-align: right;\">       5</td><td style=\"text-align: right;\">         15</td><td style=\"text-align: right;\">        15</td><td>gaussian      </td><td>deviance         </td><td style=\"text-align: right;\">            0.008312</td><td style=\"text-align: right;\">-7.17e+18</td><td style=\"text-align: right;\">          0.8</td></tr>\n",
       "<tr><td style=\"text-align: right;\">      22</td><td>GBM_grid_1_AutoML_20190418_140346_model_4</td><td style=\"text-align: right;\">       5</td><td style=\"text-align: right;\">         12</td><td style=\"text-align: right;\">        12</td><td>gaussian      </td><td>deviance         </td><td style=\"text-align: right;\">            0.008312</td><td style=\"text-align: right;\"> 9.39e+17</td><td style=\"text-align: right;\">          1  </td></tr>\n",
       "<tr><td style=\"text-align: right;\">      23</td><td>GBM_1_AutoML_20190418_142243             </td><td style=\"text-align: right;\">       5</td><td style=\"text-align: right;\">         15</td><td style=\"text-align: right;\">        15</td><td>gaussian      </td><td>deviance         </td><td style=\"text-align: right;\">            0.008312</td><td style=\"text-align: right;\"> 3.67e+18</td><td style=\"text-align: right;\">          0.8</td></tr>\n",
       "<tr><td style=\"text-align: right;\">      24</td><td>GBM_5_AutoML_20190418_140346             </td><td style=\"text-align: right;\">       5</td><td style=\"text-align: right;\">         15</td><td style=\"text-align: right;\">        15</td><td>gaussian      </td><td>deviance         </td><td style=\"text-align: right;\">            0.008312</td><td style=\"text-align: right;\">-7.17e+18</td><td style=\"text-align: right;\">          0.8</td></tr>\n",
       "<tr><td style=\"text-align: right;\">      25</td><td>GBM_grid_1_AutoML_20190418_150256_model_7</td><td style=\"text-align: right;\">       5</td><td style=\"text-align: right;\">         10</td><td style=\"text-align: right;\">        10</td><td>gaussian      </td><td>deviance         </td><td style=\"text-align: right;\">            0.008312</td><td style=\"text-align: right;\"> 5.28e+18</td><td style=\"text-align: right;\">          1  </td></tr>\n",
       "<tr><td style=\"text-align: right;\">      26</td><td>GBM_2_AutoML_20190418_142243             </td><td style=\"text-align: right;\">       5</td><td style=\"text-align: right;\">         15</td><td style=\"text-align: right;\">        15</td><td>gaussian      </td><td>deviance         </td><td style=\"text-align: right;\">            0.008312</td><td style=\"text-align: right;\"> 3.67e+18</td><td style=\"text-align: right;\">          0.8</td></tr>\n",
       "<tr><td style=\"text-align: right;\">      27</td><td>GBM_grid_1_AutoML_20190418_140346_model_1</td><td style=\"text-align: right;\">       5</td><td style=\"text-align: right;\">         16</td><td style=\"text-align: right;\">        16</td><td>gaussian      </td><td>deviance         </td><td style=\"text-align: right;\">            0.008312</td><td style=\"text-align: right;\">-4.67e+17</td><td style=\"text-align: right;\">          0.6</td></tr>\n",
       "<tr><td style=\"text-align: right;\">      28</td><td>GBM_3_AutoML_20190418_142243             </td><td style=\"text-align: right;\">       5</td><td style=\"text-align: right;\">         15</td><td style=\"text-align: right;\">        15</td><td>gaussian      </td><td>deviance         </td><td style=\"text-align: right;\">            0.008312</td><td style=\"text-align: right;\"> 3.67e+18</td><td style=\"text-align: right;\">          0.8</td></tr>\n",
       "<tr><td style=\"text-align: right;\">      29</td><td>GBM_grid_1_AutoML_20190418_144229_model_2</td><td style=\"text-align: right;\">       5</td><td style=\"text-align: right;\">          8</td><td style=\"text-align: right;\">         8</td><td>gaussian      </td><td>deviance         </td><td style=\"text-align: right;\">            0.008312</td><td style=\"text-align: right;\">-5.59e+18</td><td style=\"text-align: right;\">          0.6</td></tr>\n",
       "<tr><td style=\"text-align: right;\">      30</td><td>GBM_4_AutoML_20190418_144229             </td><td style=\"text-align: right;\">       5</td><td style=\"text-align: right;\">         15</td><td style=\"text-align: right;\">        15</td><td>gaussian      </td><td>deviance         </td><td style=\"text-align: right;\">            0.008312</td><td style=\"text-align: right;\"> 3.08e+18</td><td style=\"text-align: right;\">          0.8</td></tr>\n",
       "<tr><td style=\"text-align: right;\">      31</td><td>GBM_5_AutoML_20190418_144229             </td><td style=\"text-align: right;\">       5</td><td style=\"text-align: right;\">         15</td><td style=\"text-align: right;\">        15</td><td>gaussian      </td><td>deviance         </td><td style=\"text-align: right;\">            0.008312</td><td style=\"text-align: right;\"> 3.08e+18</td><td style=\"text-align: right;\">          0.8</td></tr>\n",
       "<tr><td style=\"text-align: right;\">      32</td><td>GBM_grid_1_AutoML_20190418_150256_model_4</td><td style=\"text-align: right;\">       5</td><td style=\"text-align: right;\">          6</td><td style=\"text-align: right;\">         6</td><td>gaussian      </td><td>deviance         </td><td style=\"text-align: right;\">            0.008312</td><td style=\"text-align: right;\">-8.77e+18</td><td style=\"text-align: right;\">          0.7</td></tr>\n",
       "<tr><td style=\"text-align: right;\">      33</td><td>GBM_grid_1_AutoML_20190418_144229_model_5</td><td style=\"text-align: right;\">       5</td><td style=\"text-align: right;\">         13</td><td style=\"text-align: right;\">        13</td><td>gaussian      </td><td>deviance         </td><td style=\"text-align: right;\">            0.008312</td><td style=\"text-align: right;\">-9e+18   </td><td style=\"text-align: right;\">          1  </td></tr>\n",
       "<tr><td style=\"text-align: right;\">      34</td><td>GBM_grid_1_AutoML_20190418_150256_model_1</td><td style=\"text-align: right;\">       5</td><td style=\"text-align: right;\">         10</td><td style=\"text-align: right;\">        10</td><td>gaussian      </td><td>deviance         </td><td style=\"text-align: right;\">            0.008312</td><td style=\"text-align: right;\"> 6.49e+18</td><td style=\"text-align: right;\">          0.6</td></tr>\n",
       "<tr><td style=\"text-align: right;\">      35</td><td>GBM_2_AutoML_20190418_150256             </td><td style=\"text-align: right;\">       5</td><td style=\"text-align: right;\">         15</td><td style=\"text-align: right;\">        15</td><td>gaussian      </td><td>deviance         </td><td style=\"text-align: right;\">            0.008312</td><td style=\"text-align: right;\">-5.05e+18</td><td style=\"text-align: right;\">          0.8</td></tr>\n",
       "<tr><td style=\"text-align: right;\">      36</td><td>GBM_1_AutoML_20190418_150256             </td><td style=\"text-align: right;\">       5</td><td style=\"text-align: right;\">         15</td><td style=\"text-align: right;\">        15</td><td>gaussian      </td><td>deviance         </td><td style=\"text-align: right;\">            0.008312</td><td style=\"text-align: right;\">-5.05e+18</td><td style=\"text-align: right;\">          0.8</td></tr>\n",
       "<tr><td style=\"text-align: right;\">      37</td><td>GBM_grid_1_AutoML_20190418_150256_model_6</td><td style=\"text-align: right;\">       5</td><td style=\"text-align: right;\">         11</td><td style=\"text-align: right;\">        11</td><td>gaussian      </td><td>deviance         </td><td style=\"text-align: right;\">            0.008312</td><td style=\"text-align: right;\"> 1.31e+18</td><td style=\"text-align: right;\">          1  </td></tr>\n",
       "<tr><td style=\"text-align: right;\">      38</td><td>GBM_grid_1_AutoML_20190418_150256_model_3</td><td style=\"text-align: right;\">       5</td><td style=\"text-align: right;\">         11</td><td style=\"text-align: right;\">        11</td><td>gaussian      </td><td>deviance         </td><td style=\"text-align: right;\">            0.008312</td><td style=\"text-align: right;\"> 6.7e+17 </td><td style=\"text-align: right;\">          0.6</td></tr>\n",
       "<tr><td style=\"text-align: right;\">      39</td><td>GBM_3_AutoML_20190418_150256             </td><td style=\"text-align: right;\">       5</td><td style=\"text-align: right;\">         15</td><td style=\"text-align: right;\">        15</td><td>gaussian      </td><td>deviance         </td><td style=\"text-align: right;\">            0.008312</td><td style=\"text-align: right;\">-5.05e+18</td><td style=\"text-align: right;\">          0.8</td></tr>\n",
       "</tbody>\n",
       "</table>"
      ]
     },
     "metadata": {},
     "output_type": "display_data"
    },
    {
     "data": {
      "text/plain": []
     },
     "execution_count": 270,
     "metadata": {},
     "output_type": "execute_result"
    }
   ],
   "source": [
    "df.head(40)"
   ]
  },
  {
   "cell_type": "markdown",
   "metadata": {},
   "source": [
    "Some columns are converted to list for Grid Search "
   ]
  },
  {
   "cell_type": "code",
   "execution_count": 271,
   "metadata": {},
   "outputs": [],
   "source": [
    "pd = df.as_data_frame()\n",
    "minrows = pd['min_rows'].unique().tolist()\n",
    "maxdepth = pd['max_depth'].unique().tolist()\n",
    "sample_rate = pd['sample_rate'].unique().tolist()"
   ]
  },
  {
   "cell_type": "code",
   "execution_count": 272,
   "metadata": {},
   "outputs": [
    {
     "data": {
      "text/plain": [
       "[6, 15, 10, 4, 12, 7, 3, 8, 5, 16, 13, 11]"
      ]
     },
     "execution_count": 272,
     "metadata": {},
     "output_type": "execute_result"
    }
   ],
   "source": [
    "maxdepth"
   ]
  },
  {
   "cell_type": "markdown",
   "metadata": {},
   "source": [
    "__2 Trying to find the range of hyperparameters__"
   ]
  },
  {
   "cell_type": "code",
   "execution_count": 273,
   "metadata": {},
   "outputs": [
    {
     "data": {
      "text/plain": [
       "{'gbm_id': 'int',\n",
       " 'name': 'string',\n",
       " 'nfolds': 'int',\n",
       " 'max_depth': 'int',\n",
       " 'min_rows': 'int',\n",
       " 'distribution': 'enum',\n",
       " 'stopping_metric': 'enum',\n",
       " 'stopping_tolerance': 'real',\n",
       " 'seed': 'int',\n",
       " 'sample_rate': 'real'}"
      ]
     },
     "execution_count": 273,
     "metadata": {},
     "output_type": "execute_result"
    }
   ],
   "source": [
    "df.types"
   ]
  },
  {
   "cell_type": "markdown",
   "metadata": {},
   "source": [
    "Here, we are finding the range of all the column which are numerical and added to a list called ranges."
   ]
  },
  {
   "cell_type": "code",
   "execution_count": 274,
   "metadata": {},
   "outputs": [
    {
     "name": "stdout",
     "output_type": "stream",
     "text": [
      "gbm_id int\n",
      "name string\n",
      "nfolds int\n",
      "max_depth int\n",
      "min_rows int\n",
      "distribution enum\n",
      "stopping_metric enum\n",
      "stopping_tolerance real\n",
      "seed int\n",
      "sample_rate real\n"
     ]
    }
   ],
   "source": [
    "ranges = []\n",
    "for key,val in df.types.items():\n",
    "    print(key,val)\n",
    "    if val == 'int': \n",
    "         ranges.append([key,[df[key].min(),df[key].max()]])\n",
    "    if val == 'real':\n",
    "         ranges.append([key,[df[key].min(),df[key].max()]])"
   ]
  },
  {
   "cell_type": "markdown",
   "metadata": {},
   "source": [
    "Here are the ranges for GBM hyperparameters."
   ]
  },
  {
   "cell_type": "code",
   "execution_count": 275,
   "metadata": {},
   "outputs": [
    {
     "data": {
      "text/plain": [
       "[['gbm_id', [1.0, 39.0]],\n",
       " ['nfolds', [5.0, 5.0]],\n",
       " ['max_depth', [3.0, 16.0]],\n",
       " ['min_rows', [3.0, 16.0]],\n",
       " ['stopping_tolerance', [0.008312003, 0.008312003]],\n",
       " ['seed', [-9e+18, 8.93e+18]],\n",
       " ['sample_rate', [0.5, 1.0]]]"
      ]
     },
     "execution_count": 275,
     "metadata": {},
     "output_type": "execute_result"
    }
   ],
   "source": [
    "ranges"
   ]
  },
  {
   "cell_type": "markdown",
   "metadata": {},
   "source": [
    "__1. Trying to find the important hyperparameters__\n",
    "\n",
    "In Grid Search, only max_depth is passed and fit the model to find rmse and similarly all the other hyperparameters are passed and compared the rmse to find which hyperparameters are important"
   ]
  },
  {
   "cell_type": "code",
   "execution_count": 276,
   "metadata": {},
   "outputs": [],
   "source": [
    "from h2o.estimators.gbm import H2OGradientBoostingEstimator\n",
    "from h2o.grid.grid_search import H2OGridSearch"
   ]
  },
  {
   "cell_type": "code",
   "execution_count": 278,
   "metadata": {},
   "outputs": [],
   "source": [
    "gbm_params1 = {\n",
    "                'max_depth': [6, 15, 10, 4, 12, 7, 3, 8, 5, 16, 13, 11]}\n",
    "\n",
    "# Train and validate a cartesian grid of GBMs\n",
    "gbm_grid1 = H2OGridSearch(model=H2OGradientBoostingEstimator,\n",
    "                          grid_id='gbm_grid1',\n",
    "                          hyper_params=gbm_params1)\n",
    "gbm_grid1.train(x=x, y=y,\n",
    "                training_frame=df_anime)"
   ]
  },
  {
   "cell_type": "code",
   "execution_count": 279,
   "metadata": {},
   "outputs": [
    {
     "name": "stdout",
     "output_type": "stream",
     "text": [
      "     max_depth           model_ids                 rmse\n",
      "0           16  gbm_grid1_model_10  0.08933873399569765\n",
      "1           15   gbm_grid1_model_2   0.0998722504624683\n",
      "2           13  gbm_grid1_model_11   0.1210972373228109\n",
      "3           12   gbm_grid1_model_5  0.13222554212587315\n",
      "4           11  gbm_grid1_model_12  0.14707683264903976\n",
      "5           10   gbm_grid1_model_3  0.16140776961456432\n",
      "6            8   gbm_grid1_model_8   0.2128587745737397\n",
      "7            7   gbm_grid1_model_6  0.24957342103409744\n",
      "8            6   gbm_grid1_model_1   0.2868765688648202\n",
      "9            5   gbm_grid1_model_9   0.3365502135360817\n",
      "10           4   gbm_grid1_model_4  0.39514456288274463\n",
      "11           5  gbm_grid1_model_25   0.3992161522478504\n",
      "12           5  gbm_grid1_model_26  0.40204459040039614\n",
      "13           5  gbm_grid1_model_22  0.40482131597778365\n",
      "14           5  gbm_grid1_model_27  0.40544190037804073\n",
      "15           5  gbm_grid1_model_19  0.40609216328586173\n",
      "16           5  gbm_grid1_model_24   0.4076934154833661\n",
      "17           5  gbm_grid1_model_20  0.41036872302034766\n",
      "18           5  gbm_grid1_model_30    0.410493784097369\n",
      "19           5  gbm_grid1_model_23   0.4113297664646347\n",
      "20           5  gbm_grid1_model_29   0.4113839236562729\n",
      "21           5  gbm_grid1_model_18   0.4134265528913023\n",
      "22           5  gbm_grid1_model_17   0.4187941711188329\n",
      "23           5  gbm_grid1_model_28   0.4212924390513068\n",
      "24           5  gbm_grid1_model_14   0.4246893756201058\n",
      "25           5  gbm_grid1_model_15  0.43410397517723565\n",
      "26           5  gbm_grid1_model_13  0.44266815339118665\n",
      "27           3   gbm_grid1_model_7   0.4438626644700989\n",
      "28           5  gbm_grid1_model_16   0.4450546251623936\n"
     ]
    },
    {
     "data": {
      "text/plain": []
     },
     "execution_count": 279,
     "metadata": {},
     "output_type": "execute_result"
    }
   ],
   "source": [
    "# Get the grid results, sorted by validation AUC\n",
    "gbm_gridperf1 = gbm_grid1.get_grid(sort_by='rmse', decreasing=False)\n",
    "gbm_gridperf1"
   ]
  },
  {
   "cell_type": "code",
   "execution_count": 262,
   "metadata": {},
   "outputs": [],
   "source": [
    "gbm_params1 = {\n",
    "                'sample_rate': sample_rate}\n",
    "\n",
    "# Train and validate a cartesian grid of GBMs\n",
    "gbm_grid1 = H2OGridSearch(model=H2OGradientBoostingEstimator,\n",
    "                          grid_id='gbm_grid1',\n",
    "                          hyper_params=gbm_params1)\n",
    "gbm_grid1.train(x=x, y=y,\n",
    "                training_frame=df_anime)"
   ]
  },
  {
   "cell_type": "code",
   "execution_count": 263,
   "metadata": {},
   "outputs": [
    {
     "name": "stdout",
     "output_type": "stream",
     "text": [
      "     max_depth           model_ids                 rmse\n",
      "0           16  gbm_grid1_model_10  0.08933873399569765\n",
      "1           15   gbm_grid1_model_2   0.0998722504624683\n",
      "2           13  gbm_grid1_model_11   0.1210972373228109\n",
      "3           12   gbm_grid1_model_5  0.13222554212587315\n",
      "4           11  gbm_grid1_model_12  0.14707683264903976\n",
      "5           10   gbm_grid1_model_3  0.16140776961456432\n",
      "6            8   gbm_grid1_model_8   0.2128587745737397\n",
      "7            7   gbm_grid1_model_6  0.24957342103409744\n",
      "8            6   gbm_grid1_model_1   0.2868765688648202\n",
      "9            5   gbm_grid1_model_9   0.3365502135360817\n",
      "10           4   gbm_grid1_model_4  0.39514456288274463\n",
      "11           5  gbm_grid1_model_18   0.4134265528913023\n",
      "12           5  gbm_grid1_model_17   0.4187941711188329\n",
      "13           5  gbm_grid1_model_14   0.4246893756201058\n",
      "14           5  gbm_grid1_model_15  0.43410397517723565\n",
      "15           5  gbm_grid1_model_13  0.44266815339118665\n",
      "16           3   gbm_grid1_model_7   0.4438626644700989\n",
      "17           5  gbm_grid1_model_16   0.4450546251623936\n"
     ]
    },
    {
     "data": {
      "text/plain": []
     },
     "execution_count": 263,
     "metadata": {},
     "output_type": "execute_result"
    }
   ],
   "source": [
    "gbm_gridperf2 = gbm_grid1.get_grid(sort_by='rmse', decreasing=False)\n",
    "gbm_gridperf2"
   ]
  },
  {
   "cell_type": "code",
   "execution_count": 265,
   "metadata": {},
   "outputs": [],
   "source": [
    "gbm_params1 = {\n",
    "                'min_rows': minrows}\n",
    "\n",
    "# Train and validate a cartesian grid of GBMs\n",
    "gbm_grid1 = H2OGridSearch(model=H2OGradientBoostingEstimator,\n",
    "                          grid_id='gbm_grid1',\n",
    "                          hyper_params=gbm_params1)\n",
    "gbm_grid1.train(x=x, y=y,\n",
    "                training_frame=df_anime)"
   ]
  },
  {
   "cell_type": "code",
   "execution_count": 266,
   "metadata": {},
   "outputs": [
    {
     "name": "stdout",
     "output_type": "stream",
     "text": [
      "     max_depth           model_ids                 rmse\n",
      "0           16  gbm_grid1_model_10  0.08933873399569765\n",
      "1           15   gbm_grid1_model_2   0.0998722504624683\n",
      "2           13  gbm_grid1_model_11   0.1210972373228109\n",
      "3           12   gbm_grid1_model_5  0.13222554212587315\n",
      "4           11  gbm_grid1_model_12  0.14707683264903976\n",
      "5           10   gbm_grid1_model_3  0.16140776961456432\n",
      "6            8   gbm_grid1_model_8   0.2128587745737397\n",
      "7            7   gbm_grid1_model_6  0.24957342103409744\n",
      "8            6   gbm_grid1_model_1   0.2868765688648202\n",
      "9            5   gbm_grid1_model_9   0.3365502135360817\n",
      "10           4   gbm_grid1_model_4  0.39514456288274463\n",
      "11           5  gbm_grid1_model_25   0.3992161522478504\n",
      "12           5  gbm_grid1_model_26  0.40204459040039614\n",
      "13           5  gbm_grid1_model_22  0.40482131597778365\n",
      "14           5  gbm_grid1_model_27  0.40544190037804073\n",
      "15           5  gbm_grid1_model_19  0.40609216328586173\n",
      "16           5  gbm_grid1_model_24   0.4076934154833661\n",
      "17           5  gbm_grid1_model_20  0.41036872302034766\n",
      "18           5  gbm_grid1_model_30    0.410493784097369\n",
      "19           5  gbm_grid1_model_23   0.4113297664646347\n",
      "20           5  gbm_grid1_model_29   0.4113839236562729\n",
      "21           5  gbm_grid1_model_18   0.4134265528913023\n",
      "22           5  gbm_grid1_model_17   0.4187941711188329\n",
      "23           5  gbm_grid1_model_28   0.4212924390513068\n",
      "24           5  gbm_grid1_model_14   0.4246893756201058\n",
      "25           5  gbm_grid1_model_15  0.43410397517723565\n",
      "26           5  gbm_grid1_model_13  0.44266815339118665\n",
      "27           3   gbm_grid1_model_7   0.4438626644700989\n",
      "28           5  gbm_grid1_model_16   0.4450546251623936\n"
     ]
    },
    {
     "data": {
      "text/plain": []
     },
     "execution_count": 266,
     "metadata": {},
     "output_type": "execute_result"
    }
   ],
   "source": [
    "gbm_gridperf3 = gbm_grid1.get_grid(sort_by='rmse', decreasing=False)\n",
    "gbm_gridperf3"
   ]
  },
  {
   "cell_type": "markdown",
   "metadata": {},
   "source": [
    "__GLM__"
   ]
  },
  {
   "cell_type": "code",
   "execution_count": 201,
   "metadata": {},
   "outputs": [
    {
     "name": "stdout",
     "output_type": "stream",
     "text": [
      "Parse progress: |█████████████████████████████████████████████████████████| 100%\n"
     ]
    }
   ],
   "source": [
    "df_anime = h2o.import_file(path=\"anime_filtered.csv\")"
   ]
  },
  {
   "cell_type": "code",
   "execution_count": 205,
   "metadata": {},
   "outputs": [],
   "source": [
    "X =df_anime\n",
    "def check_X(x,df):\n",
    "    for name in x:\n",
    "        if name not in df.columns:\n",
    "            x.remove(name)  \n",
    "    return x    \n",
    "\n",
    "X=check_X(X,df_anime)"
   ]
  },
  {
   "cell_type": "markdown",
   "metadata": {},
   "source": [
    "GLM hyperparameters file is imported for analysis."
   ]
  },
  {
   "cell_type": "code",
   "execution_count": 206,
   "metadata": {},
   "outputs": [
    {
     "name": "stdout",
     "output_type": "stream",
     "text": [
      "Parse progress: |█████████████████████████████████████████████████████████| 100%\n"
     ]
    }
   ],
   "source": [
    "#importing the file\n",
    "df = h2o.import_file(path=\"GLM.csv\")"
   ]
  },
  {
   "cell_type": "code",
   "execution_count": 207,
   "metadata": {},
   "outputs": [
    {
     "data": {
      "text/html": [
       "<table>\n",
       "<thead>\n",
       "<tr><th style=\"text-align: right;\">  glm_id</th><th>name                                     </th><th style=\"text-align: right;\">  nfolds</th><th style=\"text-align: right;\">     seed</th><th>solver  </th><th>kc_val_mo  </th><th>kc_val_pr  </th><th>fold_assignment  </th><th>lambda_search  </th><th style=\"text-align: right;\">  max_iterations</th><th style=\"text-align: right;\">  objective_epsilon</th><th style=\"text-align: right;\">  gradient_epsilon</th><th>link    </th><th style=\"text-align: right;\">  lambda_min_ratio</th><th style=\"text-align: right;\">  obj_reg</th></tr>\n",
       "</thead>\n",
       "<tbody>\n",
       "<tr><td style=\"text-align: right;\">       1</td><td>GLM_grid_1_AutoML_20190418_132524_model_1</td><td style=\"text-align: right;\">       5</td><td style=\"text-align: right;\"> 3.52e+18</td><td>L_BFGS  </td><td>FALSE      </td><td>TRUE       </td><td>Modulo           </td><td>TRUE           </td><td style=\"text-align: right;\">             300</td><td style=\"text-align: right;\">                300</td><td style=\"text-align: right;\">             1e-06</td><td>identity</td><td style=\"text-align: right;\">            0.0001</td><td style=\"text-align: right;\"> 6.91e-05</td></tr>\n",
       "<tr><td style=\"text-align: right;\">       2</td><td>GLM_grid_1_AutoML_20190418_135050_model_1</td><td style=\"text-align: right;\">       5</td><td style=\"text-align: right;\">-7.58e+16</td><td>L_BFGS  </td><td>FALSE      </td><td>TRUE       </td><td>Modulo           </td><td>TRUE           </td><td style=\"text-align: right;\">             300</td><td style=\"text-align: right;\">                300</td><td style=\"text-align: right;\">             1e-06</td><td>identity</td><td style=\"text-align: right;\">            0.0001</td><td style=\"text-align: right;\"> 6.91e-05</td></tr>\n",
       "<tr><td style=\"text-align: right;\">       3</td><td>GLM_grid_1_AutoML_20190418_140346_model_1</td><td style=\"text-align: right;\">       5</td><td style=\"text-align: right;\"> 6.09e+18</td><td>L_BFGS  </td><td>FALSE      </td><td>TRUE       </td><td>Modulo           </td><td>TRUE           </td><td style=\"text-align: right;\">             300</td><td style=\"text-align: right;\">                300</td><td style=\"text-align: right;\">             1e-06</td><td>identity</td><td style=\"text-align: right;\">            0.0001</td><td style=\"text-align: right;\"> 6.91e-05</td></tr>\n",
       "<tr><td style=\"text-align: right;\">       4</td><td>GLM_grid_1_AutoML_20190418_142243_model_1</td><td style=\"text-align: right;\">       5</td><td style=\"text-align: right;\"> 4.02e+18</td><td>L_BFGS  </td><td>FALSE      </td><td>TRUE       </td><td>Modulo           </td><td>TRUE           </td><td style=\"text-align: right;\">             300</td><td style=\"text-align: right;\">                300</td><td style=\"text-align: right;\">             1e-06</td><td>identity</td><td style=\"text-align: right;\">            0.0001</td><td style=\"text-align: right;\"> 6.91e-05</td></tr>\n",
       "<tr><td style=\"text-align: right;\">       5</td><td>GLM_grid_1_AutoML_20190418_144229_model_1</td><td style=\"text-align: right;\">       5</td><td style=\"text-align: right;\"> 6.33e+18</td><td>L_BFGS  </td><td>FALSE      </td><td>TRUE       </td><td>Modulo           </td><td>TRUE           </td><td style=\"text-align: right;\">             300</td><td style=\"text-align: right;\">                300</td><td style=\"text-align: right;\">             1e-06</td><td>identity</td><td style=\"text-align: right;\">            0.0001</td><td style=\"text-align: right;\"> 6.91e-05</td></tr>\n",
       "<tr><td style=\"text-align: right;\">       6</td><td>GLM_grid_1_AutoML_20190418_150256_model_1</td><td style=\"text-align: right;\">       5</td><td style=\"text-align: right;\">-5.91e+18</td><td>L_BFGS  </td><td>FALSE      </td><td>TRUE       </td><td>Modulo           </td><td>TRUE           </td><td style=\"text-align: right;\">             300</td><td style=\"text-align: right;\">                300</td><td style=\"text-align: right;\">             1e-06</td><td>identity</td><td style=\"text-align: right;\">            0.0001</td><td style=\"text-align: right;\"> 6.91e-05</td></tr>\n",
       "</tbody>\n",
       "</table>"
      ]
     },
     "metadata": {},
     "output_type": "display_data"
    },
    {
     "data": {
      "text/plain": []
     },
     "execution_count": 207,
     "metadata": {},
     "output_type": "execute_result"
    }
   ],
   "source": [
    "df.head()"
   ]
  },
  {
   "cell_type": "markdown",
   "metadata": {},
   "source": [
    "__2 Trying to find the range of hyperparameters__"
   ]
  },
  {
   "cell_type": "code",
   "execution_count": 208,
   "metadata": {},
   "outputs": [
    {
     "data": {
      "text/plain": [
       "{'glm_id': 'int',\n",
       " 'name': 'string',\n",
       " 'nfolds': 'int',\n",
       " 'seed': 'int',\n",
       " 'solver': 'enum',\n",
       " 'kc_val_mo': 'enum',\n",
       " 'kc_val_pr': 'enum',\n",
       " 'fold_assignment': 'enum',\n",
       " 'lambda_search': 'enum',\n",
       " 'max_iterations': 'int',\n",
       " 'objective_epsilon': 'int',\n",
       " 'gradient_epsilon': 'real',\n",
       " 'link': 'enum',\n",
       " 'lambda_min_ratio': 'real',\n",
       " 'obj_reg': 'real'}"
      ]
     },
     "execution_count": 208,
     "metadata": {},
     "output_type": "execute_result"
    }
   ],
   "source": [
    "df.types"
   ]
  },
  {
   "cell_type": "markdown",
   "metadata": {},
   "source": [
    "Here, we are finding the range of all the column which are numerical and added to a list called ranges."
   ]
  },
  {
   "cell_type": "code",
   "execution_count": 209,
   "metadata": {},
   "outputs": [
    {
     "name": "stdout",
     "output_type": "stream",
     "text": [
      "glm_id int\n",
      "name string\n",
      "nfolds int\n",
      "seed int\n",
      "solver enum\n",
      "kc_val_mo enum\n",
      "kc_val_pr enum\n",
      "fold_assignment enum\n",
      "lambda_search enum\n",
      "max_iterations int\n",
      "objective_epsilon int\n",
      "gradient_epsilon real\n",
      "link enum\n",
      "lambda_min_ratio real\n",
      "obj_reg real\n"
     ]
    }
   ],
   "source": [
    "ranges = []\n",
    "for key,val in df.types.items():\n",
    "    print(key,val)\n",
    "    if val == 'int': \n",
    "         ranges.append([key,[df[key].min(),df[key].max()]])\n",
    "    if val == 'real':\n",
    "         ranges.append([key,[df[key].min(),df[key].max()]])"
   ]
  },
  {
   "cell_type": "code",
   "execution_count": 210,
   "metadata": {},
   "outputs": [
    {
     "data": {
      "text/plain": [
       "[['glm_id', [1.0, 6.0]],\n",
       " ['nfolds', [5.0, 5.0]],\n",
       " ['seed', [-5.91e+18, 6.33e+18]],\n",
       " ['max_iterations', [300.0, 300.0]],\n",
       " ['objective_epsilon', [300.0, 300.0]],\n",
       " ['gradient_epsilon', [1e-06, 1e-06]],\n",
       " ['lambda_min_ratio', [0.0001, 0.0001]],\n",
       " ['obj_reg', [6.91e-05, 6.91e-05]]]"
      ]
     },
     "execution_count": 210,
     "metadata": {},
     "output_type": "execute_result"
    }
   ],
   "source": [
    "ranges"
   ]
  },
  {
   "cell_type": "markdown",
   "metadata": {},
   "source": [
    "In GLM Grid Search , the only parameters that are accepted are seed from the above list. "
   ]
  },
  {
   "cell_type": "markdown",
   "metadata": {},
   "source": [
    "__XRT__\n",
    "\n",
    "Importing XRT hyperparameter file for the analysis."
   ]
  },
  {
   "cell_type": "code",
   "execution_count": 186,
   "metadata": {},
   "outputs": [
    {
     "name": "stdout",
     "output_type": "stream",
     "text": [
      "Parse progress: |█████████████████████████████████████████████████████████| 100%\n"
     ]
    }
   ],
   "source": [
    "#importing the file\n",
    "df = h2o.import_file(path=\"XRT.csv\")"
   ]
  },
  {
   "cell_type": "code",
   "execution_count": 187,
   "metadata": {},
   "outputs": [
    {
     "data": {
      "text/html": [
       "<table>\n",
       "<thead>\n",
       "<tr><th style=\"text-align: right;\">  xrt_id</th><th>name                        </th><th style=\"text-align: right;\">  nfolds</th><th style=\"text-align: right;\">     seed</th><th>kc_val_mo  </th><th>kc_val_pr  </th><th>fold_assignment  </th><th style=\"text-align: right;\">  ntrees</th><th style=\"text-align: right;\">  distributionstopping_metric</th><th style=\"text-align: right;\">  stopping_tolerance</th><th>histogram_type  </th></tr>\n",
       "</thead>\n",
       "<tbody>\n",
       "<tr><td style=\"text-align: right;\">       1</td><td>XRT_1_AutoML_20190418_132524</td><td style=\"text-align: right;\">       5</td><td style=\"text-align: right;\">-6.68e+18</td><td>FALSE      </td><td>TRUE       </td><td>Modulo           </td><td style=\"text-align: right;\">      32</td><td style=\"text-align: right;\">                          nan</td><td style=\"text-align: right;\">            0.008312</td><td>Random          </td></tr>\n",
       "<tr><td style=\"text-align: right;\">       2</td><td>XRT_1_AutoML_20190418_135050</td><td style=\"text-align: right;\">       5</td><td style=\"text-align: right;\"> 6.82e+18</td><td>FALSE      </td><td>TRUE       </td><td>Modulo           </td><td style=\"text-align: right;\">      46</td><td style=\"text-align: right;\">                          nan</td><td style=\"text-align: right;\">            0.008312</td><td>Random          </td></tr>\n",
       "<tr><td style=\"text-align: right;\">       3</td><td>XRT_1_AutoML_20190418_140346</td><td style=\"text-align: right;\">       5</td><td style=\"text-align: right;\"> 6.72e+18</td><td>FALSE      </td><td>TRUE       </td><td>Modulo           </td><td style=\"text-align: right;\">      14</td><td style=\"text-align: right;\">                          nan</td><td style=\"text-align: right;\">            0.008312</td><td>Random          </td></tr>\n",
       "<tr><td style=\"text-align: right;\">       4</td><td>XRT_1_AutoML_20190418_142243</td><td style=\"text-align: right;\">       5</td><td style=\"text-align: right;\"> 2.63e+18</td><td>FALSE      </td><td>TRUE       </td><td>Modulo           </td><td style=\"text-align: right;\">      18</td><td style=\"text-align: right;\">                          nan</td><td style=\"text-align: right;\">            0.008312</td><td>Random          </td></tr>\n",
       "<tr><td style=\"text-align: right;\">       5</td><td>XRT_1_AutoML_20190418_144229</td><td style=\"text-align: right;\">       5</td><td style=\"text-align: right;\"> 2.04e+18</td><td>FALSE      </td><td>TRUE       </td><td>Modulo           </td><td style=\"text-align: right;\">      50</td><td style=\"text-align: right;\">                          nan</td><td style=\"text-align: right;\">            0.008312</td><td>Random          </td></tr>\n",
       "<tr><td style=\"text-align: right;\">       6</td><td>XRT_1_AutoML_20190418_150256</td><td style=\"text-align: right;\">       5</td><td style=\"text-align: right;\">-7.04e+18</td><td>FALSE      </td><td>TRUE       </td><td>Modulo           </td><td style=\"text-align: right;\">      50</td><td style=\"text-align: right;\">                          nan</td><td style=\"text-align: right;\">            0.008312</td><td>Random          </td></tr>\n",
       "</tbody>\n",
       "</table>"
      ]
     },
     "metadata": {},
     "output_type": "display_data"
    },
    {
     "data": {
      "text/plain": []
     },
     "execution_count": 187,
     "metadata": {},
     "output_type": "execute_result"
    }
   ],
   "source": [
    "df.head()"
   ]
  },
  {
   "cell_type": "markdown",
   "metadata": {},
   "source": [
    "Stored the values of ntrees values in list for Grid Search"
   ]
  },
  {
   "cell_type": "code",
   "execution_count": 195,
   "metadata": {},
   "outputs": [
    {
     "data": {
      "text/plain": [
       "[32, 46, 14, 18, 50]"
      ]
     },
     "execution_count": 195,
     "metadata": {},
     "output_type": "execute_result"
    }
   ],
   "source": [
    "pd = df.as_data_frame()\n",
    "ntrees = pd['ntrees'].unique().tolist()\n"
   ]
  },
  {
   "cell_type": "markdown",
   "metadata": {},
   "source": [
    "__2 Trying to find the range of hyperparameters__"
   ]
  },
  {
   "cell_type": "code",
   "execution_count": 189,
   "metadata": {},
   "outputs": [
    {
     "data": {
      "text/plain": [
       "{'xrt_id': 'int',\n",
       " 'name': 'string',\n",
       " 'nfolds': 'int',\n",
       " 'seed': 'int',\n",
       " 'kc_val_mo': 'enum',\n",
       " 'kc_val_pr': 'enum',\n",
       " 'fold_assignment': 'enum',\n",
       " 'ntrees': 'int',\n",
       " 'distributionstopping_metric': 'int',\n",
       " 'stopping_tolerance': 'real',\n",
       " 'histogram_type': 'enum'}"
      ]
     },
     "execution_count": 189,
     "metadata": {},
     "output_type": "execute_result"
    }
   ],
   "source": [
    "df.types"
   ]
  },
  {
   "cell_type": "markdown",
   "metadata": {},
   "source": [
    "Here, we are finding the range of all the column which are numerical and added to a list called ranges."
   ]
  },
  {
   "cell_type": "code",
   "execution_count": 190,
   "metadata": {},
   "outputs": [
    {
     "name": "stdout",
     "output_type": "stream",
     "text": [
      "xrt_id int\n",
      "name string\n",
      "nfolds int\n",
      "seed int\n",
      "kc_val_mo enum\n",
      "kc_val_pr enum\n",
      "fold_assignment enum\n",
      "ntrees int\n",
      "distributionstopping_metric int\n",
      "stopping_tolerance real\n",
      "histogram_type enum\n"
     ]
    }
   ],
   "source": [
    "ranges = []\n",
    "for key,val in df.types.items():\n",
    "    print(key,val)\n",
    "    if val == 'int': \n",
    "         ranges.append([key,[df[key].min(),df[key].max()]])\n",
    "    if val == 'real':\n",
    "         ranges.append([key,[df[key].min(),df[key].max()]])"
   ]
  },
  {
   "cell_type": "code",
   "execution_count": 191,
   "metadata": {},
   "outputs": [
    {
     "data": {
      "text/plain": [
       "[['xrt_id', [1.0, 6.0]],\n",
       " ['nfolds', [5.0, 5.0]],\n",
       " ['seed', [-7.04e+18, 6.82e+18]],\n",
       " ['ntrees', [14.0, 50.0]],\n",
       " ['distributionstopping_metric', [nan, nan]],\n",
       " ['stopping_tolerance', [0.008312003, 0.008312003]]]"
      ]
     },
     "execution_count": 191,
     "metadata": {},
     "output_type": "execute_result"
    }
   ],
   "source": [
    "ranges"
   ]
  },
  {
   "cell_type": "markdown",
   "metadata": {},
   "source": [
    "Tried to do normal Grid Search to find important hyperparameter in ntrees but it did not work "
   ]
  },
  {
   "cell_type": "code",
   "execution_count": 196,
   "metadata": {},
   "outputs": [],
   "source": [
    "from sklearn.ensemble import ExtraTreesRegressor\n",
    "from sklearn.model_selection import GridSearchCV\n",
    "# Create the parameter grid based on the results of random search \n",
    "param_grid = {\n",
    "    'ntrees' : [32, 46, 14, 18, 50]\n",
    "\n",
    "}\n",
    "# Create a based model\n",
    "etr = ExtraTreesRegressor()\n",
    "# Instantiate the grid search model\n",
    "reg = GridSearchCV(estimator = etr, param_grid = param_grid, \n",
    "                          cv = 3, n_jobs = -1, verbose = 2)"
   ]
  },
  {
   "cell_type": "markdown",
   "metadata": {},
   "source": [
    "__DRF__"
   ]
  },
  {
   "cell_type": "code",
   "execution_count": 25,
   "metadata": {},
   "outputs": [
    {
     "name": "stdout",
     "output_type": "stream",
     "text": [
      "Parse progress: |█████████████████████████████████████████████████████████| 100%\n"
     ]
    }
   ],
   "source": [
    "#importing the file\n",
    "df = h2o.import_file(path=\"DRF.csv\")"
   ]
  },
  {
   "cell_type": "code",
   "execution_count": 26,
   "metadata": {},
   "outputs": [
    {
     "data": {
      "text/html": [
       "<table>\n",
       "<thead>\n",
       "<tr><th style=\"text-align: right;\">  drf_id</th><th>name                        </th><th style=\"text-align: right;\">  nfolds</th><th>keep_cross_validation_models  </th><th>keep_cross_validation_predictions  </th><th>fold_assignment  </th><th>stopping_metric  </th><th style=\"text-align: right;\">  stopping_tolerance</th><th style=\"text-align: right;\">     seed</th><th>distribution  </th></tr>\n",
       "</thead>\n",
       "<tbody>\n",
       "<tr><td style=\"text-align: right;\">       1</td><td>DRF_1_AutoML_20190418_132524</td><td style=\"text-align: right;\">       5</td><td>FALSE                         </td><td>TRUE                               </td><td>Modulo           </td><td>AUTO             </td><td style=\"text-align: right;\">            0.008312</td><td style=\"text-align: right;\">-6.25e+18</td><td>gaussian      </td></tr>\n",
       "<tr><td style=\"text-align: right;\">       2</td><td>DRF_1_AutoML_20190418_135050</td><td style=\"text-align: right;\">       5</td><td>FALSE                         </td><td>TRUE                               </td><td>Modulo           </td><td>deviance         </td><td style=\"text-align: right;\">            0.008312</td><td style=\"text-align: right;\">-4.44e+18</td><td>gaussian      </td></tr>\n",
       "<tr><td style=\"text-align: right;\">       3</td><td>DRF_1_AutoML_20190418_140346</td><td style=\"text-align: right;\">       5</td><td>FALSE                         </td><td>TRUE                               </td><td>Modulo           </td><td>deviance         </td><td style=\"text-align: right;\">            0.008312</td><td style=\"text-align: right;\"> 2.36e+18</td><td>gaussian      </td></tr>\n",
       "<tr><td style=\"text-align: right;\">       4</td><td>DRF_1_AutoML_20190418_142243</td><td style=\"text-align: right;\">       5</td><td>FALSE                         </td><td>TRUE                               </td><td>Modulo           </td><td>deviance         </td><td style=\"text-align: right;\">            0.008312</td><td style=\"text-align: right;\">-1.13e+18</td><td>gaussian      </td></tr>\n",
       "<tr><td style=\"text-align: right;\">       5</td><td>DRF_1_AutoML_20190418_144229</td><td style=\"text-align: right;\">       5</td><td>FALSE                         </td><td>TRUE                               </td><td>Modulo           </td><td>deviance         </td><td style=\"text-align: right;\">            0.008312</td><td style=\"text-align: right;\"> 3.86e+18</td><td>gaussian      </td></tr>\n",
       "<tr><td style=\"text-align: right;\">       6</td><td>DRF_1_AutoML_20190418_150256</td><td style=\"text-align: right;\">       5</td><td>FALSE                         </td><td>TRUE                               </td><td>Modulo           </td><td>deviance         </td><td style=\"text-align: right;\">            0.008312</td><td style=\"text-align: right;\"> 8.56e+18</td><td>gaussian      </td></tr>\n",
       "</tbody>\n",
       "</table>"
      ]
     },
     "metadata": {},
     "output_type": "display_data"
    },
    {
     "data": {
      "text/plain": []
     },
     "execution_count": 26,
     "metadata": {},
     "output_type": "execute_result"
    }
   ],
   "source": [
    "df.head()"
   ]
  },
  {
   "cell_type": "markdown",
   "metadata": {},
   "source": [
    "__2 Trying to find the range of hyperparameters__"
   ]
  },
  {
   "cell_type": "code",
   "execution_count": 27,
   "metadata": {},
   "outputs": [
    {
     "data": {
      "text/plain": [
       "{'drf_id': 'int',\n",
       " 'name': 'string',\n",
       " 'nfolds': 'int',\n",
       " 'keep_cross_validation_models': 'enum',\n",
       " 'keep_cross_validation_predictions': 'enum',\n",
       " 'fold_assignment': 'enum',\n",
       " 'stopping_metric': 'enum',\n",
       " 'stopping_tolerance': 'real',\n",
       " 'seed': 'int',\n",
       " 'distribution': 'enum'}"
      ]
     },
     "execution_count": 27,
     "metadata": {},
     "output_type": "execute_result"
    }
   ],
   "source": [
    "df.types"
   ]
  },
  {
   "cell_type": "markdown",
   "metadata": {},
   "source": [
    "Here, we are finding the range of all the column which are numerical and added to a list called ranges."
   ]
  },
  {
   "cell_type": "code",
   "execution_count": 28,
   "metadata": {},
   "outputs": [
    {
     "name": "stdout",
     "output_type": "stream",
     "text": [
      "drf_id int\n",
      "name string\n",
      "nfolds int\n",
      "keep_cross_validation_models enum\n",
      "keep_cross_validation_predictions enum\n",
      "fold_assignment enum\n",
      "stopping_metric enum\n",
      "stopping_tolerance real\n",
      "seed int\n",
      "distribution enum\n"
     ]
    }
   ],
   "source": [
    "ranges = []\n",
    "for key,val in df.types.items():\n",
    "    print(key,val)\n",
    "    if val == 'int': \n",
    "         ranges.append([key,[df[key].min(),df[key].max()]])\n",
    "    if val == 'real':\n",
    "         ranges.append([key,[df[key].min(),df[key].max()]])"
   ]
  },
  {
   "cell_type": "code",
   "execution_count": 29,
   "metadata": {},
   "outputs": [
    {
     "data": {
      "text/plain": [
       "[['drf_id', [1.0, 6.0]],\n",
       " ['nfolds', [5.0, 5.0]],\n",
       " ['stopping_tolerance', [0.008312003, 0.008312003]],\n",
       " ['seed', [-6.25e+18, 8.56e+18]]]"
      ]
     },
     "execution_count": 29,
     "metadata": {},
     "output_type": "execute_result"
    }
   ],
   "source": [
    "ranges"
   ]
  },
  {
   "cell_type": "markdown",
   "metadata": {},
   "source": [
    "Parameters which are supported by grid search for DRF are mtries and categorical_encoding are not present in DRF file to perform GridSearch "
   ]
  },
  {
   "cell_type": "markdown",
   "metadata": {},
   "source": [
    "__3 Compare the range of values across the models for different hyperparameters__ :\n",
    "\n",
    "1 nfolds \n",
    "\n",
    "nfolds value is same for all the algorithms  \n",
    "\n",
    "2 seed \n",
    "\n",
    "seed value ranged from -9e+18 to 8.93e+18 across the models for all the algorithmns\n",
    "\n",
    "3 stopping_tolerance\n",
    "\n",
    "It is present is all the algorithmns except GLM and its value is 0.008312003 for all models\n",
    "\n",
    "4 ntrees\n",
    "\n",
    "ntress are the hyperparameters for only XGBoost and XRT and the range for XGBoost is from 13 to 276 while for XRT is form 15 to 50 \n",
    "\n",
    "XGboost and GBM has some same hyperparameters such as max_depth, min_rows, sample_rate\n",
    "\n",
    "- max_depth ranges for both algorithms are almost similar XGBoost - (5,20) & GBM - (3,16)\n",
    "\n",
    "- min_rows - XGboost values varied from 0.01 to 20 while for GBM its from 3 to 16  \n",
    "\n",
    "- sample_rate - both algorithmns are same sample_rate of 0.5 to 1 \n",
    "\n",
    "\n",
    "\n"
   ]
  }
 ],
 "metadata": {
  "kernelspec": {
   "display_name": "Python 3",
   "language": "python",
   "name": "python3"
  },
  "language_info": {
   "codemirror_mode": {
    "name": "ipython",
    "version": 3
   },
   "file_extension": ".py",
   "mimetype": "text/x-python",
   "name": "python",
   "nbconvert_exporter": "python",
   "pygments_lexer": "ipython3",
   "version": "3.7.1"
  }
 },
 "nbformat": 4,
 "nbformat_minor": 2
}
